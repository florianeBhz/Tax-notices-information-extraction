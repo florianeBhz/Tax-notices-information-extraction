{
 "cells": [
  {
   "cell_type": "code",
   "execution_count": 12,
   "metadata": {},
   "outputs": [],
   "source": [
    "\n",
    "from geopy.geocoders import Nominatim\n",
    "import pandas as pd\n",
    "import numpy as np\n",
    "import matplotlib.pyplot as plt\n",
    "import seaborn as sns\n",
    "import config\n",
    "import re\n",
    "import plotly.express as px\n"
   ]
  },
  {
   "cell_type": "code",
   "execution_count": 7,
   "metadata": {},
   "outputs": [],
   "source": [
    "# Répartition géographique des déclarants\n",
    "geolocator = Nominatim(user_agent=\"my_user_agent\")\n",
    "\n",
    "taxes = pd.read_csv(config.EXTRACTION_FILE)\n",
    "taxes = taxes.dropna(subset=['adresse','revenu_fiscal_de_ref'])\n",
    "\n",
    "taxes['postal_code'] = taxes['adresse'].apply(\n",
    "    lambda x:re.search(r'[0-9]{5}',x).group(0)[:2] if x != \"\" else \"\")\n",
    "\n",
    "taxes['localisation'] = taxes['postal_code'].apply(\n",
    "    lambda x:(geolocator.geocode(x+' France').latitude,\n",
    "    geolocator.geocode(x+' France').longitude) if geolocator.geocode(x+' France') else ())\n"
   ]
  },
  {
   "cell_type": "code",
   "execution_count": 8,
   "metadata": {},
   "outputs": [
    {
     "data": {
      "text/html": [
       "<div>\n",
       "<style scoped>\n",
       "    .dataframe tbody tr th:only-of-type {\n",
       "        vertical-align: middle;\n",
       "    }\n",
       "\n",
       "    .dataframe tbody tr th {\n",
       "        vertical-align: top;\n",
       "    }\n",
       "\n",
       "    .dataframe thead th {\n",
       "        text-align: right;\n",
       "    }\n",
       "</style>\n",
       "<table border=\"1\" class=\"dataframe\">\n",
       "  <thead>\n",
       "    <tr style=\"text-align: right;\">\n",
       "      <th></th>\n",
       "      <th>postal_code</th>\n",
       "      <th>localisation</th>\n",
       "      <th>Unnamed: 0</th>\n",
       "      <th>id_doc</th>\n",
       "      <th>nom</th>\n",
       "      <th>prenom</th>\n",
       "      <th>adresse</th>\n",
       "      <th>num_fiscal</th>\n",
       "      <th>mtnt_impot</th>\n",
       "      <th>revenu_fiscal_de_ref</th>\n",
       "      <th>nb_parts</th>\n",
       "    </tr>\n",
       "  </thead>\n",
       "  <tbody>\n",
       "    <tr>\n",
       "      <th>0</th>\n",
       "      <td>03100</td>\n",
       "      <td>(46.343920965742576, 2.5941275596039604)</td>\n",
       "      <td>1</td>\n",
       "      <td>1</td>\n",
       "      <td>1</td>\n",
       "      <td>1</td>\n",
       "      <td>1</td>\n",
       "      <td>1</td>\n",
       "      <td>1</td>\n",
       "      <td>1</td>\n",
       "      <td>1</td>\n",
       "    </tr>\n",
       "    <tr>\n",
       "      <th>1</th>\n",
       "      <td>06200</td>\n",
       "      <td>(43.67991951400966, 7.21034937294686)</td>\n",
       "      <td>1</td>\n",
       "      <td>1</td>\n",
       "      <td>1</td>\n",
       "      <td>1</td>\n",
       "      <td>1</td>\n",
       "      <td>1</td>\n",
       "      <td>1</td>\n",
       "      <td>1</td>\n",
       "      <td>1</td>\n",
       "    </tr>\n",
       "    <tr>\n",
       "      <th>2</th>\n",
       "      <td>12000</td>\n",
       "      <td>(44.3533693705088, 2.572108105787316)</td>\n",
       "      <td>1</td>\n",
       "      <td>1</td>\n",
       "      <td>1</td>\n",
       "      <td>1</td>\n",
       "      <td>1</td>\n",
       "      <td>1</td>\n",
       "      <td>1</td>\n",
       "      <td>1</td>\n",
       "      <td>1</td>\n",
       "    </tr>\n",
       "    <tr>\n",
       "      <th>3</th>\n",
       "      <td>17100</td>\n",
       "      <td>(45.749085251543214, -0.625786249691358)</td>\n",
       "      <td>2</td>\n",
       "      <td>2</td>\n",
       "      <td>2</td>\n",
       "      <td>2</td>\n",
       "      <td>2</td>\n",
       "      <td>2</td>\n",
       "      <td>2</td>\n",
       "      <td>2</td>\n",
       "      <td>2</td>\n",
       "    </tr>\n",
       "    <tr>\n",
       "      <th>4</th>\n",
       "      <td>21000</td>\n",
       "      <td>(47.32602162039587, 5.044862341049914)</td>\n",
       "      <td>1</td>\n",
       "      <td>1</td>\n",
       "      <td>1</td>\n",
       "      <td>1</td>\n",
       "      <td>1</td>\n",
       "      <td>1</td>\n",
       "      <td>1</td>\n",
       "      <td>1</td>\n",
       "      <td>1</td>\n",
       "    </tr>\n",
       "    <tr>\n",
       "      <th>5</th>\n",
       "      <td>23000</td>\n",
       "      <td>(46.1694846633987, 1.8738597366013072)</td>\n",
       "      <td>1</td>\n",
       "      <td>1</td>\n",
       "      <td>1</td>\n",
       "      <td>1</td>\n",
       "      <td>1</td>\n",
       "      <td>1</td>\n",
       "      <td>1</td>\n",
       "      <td>1</td>\n",
       "      <td>1</td>\n",
       "    </tr>\n",
       "    <tr>\n",
       "      <th>6</th>\n",
       "      <td>42300</td>\n",
       "      <td>(46.03398703072626, 4.06130756424581)</td>\n",
       "      <td>2</td>\n",
       "      <td>2</td>\n",
       "      <td>2</td>\n",
       "      <td>2</td>\n",
       "      <td>2</td>\n",
       "      <td>2</td>\n",
       "      <td>2</td>\n",
       "      <td>2</td>\n",
       "      <td>2</td>\n",
       "    </tr>\n",
       "    <tr>\n",
       "      <th>7</th>\n",
       "      <td>44120</td>\n",
       "      <td>(47.170683992145285, -1.4814683448638004)</td>\n",
       "      <td>1</td>\n",
       "      <td>1</td>\n",
       "      <td>1</td>\n",
       "      <td>1</td>\n",
       "      <td>1</td>\n",
       "      <td>1</td>\n",
       "      <td>1</td>\n",
       "      <td>1</td>\n",
       "      <td>1</td>\n",
       "    </tr>\n",
       "    <tr>\n",
       "      <th>8</th>\n",
       "      <td>47300</td>\n",
       "      <td>(44.40285866962025, 0.6984636405063291)</td>\n",
       "      <td>1</td>\n",
       "      <td>1</td>\n",
       "      <td>1</td>\n",
       "      <td>1</td>\n",
       "      <td>1</td>\n",
       "      <td>1</td>\n",
       "      <td>1</td>\n",
       "      <td>1</td>\n",
       "      <td>1</td>\n",
       "    </tr>\n",
       "    <tr>\n",
       "      <th>9</th>\n",
       "      <td>59150</td>\n",
       "      <td>(50.666671085436896, 3.2044113699029126)</td>\n",
       "      <td>1</td>\n",
       "      <td>1</td>\n",
       "      <td>1</td>\n",
       "      <td>1</td>\n",
       "      <td>1</td>\n",
       "      <td>1</td>\n",
       "      <td>1</td>\n",
       "      <td>1</td>\n",
       "      <td>1</td>\n",
       "    </tr>\n",
       "    <tr>\n",
       "      <th>10</th>\n",
       "      <td>59430</td>\n",
       "      <td>(51.030216071255474, 2.3360881808467155)</td>\n",
       "      <td>2</td>\n",
       "      <td>2</td>\n",
       "      <td>2</td>\n",
       "      <td>2</td>\n",
       "      <td>2</td>\n",
       "      <td>2</td>\n",
       "      <td>2</td>\n",
       "      <td>2</td>\n",
       "      <td>2</td>\n",
       "    </tr>\n",
       "    <tr>\n",
       "      <th>11</th>\n",
       "      <td>59493</td>\n",
       "      <td>(50.617581256407384, 3.160661562003358)</td>\n",
       "      <td>1</td>\n",
       "      <td>1</td>\n",
       "      <td>1</td>\n",
       "      <td>1</td>\n",
       "      <td>1</td>\n",
       "      <td>1</td>\n",
       "      <td>1</td>\n",
       "      <td>1</td>\n",
       "      <td>1</td>\n",
       "    </tr>\n",
       "    <tr>\n",
       "      <th>12</th>\n",
       "      <td>67100</td>\n",
       "      <td>(48.564802359375, 7.761151783482143)</td>\n",
       "      <td>1</td>\n",
       "      <td>1</td>\n",
       "      <td>1</td>\n",
       "      <td>1</td>\n",
       "      <td>1</td>\n",
       "      <td>1</td>\n",
       "      <td>1</td>\n",
       "      <td>1</td>\n",
       "      <td>1</td>\n",
       "    </tr>\n",
       "    <tr>\n",
       "      <th>13</th>\n",
       "      <td>68300</td>\n",
       "      <td>(47.59992181988906, 7.545658327892235)</td>\n",
       "      <td>1</td>\n",
       "      <td>1</td>\n",
       "      <td>1</td>\n",
       "      <td>1</td>\n",
       "      <td>1</td>\n",
       "      <td>1</td>\n",
       "      <td>1</td>\n",
       "      <td>1</td>\n",
       "      <td>1</td>\n",
       "    </tr>\n",
       "    <tr>\n",
       "      <th>14</th>\n",
       "      <td>69009</td>\n",
       "      <td>(45.7793905476923, 4.808316235384615)</td>\n",
       "      <td>1</td>\n",
       "      <td>1</td>\n",
       "      <td>1</td>\n",
       "      <td>1</td>\n",
       "      <td>1</td>\n",
       "      <td>1</td>\n",
       "      <td>1</td>\n",
       "      <td>1</td>\n",
       "      <td>1</td>\n",
       "    </tr>\n",
       "    <tr>\n",
       "      <th>15</th>\n",
       "      <td>75014</td>\n",
       "      <td>(48.83052208621908, 2.325264245229682)</td>\n",
       "      <td>1</td>\n",
       "      <td>1</td>\n",
       "      <td>1</td>\n",
       "      <td>1</td>\n",
       "      <td>1</td>\n",
       "      <td>1</td>\n",
       "      <td>1</td>\n",
       "      <td>1</td>\n",
       "      <td>1</td>\n",
       "    </tr>\n",
       "    <tr>\n",
       "      <th>16</th>\n",
       "      <td>76120</td>\n",
       "      <td>(49.41068287234042, 1.0543792442553193)</td>\n",
       "      <td>1</td>\n",
       "      <td>1</td>\n",
       "      <td>1</td>\n",
       "      <td>1</td>\n",
       "      <td>1</td>\n",
       "      <td>1</td>\n",
       "      <td>1</td>\n",
       "      <td>1</td>\n",
       "      <td>1</td>\n",
       "    </tr>\n",
       "    <tr>\n",
       "      <th>17</th>\n",
       "      <td>76130</td>\n",
       "      <td>(49.46224712647059, 1.0810455288235294)</td>\n",
       "      <td>1</td>\n",
       "      <td>1</td>\n",
       "      <td>1</td>\n",
       "      <td>1</td>\n",
       "      <td>1</td>\n",
       "      <td>1</td>\n",
       "      <td>1</td>\n",
       "      <td>1</td>\n",
       "      <td>1</td>\n",
       "    </tr>\n",
       "    <tr>\n",
       "      <th>18</th>\n",
       "      <td>77000</td>\n",
       "      <td>(48.53976241396104, 2.6609884068181815)</td>\n",
       "      <td>1</td>\n",
       "      <td>1</td>\n",
       "      <td>1</td>\n",
       "      <td>1</td>\n",
       "      <td>1</td>\n",
       "      <td>1</td>\n",
       "      <td>1</td>\n",
       "      <td>1</td>\n",
       "      <td>1</td>\n",
       "    </tr>\n",
       "    <tr>\n",
       "      <th>19</th>\n",
       "      <td>77190</td>\n",
       "      <td>(48.51373047936508, 2.6263972015873014)</td>\n",
       "      <td>1</td>\n",
       "      <td>1</td>\n",
       "      <td>1</td>\n",
       "      <td>1</td>\n",
       "      <td>1</td>\n",
       "      <td>1</td>\n",
       "      <td>1</td>\n",
       "      <td>1</td>\n",
       "      <td>1</td>\n",
       "    </tr>\n",
       "    <tr>\n",
       "      <th>20</th>\n",
       "      <td>77270</td>\n",
       "      <td>(48.94721752252252, 2.6116859207207206)</td>\n",
       "      <td>1</td>\n",
       "      <td>1</td>\n",
       "      <td>1</td>\n",
       "      <td>1</td>\n",
       "      <td>1</td>\n",
       "      <td>1</td>\n",
       "      <td>1</td>\n",
       "      <td>1</td>\n",
       "      <td>1</td>\n",
       "    </tr>\n",
       "    <tr>\n",
       "      <th>21</th>\n",
       "      <td>78370</td>\n",
       "      <td>(48.82670767788461, 1.9502827048076925)</td>\n",
       "      <td>1</td>\n",
       "      <td>1</td>\n",
       "      <td>1</td>\n",
       "      <td>1</td>\n",
       "      <td>1</td>\n",
       "      <td>1</td>\n",
       "      <td>1</td>\n",
       "      <td>1</td>\n",
       "      <td>1</td>\n",
       "    </tr>\n",
       "    <tr>\n",
       "      <th>22</th>\n",
       "      <td>83000</td>\n",
       "      <td>(43.124507953935186, 5.935553993981482)</td>\n",
       "      <td>2</td>\n",
       "      <td>2</td>\n",
       "      <td>2</td>\n",
       "      <td>2</td>\n",
       "      <td>2</td>\n",
       "      <td>2</td>\n",
       "      <td>2</td>\n",
       "      <td>2</td>\n",
       "      <td>2</td>\n",
       "    </tr>\n",
       "    <tr>\n",
       "      <th>23</th>\n",
       "      <td>83300</td>\n",
       "      <td>(43.535091674499085, 6.45949938269581)</td>\n",
       "      <td>1</td>\n",
       "      <td>1</td>\n",
       "      <td>1</td>\n",
       "      <td>1</td>\n",
       "      <td>1</td>\n",
       "      <td>1</td>\n",
       "      <td>1</td>\n",
       "      <td>1</td>\n",
       "      <td>1</td>\n",
       "    </tr>\n",
       "    <tr>\n",
       "      <th>24</th>\n",
       "      <td>84000</td>\n",
       "      <td>(43.942038511734694, 4.816302055782313)</td>\n",
       "      <td>1</td>\n",
       "      <td>1</td>\n",
       "      <td>1</td>\n",
       "      <td>1</td>\n",
       "      <td>1</td>\n",
       "      <td>1</td>\n",
       "      <td>1</td>\n",
       "      <td>1</td>\n",
       "      <td>1</td>\n",
       "    </tr>\n",
       "    <tr>\n",
       "      <th>25</th>\n",
       "      <td>85000</td>\n",
       "      <td>(46.68087882882883, -1.4248904495495496)</td>\n",
       "      <td>1</td>\n",
       "      <td>1</td>\n",
       "      <td>1</td>\n",
       "      <td>1</td>\n",
       "      <td>1</td>\n",
       "      <td>1</td>\n",
       "      <td>1</td>\n",
       "      <td>1</td>\n",
       "      <td>1</td>\n",
       "    </tr>\n",
       "    <tr>\n",
       "      <th>26</th>\n",
       "      <td>92290</td>\n",
       "      <td>(48.770390244721405, 2.2644156473607038)</td>\n",
       "      <td>1</td>\n",
       "      <td>1</td>\n",
       "      <td>1</td>\n",
       "      <td>1</td>\n",
       "      <td>1</td>\n",
       "      <td>1</td>\n",
       "      <td>1</td>\n",
       "      <td>1</td>\n",
       "      <td>1</td>\n",
       "    </tr>\n",
       "    <tr>\n",
       "      <th>27</th>\n",
       "      <td>92360</td>\n",
       "      <td>(48.78758431699165, 2.2268341)</td>\n",
       "      <td>2</td>\n",
       "      <td>2</td>\n",
       "      <td>2</td>\n",
       "      <td>2</td>\n",
       "      <td>2</td>\n",
       "      <td>2</td>\n",
       "      <td>2</td>\n",
       "      <td>2</td>\n",
       "      <td>2</td>\n",
       "    </tr>\n",
       "    <tr>\n",
       "      <th>28</th>\n",
       "      <td>93120</td>\n",
       "      <td>(48.928050072727274, 2.3958811772727273)</td>\n",
       "      <td>1</td>\n",
       "      <td>1</td>\n",
       "      <td>1</td>\n",
       "      <td>1</td>\n",
       "      <td>1</td>\n",
       "      <td>1</td>\n",
       "      <td>1</td>\n",
       "      <td>1</td>\n",
       "      <td>1</td>\n",
       "    </tr>\n",
       "    <tr>\n",
       "      <th>29</th>\n",
       "      <td>93240</td>\n",
       "      <td>(48.95787334705882, 2.3779127529411763)</td>\n",
       "      <td>1</td>\n",
       "      <td>1</td>\n",
       "      <td>1</td>\n",
       "      <td>1</td>\n",
       "      <td>1</td>\n",
       "      <td>1</td>\n",
       "      <td>1</td>\n",
       "      <td>1</td>\n",
       "      <td>1</td>\n",
       "    </tr>\n",
       "    <tr>\n",
       "      <th>30</th>\n",
       "      <td>93400</td>\n",
       "      <td>(48.90810612112676, 2.336935809859155)</td>\n",
       "      <td>2</td>\n",
       "      <td>2</td>\n",
       "      <td>2</td>\n",
       "      <td>2</td>\n",
       "      <td>2</td>\n",
       "      <td>2</td>\n",
       "      <td>2</td>\n",
       "      <td>2</td>\n",
       "      <td>2</td>\n",
       "    </tr>\n",
       "    <tr>\n",
       "      <th>31</th>\n",
       "      <td>94270</td>\n",
       "      <td>(48.81232888924731, 2.3605547860215053)</td>\n",
       "      <td>2</td>\n",
       "      <td>2</td>\n",
       "      <td>2</td>\n",
       "      <td>2</td>\n",
       "      <td>2</td>\n",
       "      <td>2</td>\n",
       "      <td>2</td>\n",
       "      <td>2</td>\n",
       "      <td>2</td>\n",
       "    </tr>\n",
       "    <tr>\n",
       "      <th>32</th>\n",
       "      <td>95000</td>\n",
       "      <td>(49.039677245177664, 2.075704795431472)</td>\n",
       "      <td>1</td>\n",
       "      <td>1</td>\n",
       "      <td>1</td>\n",
       "      <td>1</td>\n",
       "      <td>1</td>\n",
       "      <td>1</td>\n",
       "      <td>1</td>\n",
       "      <td>1</td>\n",
       "      <td>1</td>\n",
       "    </tr>\n",
       "    <tr>\n",
       "      <th>33</th>\n",
       "      <td>95110</td>\n",
       "      <td>(48.972789140816325, 2.2535273408163263)</td>\n",
       "      <td>1</td>\n",
       "      <td>1</td>\n",
       "      <td>1</td>\n",
       "      <td>1</td>\n",
       "      <td>1</td>\n",
       "      <td>1</td>\n",
       "      <td>1</td>\n",
       "      <td>1</td>\n",
       "      <td>1</td>\n",
       "    </tr>\n",
       "    <tr>\n",
       "      <th>34</th>\n",
       "      <td>95800</td>\n",
       "      <td>(49.04604891674877, 2.0279781330049262)</td>\n",
       "      <td>1</td>\n",
       "      <td>1</td>\n",
       "      <td>1</td>\n",
       "      <td>1</td>\n",
       "      <td>1</td>\n",
       "      <td>1</td>\n",
       "      <td>1</td>\n",
       "      <td>1</td>\n",
       "      <td>1</td>\n",
       "    </tr>\n",
       "    <tr>\n",
       "      <th>35</th>\n",
       "      <td>97450</td>\n",
       "      <td>(-21.284639031999998, 55.408026076)</td>\n",
       "      <td>1</td>\n",
       "      <td>1</td>\n",
       "      <td>1</td>\n",
       "      <td>1</td>\n",
       "      <td>1</td>\n",
       "      <td>1</td>\n",
       "      <td>1</td>\n",
       "      <td>1</td>\n",
       "      <td>1</td>\n",
       "    </tr>\n",
       "  </tbody>\n",
       "</table>\n",
       "</div>"
      ],
      "text/plain": [
       "   postal_code                               localisation  Unnamed: 0  id_doc  \\\n",
       "0        03100   (46.343920965742576, 2.5941275596039604)           1       1   \n",
       "1        06200      (43.67991951400966, 7.21034937294686)           1       1   \n",
       "2        12000      (44.3533693705088, 2.572108105787316)           1       1   \n",
       "3        17100   (45.749085251543214, -0.625786249691358)           2       2   \n",
       "4        21000     (47.32602162039587, 5.044862341049914)           1       1   \n",
       "5        23000     (46.1694846633987, 1.8738597366013072)           1       1   \n",
       "6        42300      (46.03398703072626, 4.06130756424581)           2       2   \n",
       "7        44120  (47.170683992145285, -1.4814683448638004)           1       1   \n",
       "8        47300    (44.40285866962025, 0.6984636405063291)           1       1   \n",
       "9        59150   (50.666671085436896, 3.2044113699029126)           1       1   \n",
       "10       59430   (51.030216071255474, 2.3360881808467155)           2       2   \n",
       "11       59493    (50.617581256407384, 3.160661562003358)           1       1   \n",
       "12       67100       (48.564802359375, 7.761151783482143)           1       1   \n",
       "13       68300     (47.59992181988906, 7.545658327892235)           1       1   \n",
       "14       69009      (45.7793905476923, 4.808316235384615)           1       1   \n",
       "15       75014     (48.83052208621908, 2.325264245229682)           1       1   \n",
       "16       76120    (49.41068287234042, 1.0543792442553193)           1       1   \n",
       "17       76130    (49.46224712647059, 1.0810455288235294)           1       1   \n",
       "18       77000    (48.53976241396104, 2.6609884068181815)           1       1   \n",
       "19       77190    (48.51373047936508, 2.6263972015873014)           1       1   \n",
       "20       77270    (48.94721752252252, 2.6116859207207206)           1       1   \n",
       "21       78370    (48.82670767788461, 1.9502827048076925)           1       1   \n",
       "22       83000    (43.124507953935186, 5.935553993981482)           2       2   \n",
       "23       83300     (43.535091674499085, 6.45949938269581)           1       1   \n",
       "24       84000    (43.942038511734694, 4.816302055782313)           1       1   \n",
       "25       85000   (46.68087882882883, -1.4248904495495496)           1       1   \n",
       "26       92290   (48.770390244721405, 2.2644156473607038)           1       1   \n",
       "27       92360             (48.78758431699165, 2.2268341)           2       2   \n",
       "28       93120   (48.928050072727274, 2.3958811772727273)           1       1   \n",
       "29       93240    (48.95787334705882, 2.3779127529411763)           1       1   \n",
       "30       93400     (48.90810612112676, 2.336935809859155)           2       2   \n",
       "31       94270    (48.81232888924731, 2.3605547860215053)           2       2   \n",
       "32       95000    (49.039677245177664, 2.075704795431472)           1       1   \n",
       "33       95110   (48.972789140816325, 2.2535273408163263)           1       1   \n",
       "34       95800    (49.04604891674877, 2.0279781330049262)           1       1   \n",
       "35       97450        (-21.284639031999998, 55.408026076)           1       1   \n",
       "\n",
       "    nom  prenom  adresse  num_fiscal  mtnt_impot  revenu_fiscal_de_ref  \\\n",
       "0     1       1        1           1           1                     1   \n",
       "1     1       1        1           1           1                     1   \n",
       "2     1       1        1           1           1                     1   \n",
       "3     2       2        2           2           2                     2   \n",
       "4     1       1        1           1           1                     1   \n",
       "5     1       1        1           1           1                     1   \n",
       "6     2       2        2           2           2                     2   \n",
       "7     1       1        1           1           1                     1   \n",
       "8     1       1        1           1           1                     1   \n",
       "9     1       1        1           1           1                     1   \n",
       "10    2       2        2           2           2                     2   \n",
       "11    1       1        1           1           1                     1   \n",
       "12    1       1        1           1           1                     1   \n",
       "13    1       1        1           1           1                     1   \n",
       "14    1       1        1           1           1                     1   \n",
       "15    1       1        1           1           1                     1   \n",
       "16    1       1        1           1           1                     1   \n",
       "17    1       1        1           1           1                     1   \n",
       "18    1       1        1           1           1                     1   \n",
       "19    1       1        1           1           1                     1   \n",
       "20    1       1        1           1           1                     1   \n",
       "21    1       1        1           1           1                     1   \n",
       "22    2       2        2           2           2                     2   \n",
       "23    1       1        1           1           1                     1   \n",
       "24    1       1        1           1           1                     1   \n",
       "25    1       1        1           1           1                     1   \n",
       "26    1       1        1           1           1                     1   \n",
       "27    2       2        2           2           2                     2   \n",
       "28    1       1        1           1           1                     1   \n",
       "29    1       1        1           1           1                     1   \n",
       "30    2       2        2           2           2                     2   \n",
       "31    2       2        2           2           2                     2   \n",
       "32    1       1        1           1           1                     1   \n",
       "33    1       1        1           1           1                     1   \n",
       "34    1       1        1           1           1                     1   \n",
       "35    1       1        1           1           1                     1   \n",
       "\n",
       "    nb_parts  \n",
       "0          1  \n",
       "1          1  \n",
       "2          1  \n",
       "3          2  \n",
       "4          1  \n",
       "5          1  \n",
       "6          2  \n",
       "7          1  \n",
       "8          1  \n",
       "9          1  \n",
       "10         2  \n",
       "11         1  \n",
       "12         1  \n",
       "13         1  \n",
       "14         1  \n",
       "15         1  \n",
       "16         1  \n",
       "17         1  \n",
       "18         1  \n",
       "19         1  \n",
       "20         1  \n",
       "21         1  \n",
       "22         2  \n",
       "23         1  \n",
       "24         1  \n",
       "25         1  \n",
       "26         1  \n",
       "27         2  \n",
       "28         1  \n",
       "29         1  \n",
       "30         2  \n",
       "31         2  \n",
       "32         1  \n",
       "33         1  \n",
       "34         1  \n",
       "35         1  "
      ]
     },
     "execution_count": 8,
     "metadata": {},
     "output_type": "execute_result"
    }
   ],
   "source": [
    "count_per_area = taxes.groupby(['postal_code','localisation']).agg('count').reset_index()\n",
    "count_per_area"
   ]
  },
  {
   "cell_type": "code",
   "execution_count": 9,
   "metadata": {},
   "outputs": [
    {
     "ename": "ValueError",
     "evalue": "Mime type rendering requires nbformat>=4.2.0 but it is not installed",
     "output_type": "error",
     "traceback": [
      "\u001b[0;31m---------------------------------------------------------------------------\u001b[0m",
      "\u001b[0;31mValueError\u001b[0m                                Traceback (most recent call last)",
      "File \u001b[0;32m~/Documents/Projects/Tax-notices-information-extraction/env/lib/python3.8/site-packages/IPython/core/formatters.py:921\u001b[0m, in \u001b[0;36mIPythonDisplayFormatter.__call__\u001b[0;34m(self, obj)\u001b[0m\n\u001b[1;32m    919\u001b[0m method \u001b[39m=\u001b[39m get_real_method(obj, \u001b[39mself\u001b[39m\u001b[39m.\u001b[39mprint_method)\n\u001b[1;32m    920\u001b[0m \u001b[39mif\u001b[39;00m method \u001b[39mis\u001b[39;00m \u001b[39mnot\u001b[39;00m \u001b[39mNone\u001b[39;00m:\n\u001b[0;32m--> 921\u001b[0m     method()\n\u001b[1;32m    922\u001b[0m     \u001b[39mreturn\u001b[39;00m \u001b[39mTrue\u001b[39;00m\n",
      "File \u001b[0;32m~/Documents/Projects/Tax-notices-information-extraction/env/lib/python3.8/site-packages/plotly/basedatatypes.py:842\u001b[0m, in \u001b[0;36mBaseFigure._ipython_display_\u001b[0;34m(self)\u001b[0m\n\u001b[1;32m    839\u001b[0m \u001b[39mimport\u001b[39;00m \u001b[39mplotly\u001b[39;00m\u001b[39m.\u001b[39;00m\u001b[39mio\u001b[39;00m \u001b[39mas\u001b[39;00m \u001b[39mpio\u001b[39;00m\n\u001b[1;32m    841\u001b[0m \u001b[39mif\u001b[39;00m pio\u001b[39m.\u001b[39mrenderers\u001b[39m.\u001b[39mrender_on_display \u001b[39mand\u001b[39;00m pio\u001b[39m.\u001b[39mrenderers\u001b[39m.\u001b[39mdefault:\n\u001b[0;32m--> 842\u001b[0m     pio\u001b[39m.\u001b[39;49mshow(\u001b[39mself\u001b[39;49m)\n\u001b[1;32m    843\u001b[0m \u001b[39melse\u001b[39;00m:\n\u001b[1;32m    844\u001b[0m     \u001b[39mprint\u001b[39m(\u001b[39mrepr\u001b[39m(\u001b[39mself\u001b[39m))\n",
      "File \u001b[0;32m~/Documents/Projects/Tax-notices-information-extraction/env/lib/python3.8/site-packages/plotly/io/_renderers.py:396\u001b[0m, in \u001b[0;36mshow\u001b[0;34m(fig, renderer, validate, **kwargs)\u001b[0m\n\u001b[1;32m    391\u001b[0m         \u001b[39mraise\u001b[39;00m \u001b[39mValueError\u001b[39;00m(\n\u001b[1;32m    392\u001b[0m             \u001b[39m\"\u001b[39m\u001b[39mMime type rendering requires ipython but it is not installed\u001b[39m\u001b[39m\"\u001b[39m\n\u001b[1;32m    393\u001b[0m         )\n\u001b[1;32m    395\u001b[0m     \u001b[39mif\u001b[39;00m \u001b[39mnot\u001b[39;00m nbformat \u001b[39mor\u001b[39;00m LooseVersion(nbformat\u001b[39m.\u001b[39m__version__) \u001b[39m<\u001b[39m LooseVersion(\u001b[39m\"\u001b[39m\u001b[39m4.2.0\u001b[39m\u001b[39m\"\u001b[39m):\n\u001b[0;32m--> 396\u001b[0m         \u001b[39mraise\u001b[39;00m \u001b[39mValueError\u001b[39;00m(\n\u001b[1;32m    397\u001b[0m             \u001b[39m\"\u001b[39m\u001b[39mMime type rendering requires nbformat>=4.2.0 but it is not installed\u001b[39m\u001b[39m\"\u001b[39m\n\u001b[1;32m    398\u001b[0m         )\n\u001b[1;32m    400\u001b[0m     ipython_display\u001b[39m.\u001b[39mdisplay(bundle, raw\u001b[39m=\u001b[39m\u001b[39mTrue\u001b[39;00m)\n\u001b[1;32m    402\u001b[0m \u001b[39m# external renderers\u001b[39;00m\n",
      "\u001b[0;31mValueError\u001b[0m: Mime type rendering requires nbformat>=4.2.0 but it is not installed"
     ]
    },
    {
     "data": {
      "application/vnd.plotly.v1+json": {
       "config": {
        "plotlyServerURL": "https://plot.ly"
       },
       "data": [
        {
         "geo": "geo",
         "hovertemplate": "<b>%{hovertext}</b><br><br>postal_code=03100<br>nom=%{marker.size}<br>lat=%{lat}<br>lon=%{lon}<extra></extra>",
         "hovertext": [
          "03100"
         ],
         "lat": [
          46.343920965742576
         ],
         "legendgroup": "03100",
         "lon": [
          2.5941275596039604
         ],
         "marker": {
          "color": "#636efa",
          "size": [
           1
          ],
          "sizemode": "area",
          "sizeref": 0.005,
          "symbol": "circle"
         },
         "mode": "markers",
         "name": "03100",
         "showlegend": true,
         "type": "scattergeo"
        },
        {
         "geo": "geo",
         "hovertemplate": "<b>%{hovertext}</b><br><br>postal_code=06200<br>nom=%{marker.size}<br>lat=%{lat}<br>lon=%{lon}<extra></extra>",
         "hovertext": [
          "06200"
         ],
         "lat": [
          43.67991951400966
         ],
         "legendgroup": "06200",
         "lon": [
          7.21034937294686
         ],
         "marker": {
          "color": "#EF553B",
          "size": [
           1
          ],
          "sizemode": "area",
          "sizeref": 0.005,
          "symbol": "circle"
         },
         "mode": "markers",
         "name": "06200",
         "showlegend": true,
         "type": "scattergeo"
        },
        {
         "geo": "geo",
         "hovertemplate": "<b>%{hovertext}</b><br><br>postal_code=12000<br>nom=%{marker.size}<br>lat=%{lat}<br>lon=%{lon}<extra></extra>",
         "hovertext": [
          "12000"
         ],
         "lat": [
          44.3533693705088
         ],
         "legendgroup": "12000",
         "lon": [
          2.572108105787316
         ],
         "marker": {
          "color": "#00cc96",
          "size": [
           1
          ],
          "sizemode": "area",
          "sizeref": 0.005,
          "symbol": "circle"
         },
         "mode": "markers",
         "name": "12000",
         "showlegend": true,
         "type": "scattergeo"
        },
        {
         "geo": "geo",
         "hovertemplate": "<b>%{hovertext}</b><br><br>postal_code=17100<br>nom=%{marker.size}<br>lat=%{lat}<br>lon=%{lon}<extra></extra>",
         "hovertext": [
          "17100"
         ],
         "lat": [
          45.749085251543214
         ],
         "legendgroup": "17100",
         "lon": [
          -0.625786249691358
         ],
         "marker": {
          "color": "#ab63fa",
          "size": [
           2
          ],
          "sizemode": "area",
          "sizeref": 0.005,
          "symbol": "circle"
         },
         "mode": "markers",
         "name": "17100",
         "showlegend": true,
         "type": "scattergeo"
        },
        {
         "geo": "geo",
         "hovertemplate": "<b>%{hovertext}</b><br><br>postal_code=21000<br>nom=%{marker.size}<br>lat=%{lat}<br>lon=%{lon}<extra></extra>",
         "hovertext": [
          "21000"
         ],
         "lat": [
          47.32602162039587
         ],
         "legendgroup": "21000",
         "lon": [
          5.044862341049914
         ],
         "marker": {
          "color": "#FFA15A",
          "size": [
           1
          ],
          "sizemode": "area",
          "sizeref": 0.005,
          "symbol": "circle"
         },
         "mode": "markers",
         "name": "21000",
         "showlegend": true,
         "type": "scattergeo"
        },
        {
         "geo": "geo",
         "hovertemplate": "<b>%{hovertext}</b><br><br>postal_code=23000<br>nom=%{marker.size}<br>lat=%{lat}<br>lon=%{lon}<extra></extra>",
         "hovertext": [
          "23000"
         ],
         "lat": [
          46.1694846633987
         ],
         "legendgroup": "23000",
         "lon": [
          1.8738597366013072
         ],
         "marker": {
          "color": "#19d3f3",
          "size": [
           1
          ],
          "sizemode": "area",
          "sizeref": 0.005,
          "symbol": "circle"
         },
         "mode": "markers",
         "name": "23000",
         "showlegend": true,
         "type": "scattergeo"
        },
        {
         "geo": "geo",
         "hovertemplate": "<b>%{hovertext}</b><br><br>postal_code=42300<br>nom=%{marker.size}<br>lat=%{lat}<br>lon=%{lon}<extra></extra>",
         "hovertext": [
          "42300"
         ],
         "lat": [
          46.03398703072626
         ],
         "legendgroup": "42300",
         "lon": [
          4.06130756424581
         ],
         "marker": {
          "color": "#FF6692",
          "size": [
           2
          ],
          "sizemode": "area",
          "sizeref": 0.005,
          "symbol": "circle"
         },
         "mode": "markers",
         "name": "42300",
         "showlegend": true,
         "type": "scattergeo"
        },
        {
         "geo": "geo",
         "hovertemplate": "<b>%{hovertext}</b><br><br>postal_code=44120<br>nom=%{marker.size}<br>lat=%{lat}<br>lon=%{lon}<extra></extra>",
         "hovertext": [
          "44120"
         ],
         "lat": [
          47.170683992145285
         ],
         "legendgroup": "44120",
         "lon": [
          -1.4814683448638004
         ],
         "marker": {
          "color": "#B6E880",
          "size": [
           1
          ],
          "sizemode": "area",
          "sizeref": 0.005,
          "symbol": "circle"
         },
         "mode": "markers",
         "name": "44120",
         "showlegend": true,
         "type": "scattergeo"
        },
        {
         "geo": "geo",
         "hovertemplate": "<b>%{hovertext}</b><br><br>postal_code=47300<br>nom=%{marker.size}<br>lat=%{lat}<br>lon=%{lon}<extra></extra>",
         "hovertext": [
          "47300"
         ],
         "lat": [
          44.40285866962025
         ],
         "legendgroup": "47300",
         "lon": [
          0.6984636405063291
         ],
         "marker": {
          "color": "#FF97FF",
          "size": [
           1
          ],
          "sizemode": "area",
          "sizeref": 0.005,
          "symbol": "circle"
         },
         "mode": "markers",
         "name": "47300",
         "showlegend": true,
         "type": "scattergeo"
        },
        {
         "geo": "geo",
         "hovertemplate": "<b>%{hovertext}</b><br><br>postal_code=59150<br>nom=%{marker.size}<br>lat=%{lat}<br>lon=%{lon}<extra></extra>",
         "hovertext": [
          "59150"
         ],
         "lat": [
          50.666671085436896
         ],
         "legendgroup": "59150",
         "lon": [
          3.2044113699029126
         ],
         "marker": {
          "color": "#FECB52",
          "size": [
           1
          ],
          "sizemode": "area",
          "sizeref": 0.005,
          "symbol": "circle"
         },
         "mode": "markers",
         "name": "59150",
         "showlegend": true,
         "type": "scattergeo"
        },
        {
         "geo": "geo",
         "hovertemplate": "<b>%{hovertext}</b><br><br>postal_code=59430<br>nom=%{marker.size}<br>lat=%{lat}<br>lon=%{lon}<extra></extra>",
         "hovertext": [
          "59430"
         ],
         "lat": [
          51.030216071255474
         ],
         "legendgroup": "59430",
         "lon": [
          2.3360881808467155
         ],
         "marker": {
          "color": "#636efa",
          "size": [
           2
          ],
          "sizemode": "area",
          "sizeref": 0.005,
          "symbol": "circle"
         },
         "mode": "markers",
         "name": "59430",
         "showlegend": true,
         "type": "scattergeo"
        },
        {
         "geo": "geo",
         "hovertemplate": "<b>%{hovertext}</b><br><br>postal_code=59493<br>nom=%{marker.size}<br>lat=%{lat}<br>lon=%{lon}<extra></extra>",
         "hovertext": [
          "59493"
         ],
         "lat": [
          50.617581256407384
         ],
         "legendgroup": "59493",
         "lon": [
          3.160661562003358
         ],
         "marker": {
          "color": "#EF553B",
          "size": [
           1
          ],
          "sizemode": "area",
          "sizeref": 0.005,
          "symbol": "circle"
         },
         "mode": "markers",
         "name": "59493",
         "showlegend": true,
         "type": "scattergeo"
        },
        {
         "geo": "geo",
         "hovertemplate": "<b>%{hovertext}</b><br><br>postal_code=67100<br>nom=%{marker.size}<br>lat=%{lat}<br>lon=%{lon}<extra></extra>",
         "hovertext": [
          "67100"
         ],
         "lat": [
          48.564802359375
         ],
         "legendgroup": "67100",
         "lon": [
          7.761151783482143
         ],
         "marker": {
          "color": "#00cc96",
          "size": [
           1
          ],
          "sizemode": "area",
          "sizeref": 0.005,
          "symbol": "circle"
         },
         "mode": "markers",
         "name": "67100",
         "showlegend": true,
         "type": "scattergeo"
        },
        {
         "geo": "geo",
         "hovertemplate": "<b>%{hovertext}</b><br><br>postal_code=68300<br>nom=%{marker.size}<br>lat=%{lat}<br>lon=%{lon}<extra></extra>",
         "hovertext": [
          "68300"
         ],
         "lat": [
          47.59992181988906
         ],
         "legendgroup": "68300",
         "lon": [
          7.545658327892235
         ],
         "marker": {
          "color": "#ab63fa",
          "size": [
           1
          ],
          "sizemode": "area",
          "sizeref": 0.005,
          "symbol": "circle"
         },
         "mode": "markers",
         "name": "68300",
         "showlegend": true,
         "type": "scattergeo"
        },
        {
         "geo": "geo",
         "hovertemplate": "<b>%{hovertext}</b><br><br>postal_code=69009<br>nom=%{marker.size}<br>lat=%{lat}<br>lon=%{lon}<extra></extra>",
         "hovertext": [
          "69009"
         ],
         "lat": [
          45.7793905476923
         ],
         "legendgroup": "69009",
         "lon": [
          4.808316235384615
         ],
         "marker": {
          "color": "#FFA15A",
          "size": [
           1
          ],
          "sizemode": "area",
          "sizeref": 0.005,
          "symbol": "circle"
         },
         "mode": "markers",
         "name": "69009",
         "showlegend": true,
         "type": "scattergeo"
        },
        {
         "geo": "geo",
         "hovertemplate": "<b>%{hovertext}</b><br><br>postal_code=75014<br>nom=%{marker.size}<br>lat=%{lat}<br>lon=%{lon}<extra></extra>",
         "hovertext": [
          "75014"
         ],
         "lat": [
          48.83052208621908
         ],
         "legendgroup": "75014",
         "lon": [
          2.325264245229682
         ],
         "marker": {
          "color": "#19d3f3",
          "size": [
           1
          ],
          "sizemode": "area",
          "sizeref": 0.005,
          "symbol": "circle"
         },
         "mode": "markers",
         "name": "75014",
         "showlegend": true,
         "type": "scattergeo"
        },
        {
         "geo": "geo",
         "hovertemplate": "<b>%{hovertext}</b><br><br>postal_code=76120<br>nom=%{marker.size}<br>lat=%{lat}<br>lon=%{lon}<extra></extra>",
         "hovertext": [
          "76120"
         ],
         "lat": [
          49.41068287234042
         ],
         "legendgroup": "76120",
         "lon": [
          1.0543792442553193
         ],
         "marker": {
          "color": "#FF6692",
          "size": [
           1
          ],
          "sizemode": "area",
          "sizeref": 0.005,
          "symbol": "circle"
         },
         "mode": "markers",
         "name": "76120",
         "showlegend": true,
         "type": "scattergeo"
        },
        {
         "geo": "geo",
         "hovertemplate": "<b>%{hovertext}</b><br><br>postal_code=76130<br>nom=%{marker.size}<br>lat=%{lat}<br>lon=%{lon}<extra></extra>",
         "hovertext": [
          "76130"
         ],
         "lat": [
          49.46224712647059
         ],
         "legendgroup": "76130",
         "lon": [
          1.0810455288235294
         ],
         "marker": {
          "color": "#B6E880",
          "size": [
           1
          ],
          "sizemode": "area",
          "sizeref": 0.005,
          "symbol": "circle"
         },
         "mode": "markers",
         "name": "76130",
         "showlegend": true,
         "type": "scattergeo"
        },
        {
         "geo": "geo",
         "hovertemplate": "<b>%{hovertext}</b><br><br>postal_code=77000<br>nom=%{marker.size}<br>lat=%{lat}<br>lon=%{lon}<extra></extra>",
         "hovertext": [
          "77000"
         ],
         "lat": [
          48.53976241396104
         ],
         "legendgroup": "77000",
         "lon": [
          2.6609884068181815
         ],
         "marker": {
          "color": "#FF97FF",
          "size": [
           1
          ],
          "sizemode": "area",
          "sizeref": 0.005,
          "symbol": "circle"
         },
         "mode": "markers",
         "name": "77000",
         "showlegend": true,
         "type": "scattergeo"
        },
        {
         "geo": "geo",
         "hovertemplate": "<b>%{hovertext}</b><br><br>postal_code=77190<br>nom=%{marker.size}<br>lat=%{lat}<br>lon=%{lon}<extra></extra>",
         "hovertext": [
          "77190"
         ],
         "lat": [
          48.51373047936508
         ],
         "legendgroup": "77190",
         "lon": [
          2.6263972015873014
         ],
         "marker": {
          "color": "#FECB52",
          "size": [
           1
          ],
          "sizemode": "area",
          "sizeref": 0.005,
          "symbol": "circle"
         },
         "mode": "markers",
         "name": "77190",
         "showlegend": true,
         "type": "scattergeo"
        },
        {
         "geo": "geo",
         "hovertemplate": "<b>%{hovertext}</b><br><br>postal_code=77270<br>nom=%{marker.size}<br>lat=%{lat}<br>lon=%{lon}<extra></extra>",
         "hovertext": [
          "77270"
         ],
         "lat": [
          48.94721752252252
         ],
         "legendgroup": "77270",
         "lon": [
          2.6116859207207206
         ],
         "marker": {
          "color": "#636efa",
          "size": [
           1
          ],
          "sizemode": "area",
          "sizeref": 0.005,
          "symbol": "circle"
         },
         "mode": "markers",
         "name": "77270",
         "showlegend": true,
         "type": "scattergeo"
        },
        {
         "geo": "geo",
         "hovertemplate": "<b>%{hovertext}</b><br><br>postal_code=78370<br>nom=%{marker.size}<br>lat=%{lat}<br>lon=%{lon}<extra></extra>",
         "hovertext": [
          "78370"
         ],
         "lat": [
          48.82670767788461
         ],
         "legendgroup": "78370",
         "lon": [
          1.9502827048076925
         ],
         "marker": {
          "color": "#EF553B",
          "size": [
           1
          ],
          "sizemode": "area",
          "sizeref": 0.005,
          "symbol": "circle"
         },
         "mode": "markers",
         "name": "78370",
         "showlegend": true,
         "type": "scattergeo"
        },
        {
         "geo": "geo",
         "hovertemplate": "<b>%{hovertext}</b><br><br>postal_code=83000<br>nom=%{marker.size}<br>lat=%{lat}<br>lon=%{lon}<extra></extra>",
         "hovertext": [
          "83000"
         ],
         "lat": [
          43.124507953935186
         ],
         "legendgroup": "83000",
         "lon": [
          5.935553993981482
         ],
         "marker": {
          "color": "#00cc96",
          "size": [
           2
          ],
          "sizemode": "area",
          "sizeref": 0.005,
          "symbol": "circle"
         },
         "mode": "markers",
         "name": "83000",
         "showlegend": true,
         "type": "scattergeo"
        },
        {
         "geo": "geo",
         "hovertemplate": "<b>%{hovertext}</b><br><br>postal_code=83300<br>nom=%{marker.size}<br>lat=%{lat}<br>lon=%{lon}<extra></extra>",
         "hovertext": [
          "83300"
         ],
         "lat": [
          43.535091674499085
         ],
         "legendgroup": "83300",
         "lon": [
          6.45949938269581
         ],
         "marker": {
          "color": "#ab63fa",
          "size": [
           1
          ],
          "sizemode": "area",
          "sizeref": 0.005,
          "symbol": "circle"
         },
         "mode": "markers",
         "name": "83300",
         "showlegend": true,
         "type": "scattergeo"
        },
        {
         "geo": "geo",
         "hovertemplate": "<b>%{hovertext}</b><br><br>postal_code=84000<br>nom=%{marker.size}<br>lat=%{lat}<br>lon=%{lon}<extra></extra>",
         "hovertext": [
          "84000"
         ],
         "lat": [
          43.942038511734694
         ],
         "legendgroup": "84000",
         "lon": [
          4.816302055782313
         ],
         "marker": {
          "color": "#FFA15A",
          "size": [
           1
          ],
          "sizemode": "area",
          "sizeref": 0.005,
          "symbol": "circle"
         },
         "mode": "markers",
         "name": "84000",
         "showlegend": true,
         "type": "scattergeo"
        },
        {
         "geo": "geo",
         "hovertemplate": "<b>%{hovertext}</b><br><br>postal_code=85000<br>nom=%{marker.size}<br>lat=%{lat}<br>lon=%{lon}<extra></extra>",
         "hovertext": [
          "85000"
         ],
         "lat": [
          46.68087882882883
         ],
         "legendgroup": "85000",
         "lon": [
          -1.4248904495495496
         ],
         "marker": {
          "color": "#19d3f3",
          "size": [
           1
          ],
          "sizemode": "area",
          "sizeref": 0.005,
          "symbol": "circle"
         },
         "mode": "markers",
         "name": "85000",
         "showlegend": true,
         "type": "scattergeo"
        },
        {
         "geo": "geo",
         "hovertemplate": "<b>%{hovertext}</b><br><br>postal_code=92290<br>nom=%{marker.size}<br>lat=%{lat}<br>lon=%{lon}<extra></extra>",
         "hovertext": [
          "92290"
         ],
         "lat": [
          48.770390244721405
         ],
         "legendgroup": "92290",
         "lon": [
          2.2644156473607038
         ],
         "marker": {
          "color": "#FF6692",
          "size": [
           1
          ],
          "sizemode": "area",
          "sizeref": 0.005,
          "symbol": "circle"
         },
         "mode": "markers",
         "name": "92290",
         "showlegend": true,
         "type": "scattergeo"
        },
        {
         "geo": "geo",
         "hovertemplate": "<b>%{hovertext}</b><br><br>postal_code=92360<br>nom=%{marker.size}<br>lat=%{lat}<br>lon=%{lon}<extra></extra>",
         "hovertext": [
          "92360"
         ],
         "lat": [
          48.78758431699165
         ],
         "legendgroup": "92360",
         "lon": [
          2.2268341
         ],
         "marker": {
          "color": "#B6E880",
          "size": [
           2
          ],
          "sizemode": "area",
          "sizeref": 0.005,
          "symbol": "circle"
         },
         "mode": "markers",
         "name": "92360",
         "showlegend": true,
         "type": "scattergeo"
        },
        {
         "geo": "geo",
         "hovertemplate": "<b>%{hovertext}</b><br><br>postal_code=93120<br>nom=%{marker.size}<br>lat=%{lat}<br>lon=%{lon}<extra></extra>",
         "hovertext": [
          "93120"
         ],
         "lat": [
          48.928050072727274
         ],
         "legendgroup": "93120",
         "lon": [
          2.3958811772727273
         ],
         "marker": {
          "color": "#FF97FF",
          "size": [
           1
          ],
          "sizemode": "area",
          "sizeref": 0.005,
          "symbol": "circle"
         },
         "mode": "markers",
         "name": "93120",
         "showlegend": true,
         "type": "scattergeo"
        },
        {
         "geo": "geo",
         "hovertemplate": "<b>%{hovertext}</b><br><br>postal_code=93240<br>nom=%{marker.size}<br>lat=%{lat}<br>lon=%{lon}<extra></extra>",
         "hovertext": [
          "93240"
         ],
         "lat": [
          48.95787334705882
         ],
         "legendgroup": "93240",
         "lon": [
          2.3779127529411763
         ],
         "marker": {
          "color": "#FECB52",
          "size": [
           1
          ],
          "sizemode": "area",
          "sizeref": 0.005,
          "symbol": "circle"
         },
         "mode": "markers",
         "name": "93240",
         "showlegend": true,
         "type": "scattergeo"
        },
        {
         "geo": "geo",
         "hovertemplate": "<b>%{hovertext}</b><br><br>postal_code=93400<br>nom=%{marker.size}<br>lat=%{lat}<br>lon=%{lon}<extra></extra>",
         "hovertext": [
          "93400"
         ],
         "lat": [
          48.90810612112676
         ],
         "legendgroup": "93400",
         "lon": [
          2.336935809859155
         ],
         "marker": {
          "color": "#636efa",
          "size": [
           2
          ],
          "sizemode": "area",
          "sizeref": 0.005,
          "symbol": "circle"
         },
         "mode": "markers",
         "name": "93400",
         "showlegend": true,
         "type": "scattergeo"
        },
        {
         "geo": "geo",
         "hovertemplate": "<b>%{hovertext}</b><br><br>postal_code=94270<br>nom=%{marker.size}<br>lat=%{lat}<br>lon=%{lon}<extra></extra>",
         "hovertext": [
          "94270"
         ],
         "lat": [
          48.81232888924731
         ],
         "legendgroup": "94270",
         "lon": [
          2.3605547860215053
         ],
         "marker": {
          "color": "#EF553B",
          "size": [
           2
          ],
          "sizemode": "area",
          "sizeref": 0.005,
          "symbol": "circle"
         },
         "mode": "markers",
         "name": "94270",
         "showlegend": true,
         "type": "scattergeo"
        },
        {
         "geo": "geo",
         "hovertemplate": "<b>%{hovertext}</b><br><br>postal_code=95000<br>nom=%{marker.size}<br>lat=%{lat}<br>lon=%{lon}<extra></extra>",
         "hovertext": [
          "95000"
         ],
         "lat": [
          49.039677245177664
         ],
         "legendgroup": "95000",
         "lon": [
          2.075704795431472
         ],
         "marker": {
          "color": "#00cc96",
          "size": [
           1
          ],
          "sizemode": "area",
          "sizeref": 0.005,
          "symbol": "circle"
         },
         "mode": "markers",
         "name": "95000",
         "showlegend": true,
         "type": "scattergeo"
        },
        {
         "geo": "geo",
         "hovertemplate": "<b>%{hovertext}</b><br><br>postal_code=95110<br>nom=%{marker.size}<br>lat=%{lat}<br>lon=%{lon}<extra></extra>",
         "hovertext": [
          "95110"
         ],
         "lat": [
          48.972789140816325
         ],
         "legendgroup": "95110",
         "lon": [
          2.2535273408163263
         ],
         "marker": {
          "color": "#ab63fa",
          "size": [
           1
          ],
          "sizemode": "area",
          "sizeref": 0.005,
          "symbol": "circle"
         },
         "mode": "markers",
         "name": "95110",
         "showlegend": true,
         "type": "scattergeo"
        },
        {
         "geo": "geo",
         "hovertemplate": "<b>%{hovertext}</b><br><br>postal_code=95800<br>nom=%{marker.size}<br>lat=%{lat}<br>lon=%{lon}<extra></extra>",
         "hovertext": [
          "95800"
         ],
         "lat": [
          49.04604891674877
         ],
         "legendgroup": "95800",
         "lon": [
          2.0279781330049262
         ],
         "marker": {
          "color": "#FFA15A",
          "size": [
           1
          ],
          "sizemode": "area",
          "sizeref": 0.005,
          "symbol": "circle"
         },
         "mode": "markers",
         "name": "95800",
         "showlegend": true,
         "type": "scattergeo"
        },
        {
         "geo": "geo",
         "hovertemplate": "<b>%{hovertext}</b><br><br>postal_code=97450<br>nom=%{marker.size}<br>lat=%{lat}<br>lon=%{lon}<extra></extra>",
         "hovertext": [
          "97450"
         ],
         "lat": [
          -21.284639031999998
         ],
         "legendgroup": "97450",
         "lon": [
          55.408026076
         ],
         "marker": {
          "color": "#19d3f3",
          "size": [
           1
          ],
          "sizemode": "area",
          "sizeref": 0.005,
          "symbol": "circle"
         },
         "mode": "markers",
         "name": "97450",
         "showlegend": true,
         "type": "scattergeo"
        }
       ],
       "layout": {
        "geo": {
         "center": {},
         "domain": {
          "x": [
           0,
           1
          ],
          "y": [
           0,
           1
          ]
         }
        },
        "legend": {
         "itemsizing": "constant",
         "title": {
          "text": "postal_code"
         },
         "tracegroupgap": 0
        },
        "margin": {
         "t": 60
        },
        "template": {
         "data": {
          "bar": [
           {
            "error_x": {
             "color": "#2a3f5f"
            },
            "error_y": {
             "color": "#2a3f5f"
            },
            "marker": {
             "line": {
              "color": "#E5ECF6",
              "width": 0.5
             },
             "pattern": {
              "fillmode": "overlay",
              "size": 10,
              "solidity": 0.2
             }
            },
            "type": "bar"
           }
          ],
          "barpolar": [
           {
            "marker": {
             "line": {
              "color": "#E5ECF6",
              "width": 0.5
             },
             "pattern": {
              "fillmode": "overlay",
              "size": 10,
              "solidity": 0.2
             }
            },
            "type": "barpolar"
           }
          ],
          "carpet": [
           {
            "aaxis": {
             "endlinecolor": "#2a3f5f",
             "gridcolor": "white",
             "linecolor": "white",
             "minorgridcolor": "white",
             "startlinecolor": "#2a3f5f"
            },
            "baxis": {
             "endlinecolor": "#2a3f5f",
             "gridcolor": "white",
             "linecolor": "white",
             "minorgridcolor": "white",
             "startlinecolor": "#2a3f5f"
            },
            "type": "carpet"
           }
          ],
          "choropleth": [
           {
            "colorbar": {
             "outlinewidth": 0,
             "ticks": ""
            },
            "type": "choropleth"
           }
          ],
          "contour": [
           {
            "colorbar": {
             "outlinewidth": 0,
             "ticks": ""
            },
            "colorscale": [
             [
              0,
              "#0d0887"
             ],
             [
              0.1111111111111111,
              "#46039f"
             ],
             [
              0.2222222222222222,
              "#7201a8"
             ],
             [
              0.3333333333333333,
              "#9c179e"
             ],
             [
              0.4444444444444444,
              "#bd3786"
             ],
             [
              0.5555555555555556,
              "#d8576b"
             ],
             [
              0.6666666666666666,
              "#ed7953"
             ],
             [
              0.7777777777777778,
              "#fb9f3a"
             ],
             [
              0.8888888888888888,
              "#fdca26"
             ],
             [
              1,
              "#f0f921"
             ]
            ],
            "type": "contour"
           }
          ],
          "contourcarpet": [
           {
            "colorbar": {
             "outlinewidth": 0,
             "ticks": ""
            },
            "type": "contourcarpet"
           }
          ],
          "heatmap": [
           {
            "colorbar": {
             "outlinewidth": 0,
             "ticks": ""
            },
            "colorscale": [
             [
              0,
              "#0d0887"
             ],
             [
              0.1111111111111111,
              "#46039f"
             ],
             [
              0.2222222222222222,
              "#7201a8"
             ],
             [
              0.3333333333333333,
              "#9c179e"
             ],
             [
              0.4444444444444444,
              "#bd3786"
             ],
             [
              0.5555555555555556,
              "#d8576b"
             ],
             [
              0.6666666666666666,
              "#ed7953"
             ],
             [
              0.7777777777777778,
              "#fb9f3a"
             ],
             [
              0.8888888888888888,
              "#fdca26"
             ],
             [
              1,
              "#f0f921"
             ]
            ],
            "type": "heatmap"
           }
          ],
          "heatmapgl": [
           {
            "colorbar": {
             "outlinewidth": 0,
             "ticks": ""
            },
            "colorscale": [
             [
              0,
              "#0d0887"
             ],
             [
              0.1111111111111111,
              "#46039f"
             ],
             [
              0.2222222222222222,
              "#7201a8"
             ],
             [
              0.3333333333333333,
              "#9c179e"
             ],
             [
              0.4444444444444444,
              "#bd3786"
             ],
             [
              0.5555555555555556,
              "#d8576b"
             ],
             [
              0.6666666666666666,
              "#ed7953"
             ],
             [
              0.7777777777777778,
              "#fb9f3a"
             ],
             [
              0.8888888888888888,
              "#fdca26"
             ],
             [
              1,
              "#f0f921"
             ]
            ],
            "type": "heatmapgl"
           }
          ],
          "histogram": [
           {
            "marker": {
             "pattern": {
              "fillmode": "overlay",
              "size": 10,
              "solidity": 0.2
             }
            },
            "type": "histogram"
           }
          ],
          "histogram2d": [
           {
            "colorbar": {
             "outlinewidth": 0,
             "ticks": ""
            },
            "colorscale": [
             [
              0,
              "#0d0887"
             ],
             [
              0.1111111111111111,
              "#46039f"
             ],
             [
              0.2222222222222222,
              "#7201a8"
             ],
             [
              0.3333333333333333,
              "#9c179e"
             ],
             [
              0.4444444444444444,
              "#bd3786"
             ],
             [
              0.5555555555555556,
              "#d8576b"
             ],
             [
              0.6666666666666666,
              "#ed7953"
             ],
             [
              0.7777777777777778,
              "#fb9f3a"
             ],
             [
              0.8888888888888888,
              "#fdca26"
             ],
             [
              1,
              "#f0f921"
             ]
            ],
            "type": "histogram2d"
           }
          ],
          "histogram2dcontour": [
           {
            "colorbar": {
             "outlinewidth": 0,
             "ticks": ""
            },
            "colorscale": [
             [
              0,
              "#0d0887"
             ],
             [
              0.1111111111111111,
              "#46039f"
             ],
             [
              0.2222222222222222,
              "#7201a8"
             ],
             [
              0.3333333333333333,
              "#9c179e"
             ],
             [
              0.4444444444444444,
              "#bd3786"
             ],
             [
              0.5555555555555556,
              "#d8576b"
             ],
             [
              0.6666666666666666,
              "#ed7953"
             ],
             [
              0.7777777777777778,
              "#fb9f3a"
             ],
             [
              0.8888888888888888,
              "#fdca26"
             ],
             [
              1,
              "#f0f921"
             ]
            ],
            "type": "histogram2dcontour"
           }
          ],
          "mesh3d": [
           {
            "colorbar": {
             "outlinewidth": 0,
             "ticks": ""
            },
            "type": "mesh3d"
           }
          ],
          "parcoords": [
           {
            "line": {
             "colorbar": {
              "outlinewidth": 0,
              "ticks": ""
             }
            },
            "type": "parcoords"
           }
          ],
          "pie": [
           {
            "automargin": true,
            "type": "pie"
           }
          ],
          "scatter": [
           {
            "fillpattern": {
             "fillmode": "overlay",
             "size": 10,
             "solidity": 0.2
            },
            "type": "scatter"
           }
          ],
          "scatter3d": [
           {
            "line": {
             "colorbar": {
              "outlinewidth": 0,
              "ticks": ""
             }
            },
            "marker": {
             "colorbar": {
              "outlinewidth": 0,
              "ticks": ""
             }
            },
            "type": "scatter3d"
           }
          ],
          "scattercarpet": [
           {
            "marker": {
             "colorbar": {
              "outlinewidth": 0,
              "ticks": ""
             }
            },
            "type": "scattercarpet"
           }
          ],
          "scattergeo": [
           {
            "marker": {
             "colorbar": {
              "outlinewidth": 0,
              "ticks": ""
             }
            },
            "type": "scattergeo"
           }
          ],
          "scattergl": [
           {
            "marker": {
             "colorbar": {
              "outlinewidth": 0,
              "ticks": ""
             }
            },
            "type": "scattergl"
           }
          ],
          "scattermapbox": [
           {
            "marker": {
             "colorbar": {
              "outlinewidth": 0,
              "ticks": ""
             }
            },
            "type": "scattermapbox"
           }
          ],
          "scatterpolar": [
           {
            "marker": {
             "colorbar": {
              "outlinewidth": 0,
              "ticks": ""
             }
            },
            "type": "scatterpolar"
           }
          ],
          "scatterpolargl": [
           {
            "marker": {
             "colorbar": {
              "outlinewidth": 0,
              "ticks": ""
             }
            },
            "type": "scatterpolargl"
           }
          ],
          "scatterternary": [
           {
            "marker": {
             "colorbar": {
              "outlinewidth": 0,
              "ticks": ""
             }
            },
            "type": "scatterternary"
           }
          ],
          "surface": [
           {
            "colorbar": {
             "outlinewidth": 0,
             "ticks": ""
            },
            "colorscale": [
             [
              0,
              "#0d0887"
             ],
             [
              0.1111111111111111,
              "#46039f"
             ],
             [
              0.2222222222222222,
              "#7201a8"
             ],
             [
              0.3333333333333333,
              "#9c179e"
             ],
             [
              0.4444444444444444,
              "#bd3786"
             ],
             [
              0.5555555555555556,
              "#d8576b"
             ],
             [
              0.6666666666666666,
              "#ed7953"
             ],
             [
              0.7777777777777778,
              "#fb9f3a"
             ],
             [
              0.8888888888888888,
              "#fdca26"
             ],
             [
              1,
              "#f0f921"
             ]
            ],
            "type": "surface"
           }
          ],
          "table": [
           {
            "cells": {
             "fill": {
              "color": "#EBF0F8"
             },
             "line": {
              "color": "white"
             }
            },
            "header": {
             "fill": {
              "color": "#C8D4E3"
             },
             "line": {
              "color": "white"
             }
            },
            "type": "table"
           }
          ]
         },
         "layout": {
          "annotationdefaults": {
           "arrowcolor": "#2a3f5f",
           "arrowhead": 0,
           "arrowwidth": 1
          },
          "autotypenumbers": "strict",
          "coloraxis": {
           "colorbar": {
            "outlinewidth": 0,
            "ticks": ""
           }
          },
          "colorscale": {
           "diverging": [
            [
             0,
             "#8e0152"
            ],
            [
             0.1,
             "#c51b7d"
            ],
            [
             0.2,
             "#de77ae"
            ],
            [
             0.3,
             "#f1b6da"
            ],
            [
             0.4,
             "#fde0ef"
            ],
            [
             0.5,
             "#f7f7f7"
            ],
            [
             0.6,
             "#e6f5d0"
            ],
            [
             0.7,
             "#b8e186"
            ],
            [
             0.8,
             "#7fbc41"
            ],
            [
             0.9,
             "#4d9221"
            ],
            [
             1,
             "#276419"
            ]
           ],
           "sequential": [
            [
             0,
             "#0d0887"
            ],
            [
             0.1111111111111111,
             "#46039f"
            ],
            [
             0.2222222222222222,
             "#7201a8"
            ],
            [
             0.3333333333333333,
             "#9c179e"
            ],
            [
             0.4444444444444444,
             "#bd3786"
            ],
            [
             0.5555555555555556,
             "#d8576b"
            ],
            [
             0.6666666666666666,
             "#ed7953"
            ],
            [
             0.7777777777777778,
             "#fb9f3a"
            ],
            [
             0.8888888888888888,
             "#fdca26"
            ],
            [
             1,
             "#f0f921"
            ]
           ],
           "sequentialminus": [
            [
             0,
             "#0d0887"
            ],
            [
             0.1111111111111111,
             "#46039f"
            ],
            [
             0.2222222222222222,
             "#7201a8"
            ],
            [
             0.3333333333333333,
             "#9c179e"
            ],
            [
             0.4444444444444444,
             "#bd3786"
            ],
            [
             0.5555555555555556,
             "#d8576b"
            ],
            [
             0.6666666666666666,
             "#ed7953"
            ],
            [
             0.7777777777777778,
             "#fb9f3a"
            ],
            [
             0.8888888888888888,
             "#fdca26"
            ],
            [
             1,
             "#f0f921"
            ]
           ]
          },
          "colorway": [
           "#636efa",
           "#EF553B",
           "#00cc96",
           "#ab63fa",
           "#FFA15A",
           "#19d3f3",
           "#FF6692",
           "#B6E880",
           "#FF97FF",
           "#FECB52"
          ],
          "font": {
           "color": "#2a3f5f"
          },
          "geo": {
           "bgcolor": "white",
           "lakecolor": "white",
           "landcolor": "#E5ECF6",
           "showlakes": true,
           "showland": true,
           "subunitcolor": "white"
          },
          "hoverlabel": {
           "align": "left"
          },
          "hovermode": "closest",
          "mapbox": {
           "style": "light"
          },
          "paper_bgcolor": "white",
          "plot_bgcolor": "#E5ECF6",
          "polar": {
           "angularaxis": {
            "gridcolor": "white",
            "linecolor": "white",
            "ticks": ""
           },
           "bgcolor": "#E5ECF6",
           "radialaxis": {
            "gridcolor": "white",
            "linecolor": "white",
            "ticks": ""
           }
          },
          "scene": {
           "xaxis": {
            "backgroundcolor": "#E5ECF6",
            "gridcolor": "white",
            "gridwidth": 2,
            "linecolor": "white",
            "showbackground": true,
            "ticks": "",
            "zerolinecolor": "white"
           },
           "yaxis": {
            "backgroundcolor": "#E5ECF6",
            "gridcolor": "white",
            "gridwidth": 2,
            "linecolor": "white",
            "showbackground": true,
            "ticks": "",
            "zerolinecolor": "white"
           },
           "zaxis": {
            "backgroundcolor": "#E5ECF6",
            "gridcolor": "white",
            "gridwidth": 2,
            "linecolor": "white",
            "showbackground": true,
            "ticks": "",
            "zerolinecolor": "white"
           }
          },
          "shapedefaults": {
           "line": {
            "color": "#2a3f5f"
           }
          },
          "ternary": {
           "aaxis": {
            "gridcolor": "white",
            "linecolor": "white",
            "ticks": ""
           },
           "baxis": {
            "gridcolor": "white",
            "linecolor": "white",
            "ticks": ""
           },
           "bgcolor": "#E5ECF6",
           "caxis": {
            "gridcolor": "white",
            "linecolor": "white",
            "ticks": ""
           }
          },
          "title": {
           "x": 0.05
          },
          "xaxis": {
           "automargin": true,
           "gridcolor": "white",
           "linecolor": "white",
           "ticks": "",
           "title": {
            "standoff": 15
           },
           "zerolinecolor": "white",
           "zerolinewidth": 2
          },
          "yaxis": {
           "automargin": true,
           "gridcolor": "white",
           "linecolor": "white",
           "ticks": "",
           "title": {
            "standoff": 15
           },
           "zerolinecolor": "white",
           "zerolinewidth": 2
          }
         }
        },
        "title": {
         "text": "World map",
         "x": 0.5
        }
       }
      },
      "text/html": [
       "<div>                        <script type=\"text/javascript\">window.PlotlyConfig = {MathJaxConfig: 'local'};</script>\n",
       "        <script src=\"https://cdn.plot.ly/plotly-2.14.0.min.js\"></script>                <div id=\"b9ac5660-1a76-4d16-913b-04f9e52000f8\" class=\"plotly-graph-div\" style=\"height:100%; width:100%;\"></div>            <script type=\"text/javascript\">                                    window.PLOTLYENV=window.PLOTLYENV || {};                                    if (document.getElementById(\"b9ac5660-1a76-4d16-913b-04f9e52000f8\")) {                    Plotly.newPlot(                        \"b9ac5660-1a76-4d16-913b-04f9e52000f8\",                        [{\"geo\":\"geo\",\"hovertemplate\":\"<b>%{hovertext}</b><br><br>postal_code=03100<br>nom=%{marker.size}<br>lat=%{lat}<br>lon=%{lon}<extra></extra>\",\"hovertext\":[\"03100\"],\"lat\":[46.343920965742576],\"legendgroup\":\"03100\",\"lon\":[2.5941275596039604],\"marker\":{\"color\":\"#636efa\",\"size\":[1],\"sizemode\":\"area\",\"sizeref\":0.005,\"symbol\":\"circle\"},\"mode\":\"markers\",\"name\":\"03100\",\"showlegend\":true,\"type\":\"scattergeo\"},{\"geo\":\"geo\",\"hovertemplate\":\"<b>%{hovertext}</b><br><br>postal_code=06200<br>nom=%{marker.size}<br>lat=%{lat}<br>lon=%{lon}<extra></extra>\",\"hovertext\":[\"06200\"],\"lat\":[43.67991951400966],\"legendgroup\":\"06200\",\"lon\":[7.21034937294686],\"marker\":{\"color\":\"#EF553B\",\"size\":[1],\"sizemode\":\"area\",\"sizeref\":0.005,\"symbol\":\"circle\"},\"mode\":\"markers\",\"name\":\"06200\",\"showlegend\":true,\"type\":\"scattergeo\"},{\"geo\":\"geo\",\"hovertemplate\":\"<b>%{hovertext}</b><br><br>postal_code=12000<br>nom=%{marker.size}<br>lat=%{lat}<br>lon=%{lon}<extra></extra>\",\"hovertext\":[\"12000\"],\"lat\":[44.3533693705088],\"legendgroup\":\"12000\",\"lon\":[2.572108105787316],\"marker\":{\"color\":\"#00cc96\",\"size\":[1],\"sizemode\":\"area\",\"sizeref\":0.005,\"symbol\":\"circle\"},\"mode\":\"markers\",\"name\":\"12000\",\"showlegend\":true,\"type\":\"scattergeo\"},{\"geo\":\"geo\",\"hovertemplate\":\"<b>%{hovertext}</b><br><br>postal_code=17100<br>nom=%{marker.size}<br>lat=%{lat}<br>lon=%{lon}<extra></extra>\",\"hovertext\":[\"17100\"],\"lat\":[45.749085251543214],\"legendgroup\":\"17100\",\"lon\":[-0.625786249691358],\"marker\":{\"color\":\"#ab63fa\",\"size\":[2],\"sizemode\":\"area\",\"sizeref\":0.005,\"symbol\":\"circle\"},\"mode\":\"markers\",\"name\":\"17100\",\"showlegend\":true,\"type\":\"scattergeo\"},{\"geo\":\"geo\",\"hovertemplate\":\"<b>%{hovertext}</b><br><br>postal_code=21000<br>nom=%{marker.size}<br>lat=%{lat}<br>lon=%{lon}<extra></extra>\",\"hovertext\":[\"21000\"],\"lat\":[47.32602162039587],\"legendgroup\":\"21000\",\"lon\":[5.044862341049914],\"marker\":{\"color\":\"#FFA15A\",\"size\":[1],\"sizemode\":\"area\",\"sizeref\":0.005,\"symbol\":\"circle\"},\"mode\":\"markers\",\"name\":\"21000\",\"showlegend\":true,\"type\":\"scattergeo\"},{\"geo\":\"geo\",\"hovertemplate\":\"<b>%{hovertext}</b><br><br>postal_code=23000<br>nom=%{marker.size}<br>lat=%{lat}<br>lon=%{lon}<extra></extra>\",\"hovertext\":[\"23000\"],\"lat\":[46.1694846633987],\"legendgroup\":\"23000\",\"lon\":[1.8738597366013072],\"marker\":{\"color\":\"#19d3f3\",\"size\":[1],\"sizemode\":\"area\",\"sizeref\":0.005,\"symbol\":\"circle\"},\"mode\":\"markers\",\"name\":\"23000\",\"showlegend\":true,\"type\":\"scattergeo\"},{\"geo\":\"geo\",\"hovertemplate\":\"<b>%{hovertext}</b><br><br>postal_code=42300<br>nom=%{marker.size}<br>lat=%{lat}<br>lon=%{lon}<extra></extra>\",\"hovertext\":[\"42300\"],\"lat\":[46.03398703072626],\"legendgroup\":\"42300\",\"lon\":[4.06130756424581],\"marker\":{\"color\":\"#FF6692\",\"size\":[2],\"sizemode\":\"area\",\"sizeref\":0.005,\"symbol\":\"circle\"},\"mode\":\"markers\",\"name\":\"42300\",\"showlegend\":true,\"type\":\"scattergeo\"},{\"geo\":\"geo\",\"hovertemplate\":\"<b>%{hovertext}</b><br><br>postal_code=44120<br>nom=%{marker.size}<br>lat=%{lat}<br>lon=%{lon}<extra></extra>\",\"hovertext\":[\"44120\"],\"lat\":[47.170683992145285],\"legendgroup\":\"44120\",\"lon\":[-1.4814683448638004],\"marker\":{\"color\":\"#B6E880\",\"size\":[1],\"sizemode\":\"area\",\"sizeref\":0.005,\"symbol\":\"circle\"},\"mode\":\"markers\",\"name\":\"44120\",\"showlegend\":true,\"type\":\"scattergeo\"},{\"geo\":\"geo\",\"hovertemplate\":\"<b>%{hovertext}</b><br><br>postal_code=47300<br>nom=%{marker.size}<br>lat=%{lat}<br>lon=%{lon}<extra></extra>\",\"hovertext\":[\"47300\"],\"lat\":[44.40285866962025],\"legendgroup\":\"47300\",\"lon\":[0.6984636405063291],\"marker\":{\"color\":\"#FF97FF\",\"size\":[1],\"sizemode\":\"area\",\"sizeref\":0.005,\"symbol\":\"circle\"},\"mode\":\"markers\",\"name\":\"47300\",\"showlegend\":true,\"type\":\"scattergeo\"},{\"geo\":\"geo\",\"hovertemplate\":\"<b>%{hovertext}</b><br><br>postal_code=59150<br>nom=%{marker.size}<br>lat=%{lat}<br>lon=%{lon}<extra></extra>\",\"hovertext\":[\"59150\"],\"lat\":[50.666671085436896],\"legendgroup\":\"59150\",\"lon\":[3.2044113699029126],\"marker\":{\"color\":\"#FECB52\",\"size\":[1],\"sizemode\":\"area\",\"sizeref\":0.005,\"symbol\":\"circle\"},\"mode\":\"markers\",\"name\":\"59150\",\"showlegend\":true,\"type\":\"scattergeo\"},{\"geo\":\"geo\",\"hovertemplate\":\"<b>%{hovertext}</b><br><br>postal_code=59430<br>nom=%{marker.size}<br>lat=%{lat}<br>lon=%{lon}<extra></extra>\",\"hovertext\":[\"59430\"],\"lat\":[51.030216071255474],\"legendgroup\":\"59430\",\"lon\":[2.3360881808467155],\"marker\":{\"color\":\"#636efa\",\"size\":[2],\"sizemode\":\"area\",\"sizeref\":0.005,\"symbol\":\"circle\"},\"mode\":\"markers\",\"name\":\"59430\",\"showlegend\":true,\"type\":\"scattergeo\"},{\"geo\":\"geo\",\"hovertemplate\":\"<b>%{hovertext}</b><br><br>postal_code=59493<br>nom=%{marker.size}<br>lat=%{lat}<br>lon=%{lon}<extra></extra>\",\"hovertext\":[\"59493\"],\"lat\":[50.617581256407384],\"legendgroup\":\"59493\",\"lon\":[3.160661562003358],\"marker\":{\"color\":\"#EF553B\",\"size\":[1],\"sizemode\":\"area\",\"sizeref\":0.005,\"symbol\":\"circle\"},\"mode\":\"markers\",\"name\":\"59493\",\"showlegend\":true,\"type\":\"scattergeo\"},{\"geo\":\"geo\",\"hovertemplate\":\"<b>%{hovertext}</b><br><br>postal_code=67100<br>nom=%{marker.size}<br>lat=%{lat}<br>lon=%{lon}<extra></extra>\",\"hovertext\":[\"67100\"],\"lat\":[48.564802359375],\"legendgroup\":\"67100\",\"lon\":[7.761151783482143],\"marker\":{\"color\":\"#00cc96\",\"size\":[1],\"sizemode\":\"area\",\"sizeref\":0.005,\"symbol\":\"circle\"},\"mode\":\"markers\",\"name\":\"67100\",\"showlegend\":true,\"type\":\"scattergeo\"},{\"geo\":\"geo\",\"hovertemplate\":\"<b>%{hovertext}</b><br><br>postal_code=68300<br>nom=%{marker.size}<br>lat=%{lat}<br>lon=%{lon}<extra></extra>\",\"hovertext\":[\"68300\"],\"lat\":[47.59992181988906],\"legendgroup\":\"68300\",\"lon\":[7.545658327892235],\"marker\":{\"color\":\"#ab63fa\",\"size\":[1],\"sizemode\":\"area\",\"sizeref\":0.005,\"symbol\":\"circle\"},\"mode\":\"markers\",\"name\":\"68300\",\"showlegend\":true,\"type\":\"scattergeo\"},{\"geo\":\"geo\",\"hovertemplate\":\"<b>%{hovertext}</b><br><br>postal_code=69009<br>nom=%{marker.size}<br>lat=%{lat}<br>lon=%{lon}<extra></extra>\",\"hovertext\":[\"69009\"],\"lat\":[45.7793905476923],\"legendgroup\":\"69009\",\"lon\":[4.808316235384615],\"marker\":{\"color\":\"#FFA15A\",\"size\":[1],\"sizemode\":\"area\",\"sizeref\":0.005,\"symbol\":\"circle\"},\"mode\":\"markers\",\"name\":\"69009\",\"showlegend\":true,\"type\":\"scattergeo\"},{\"geo\":\"geo\",\"hovertemplate\":\"<b>%{hovertext}</b><br><br>postal_code=75014<br>nom=%{marker.size}<br>lat=%{lat}<br>lon=%{lon}<extra></extra>\",\"hovertext\":[\"75014\"],\"lat\":[48.83052208621908],\"legendgroup\":\"75014\",\"lon\":[2.325264245229682],\"marker\":{\"color\":\"#19d3f3\",\"size\":[1],\"sizemode\":\"area\",\"sizeref\":0.005,\"symbol\":\"circle\"},\"mode\":\"markers\",\"name\":\"75014\",\"showlegend\":true,\"type\":\"scattergeo\"},{\"geo\":\"geo\",\"hovertemplate\":\"<b>%{hovertext}</b><br><br>postal_code=76120<br>nom=%{marker.size}<br>lat=%{lat}<br>lon=%{lon}<extra></extra>\",\"hovertext\":[\"76120\"],\"lat\":[49.41068287234042],\"legendgroup\":\"76120\",\"lon\":[1.0543792442553193],\"marker\":{\"color\":\"#FF6692\",\"size\":[1],\"sizemode\":\"area\",\"sizeref\":0.005,\"symbol\":\"circle\"},\"mode\":\"markers\",\"name\":\"76120\",\"showlegend\":true,\"type\":\"scattergeo\"},{\"geo\":\"geo\",\"hovertemplate\":\"<b>%{hovertext}</b><br><br>postal_code=76130<br>nom=%{marker.size}<br>lat=%{lat}<br>lon=%{lon}<extra></extra>\",\"hovertext\":[\"76130\"],\"lat\":[49.46224712647059],\"legendgroup\":\"76130\",\"lon\":[1.0810455288235294],\"marker\":{\"color\":\"#B6E880\",\"size\":[1],\"sizemode\":\"area\",\"sizeref\":0.005,\"symbol\":\"circle\"},\"mode\":\"markers\",\"name\":\"76130\",\"showlegend\":true,\"type\":\"scattergeo\"},{\"geo\":\"geo\",\"hovertemplate\":\"<b>%{hovertext}</b><br><br>postal_code=77000<br>nom=%{marker.size}<br>lat=%{lat}<br>lon=%{lon}<extra></extra>\",\"hovertext\":[\"77000\"],\"lat\":[48.53976241396104],\"legendgroup\":\"77000\",\"lon\":[2.6609884068181815],\"marker\":{\"color\":\"#FF97FF\",\"size\":[1],\"sizemode\":\"area\",\"sizeref\":0.005,\"symbol\":\"circle\"},\"mode\":\"markers\",\"name\":\"77000\",\"showlegend\":true,\"type\":\"scattergeo\"},{\"geo\":\"geo\",\"hovertemplate\":\"<b>%{hovertext}</b><br><br>postal_code=77190<br>nom=%{marker.size}<br>lat=%{lat}<br>lon=%{lon}<extra></extra>\",\"hovertext\":[\"77190\"],\"lat\":[48.51373047936508],\"legendgroup\":\"77190\",\"lon\":[2.6263972015873014],\"marker\":{\"color\":\"#FECB52\",\"size\":[1],\"sizemode\":\"area\",\"sizeref\":0.005,\"symbol\":\"circle\"},\"mode\":\"markers\",\"name\":\"77190\",\"showlegend\":true,\"type\":\"scattergeo\"},{\"geo\":\"geo\",\"hovertemplate\":\"<b>%{hovertext}</b><br><br>postal_code=77270<br>nom=%{marker.size}<br>lat=%{lat}<br>lon=%{lon}<extra></extra>\",\"hovertext\":[\"77270\"],\"lat\":[48.94721752252252],\"legendgroup\":\"77270\",\"lon\":[2.6116859207207206],\"marker\":{\"color\":\"#636efa\",\"size\":[1],\"sizemode\":\"area\",\"sizeref\":0.005,\"symbol\":\"circle\"},\"mode\":\"markers\",\"name\":\"77270\",\"showlegend\":true,\"type\":\"scattergeo\"},{\"geo\":\"geo\",\"hovertemplate\":\"<b>%{hovertext}</b><br><br>postal_code=78370<br>nom=%{marker.size}<br>lat=%{lat}<br>lon=%{lon}<extra></extra>\",\"hovertext\":[\"78370\"],\"lat\":[48.82670767788461],\"legendgroup\":\"78370\",\"lon\":[1.9502827048076925],\"marker\":{\"color\":\"#EF553B\",\"size\":[1],\"sizemode\":\"area\",\"sizeref\":0.005,\"symbol\":\"circle\"},\"mode\":\"markers\",\"name\":\"78370\",\"showlegend\":true,\"type\":\"scattergeo\"},{\"geo\":\"geo\",\"hovertemplate\":\"<b>%{hovertext}</b><br><br>postal_code=83000<br>nom=%{marker.size}<br>lat=%{lat}<br>lon=%{lon}<extra></extra>\",\"hovertext\":[\"83000\"],\"lat\":[43.124507953935186],\"legendgroup\":\"83000\",\"lon\":[5.935553993981482],\"marker\":{\"color\":\"#00cc96\",\"size\":[2],\"sizemode\":\"area\",\"sizeref\":0.005,\"symbol\":\"circle\"},\"mode\":\"markers\",\"name\":\"83000\",\"showlegend\":true,\"type\":\"scattergeo\"},{\"geo\":\"geo\",\"hovertemplate\":\"<b>%{hovertext}</b><br><br>postal_code=83300<br>nom=%{marker.size}<br>lat=%{lat}<br>lon=%{lon}<extra></extra>\",\"hovertext\":[\"83300\"],\"lat\":[43.535091674499085],\"legendgroup\":\"83300\",\"lon\":[6.45949938269581],\"marker\":{\"color\":\"#ab63fa\",\"size\":[1],\"sizemode\":\"area\",\"sizeref\":0.005,\"symbol\":\"circle\"},\"mode\":\"markers\",\"name\":\"83300\",\"showlegend\":true,\"type\":\"scattergeo\"},{\"geo\":\"geo\",\"hovertemplate\":\"<b>%{hovertext}</b><br><br>postal_code=84000<br>nom=%{marker.size}<br>lat=%{lat}<br>lon=%{lon}<extra></extra>\",\"hovertext\":[\"84000\"],\"lat\":[43.942038511734694],\"legendgroup\":\"84000\",\"lon\":[4.816302055782313],\"marker\":{\"color\":\"#FFA15A\",\"size\":[1],\"sizemode\":\"area\",\"sizeref\":0.005,\"symbol\":\"circle\"},\"mode\":\"markers\",\"name\":\"84000\",\"showlegend\":true,\"type\":\"scattergeo\"},{\"geo\":\"geo\",\"hovertemplate\":\"<b>%{hovertext}</b><br><br>postal_code=85000<br>nom=%{marker.size}<br>lat=%{lat}<br>lon=%{lon}<extra></extra>\",\"hovertext\":[\"85000\"],\"lat\":[46.68087882882883],\"legendgroup\":\"85000\",\"lon\":[-1.4248904495495496],\"marker\":{\"color\":\"#19d3f3\",\"size\":[1],\"sizemode\":\"area\",\"sizeref\":0.005,\"symbol\":\"circle\"},\"mode\":\"markers\",\"name\":\"85000\",\"showlegend\":true,\"type\":\"scattergeo\"},{\"geo\":\"geo\",\"hovertemplate\":\"<b>%{hovertext}</b><br><br>postal_code=92290<br>nom=%{marker.size}<br>lat=%{lat}<br>lon=%{lon}<extra></extra>\",\"hovertext\":[\"92290\"],\"lat\":[48.770390244721405],\"legendgroup\":\"92290\",\"lon\":[2.2644156473607038],\"marker\":{\"color\":\"#FF6692\",\"size\":[1],\"sizemode\":\"area\",\"sizeref\":0.005,\"symbol\":\"circle\"},\"mode\":\"markers\",\"name\":\"92290\",\"showlegend\":true,\"type\":\"scattergeo\"},{\"geo\":\"geo\",\"hovertemplate\":\"<b>%{hovertext}</b><br><br>postal_code=92360<br>nom=%{marker.size}<br>lat=%{lat}<br>lon=%{lon}<extra></extra>\",\"hovertext\":[\"92360\"],\"lat\":[48.78758431699165],\"legendgroup\":\"92360\",\"lon\":[2.2268341],\"marker\":{\"color\":\"#B6E880\",\"size\":[2],\"sizemode\":\"area\",\"sizeref\":0.005,\"symbol\":\"circle\"},\"mode\":\"markers\",\"name\":\"92360\",\"showlegend\":true,\"type\":\"scattergeo\"},{\"geo\":\"geo\",\"hovertemplate\":\"<b>%{hovertext}</b><br><br>postal_code=93120<br>nom=%{marker.size}<br>lat=%{lat}<br>lon=%{lon}<extra></extra>\",\"hovertext\":[\"93120\"],\"lat\":[48.928050072727274],\"legendgroup\":\"93120\",\"lon\":[2.3958811772727273],\"marker\":{\"color\":\"#FF97FF\",\"size\":[1],\"sizemode\":\"area\",\"sizeref\":0.005,\"symbol\":\"circle\"},\"mode\":\"markers\",\"name\":\"93120\",\"showlegend\":true,\"type\":\"scattergeo\"},{\"geo\":\"geo\",\"hovertemplate\":\"<b>%{hovertext}</b><br><br>postal_code=93240<br>nom=%{marker.size}<br>lat=%{lat}<br>lon=%{lon}<extra></extra>\",\"hovertext\":[\"93240\"],\"lat\":[48.95787334705882],\"legendgroup\":\"93240\",\"lon\":[2.3779127529411763],\"marker\":{\"color\":\"#FECB52\",\"size\":[1],\"sizemode\":\"area\",\"sizeref\":0.005,\"symbol\":\"circle\"},\"mode\":\"markers\",\"name\":\"93240\",\"showlegend\":true,\"type\":\"scattergeo\"},{\"geo\":\"geo\",\"hovertemplate\":\"<b>%{hovertext}</b><br><br>postal_code=93400<br>nom=%{marker.size}<br>lat=%{lat}<br>lon=%{lon}<extra></extra>\",\"hovertext\":[\"93400\"],\"lat\":[48.90810612112676],\"legendgroup\":\"93400\",\"lon\":[2.336935809859155],\"marker\":{\"color\":\"#636efa\",\"size\":[2],\"sizemode\":\"area\",\"sizeref\":0.005,\"symbol\":\"circle\"},\"mode\":\"markers\",\"name\":\"93400\",\"showlegend\":true,\"type\":\"scattergeo\"},{\"geo\":\"geo\",\"hovertemplate\":\"<b>%{hovertext}</b><br><br>postal_code=94270<br>nom=%{marker.size}<br>lat=%{lat}<br>lon=%{lon}<extra></extra>\",\"hovertext\":[\"94270\"],\"lat\":[48.81232888924731],\"legendgroup\":\"94270\",\"lon\":[2.3605547860215053],\"marker\":{\"color\":\"#EF553B\",\"size\":[2],\"sizemode\":\"area\",\"sizeref\":0.005,\"symbol\":\"circle\"},\"mode\":\"markers\",\"name\":\"94270\",\"showlegend\":true,\"type\":\"scattergeo\"},{\"geo\":\"geo\",\"hovertemplate\":\"<b>%{hovertext}</b><br><br>postal_code=95000<br>nom=%{marker.size}<br>lat=%{lat}<br>lon=%{lon}<extra></extra>\",\"hovertext\":[\"95000\"],\"lat\":[49.039677245177664],\"legendgroup\":\"95000\",\"lon\":[2.075704795431472],\"marker\":{\"color\":\"#00cc96\",\"size\":[1],\"sizemode\":\"area\",\"sizeref\":0.005,\"symbol\":\"circle\"},\"mode\":\"markers\",\"name\":\"95000\",\"showlegend\":true,\"type\":\"scattergeo\"},{\"geo\":\"geo\",\"hovertemplate\":\"<b>%{hovertext}</b><br><br>postal_code=95110<br>nom=%{marker.size}<br>lat=%{lat}<br>lon=%{lon}<extra></extra>\",\"hovertext\":[\"95110\"],\"lat\":[48.972789140816325],\"legendgroup\":\"95110\",\"lon\":[2.2535273408163263],\"marker\":{\"color\":\"#ab63fa\",\"size\":[1],\"sizemode\":\"area\",\"sizeref\":0.005,\"symbol\":\"circle\"},\"mode\":\"markers\",\"name\":\"95110\",\"showlegend\":true,\"type\":\"scattergeo\"},{\"geo\":\"geo\",\"hovertemplate\":\"<b>%{hovertext}</b><br><br>postal_code=95800<br>nom=%{marker.size}<br>lat=%{lat}<br>lon=%{lon}<extra></extra>\",\"hovertext\":[\"95800\"],\"lat\":[49.04604891674877],\"legendgroup\":\"95800\",\"lon\":[2.0279781330049262],\"marker\":{\"color\":\"#FFA15A\",\"size\":[1],\"sizemode\":\"area\",\"sizeref\":0.005,\"symbol\":\"circle\"},\"mode\":\"markers\",\"name\":\"95800\",\"showlegend\":true,\"type\":\"scattergeo\"},{\"geo\":\"geo\",\"hovertemplate\":\"<b>%{hovertext}</b><br><br>postal_code=97450<br>nom=%{marker.size}<br>lat=%{lat}<br>lon=%{lon}<extra></extra>\",\"hovertext\":[\"97450\"],\"lat\":[-21.284639031999998],\"legendgroup\":\"97450\",\"lon\":[55.408026076],\"marker\":{\"color\":\"#19d3f3\",\"size\":[1],\"sizemode\":\"area\",\"sizeref\":0.005,\"symbol\":\"circle\"},\"mode\":\"markers\",\"name\":\"97450\",\"showlegend\":true,\"type\":\"scattergeo\"}],                        {\"template\":{\"data\":{\"histogram2dcontour\":[{\"type\":\"histogram2dcontour\",\"colorbar\":{\"outlinewidth\":0,\"ticks\":\"\"},\"colorscale\":[[0.0,\"#0d0887\"],[0.1111111111111111,\"#46039f\"],[0.2222222222222222,\"#7201a8\"],[0.3333333333333333,\"#9c179e\"],[0.4444444444444444,\"#bd3786\"],[0.5555555555555556,\"#d8576b\"],[0.6666666666666666,\"#ed7953\"],[0.7777777777777778,\"#fb9f3a\"],[0.8888888888888888,\"#fdca26\"],[1.0,\"#f0f921\"]]}],\"choropleth\":[{\"type\":\"choropleth\",\"colorbar\":{\"outlinewidth\":0,\"ticks\":\"\"}}],\"histogram2d\":[{\"type\":\"histogram2d\",\"colorbar\":{\"outlinewidth\":0,\"ticks\":\"\"},\"colorscale\":[[0.0,\"#0d0887\"],[0.1111111111111111,\"#46039f\"],[0.2222222222222222,\"#7201a8\"],[0.3333333333333333,\"#9c179e\"],[0.4444444444444444,\"#bd3786\"],[0.5555555555555556,\"#d8576b\"],[0.6666666666666666,\"#ed7953\"],[0.7777777777777778,\"#fb9f3a\"],[0.8888888888888888,\"#fdca26\"],[1.0,\"#f0f921\"]]}],\"heatmap\":[{\"type\":\"heatmap\",\"colorbar\":{\"outlinewidth\":0,\"ticks\":\"\"},\"colorscale\":[[0.0,\"#0d0887\"],[0.1111111111111111,\"#46039f\"],[0.2222222222222222,\"#7201a8\"],[0.3333333333333333,\"#9c179e\"],[0.4444444444444444,\"#bd3786\"],[0.5555555555555556,\"#d8576b\"],[0.6666666666666666,\"#ed7953\"],[0.7777777777777778,\"#fb9f3a\"],[0.8888888888888888,\"#fdca26\"],[1.0,\"#f0f921\"]]}],\"heatmapgl\":[{\"type\":\"heatmapgl\",\"colorbar\":{\"outlinewidth\":0,\"ticks\":\"\"},\"colorscale\":[[0.0,\"#0d0887\"],[0.1111111111111111,\"#46039f\"],[0.2222222222222222,\"#7201a8\"],[0.3333333333333333,\"#9c179e\"],[0.4444444444444444,\"#bd3786\"],[0.5555555555555556,\"#d8576b\"],[0.6666666666666666,\"#ed7953\"],[0.7777777777777778,\"#fb9f3a\"],[0.8888888888888888,\"#fdca26\"],[1.0,\"#f0f921\"]]}],\"contourcarpet\":[{\"type\":\"contourcarpet\",\"colorbar\":{\"outlinewidth\":0,\"ticks\":\"\"}}],\"contour\":[{\"type\":\"contour\",\"colorbar\":{\"outlinewidth\":0,\"ticks\":\"\"},\"colorscale\":[[0.0,\"#0d0887\"],[0.1111111111111111,\"#46039f\"],[0.2222222222222222,\"#7201a8\"],[0.3333333333333333,\"#9c179e\"],[0.4444444444444444,\"#bd3786\"],[0.5555555555555556,\"#d8576b\"],[0.6666666666666666,\"#ed7953\"],[0.7777777777777778,\"#fb9f3a\"],[0.8888888888888888,\"#fdca26\"],[1.0,\"#f0f921\"]]}],\"surface\":[{\"type\":\"surface\",\"colorbar\":{\"outlinewidth\":0,\"ticks\":\"\"},\"colorscale\":[[0.0,\"#0d0887\"],[0.1111111111111111,\"#46039f\"],[0.2222222222222222,\"#7201a8\"],[0.3333333333333333,\"#9c179e\"],[0.4444444444444444,\"#bd3786\"],[0.5555555555555556,\"#d8576b\"],[0.6666666666666666,\"#ed7953\"],[0.7777777777777778,\"#fb9f3a\"],[0.8888888888888888,\"#fdca26\"],[1.0,\"#f0f921\"]]}],\"mesh3d\":[{\"type\":\"mesh3d\",\"colorbar\":{\"outlinewidth\":0,\"ticks\":\"\"}}],\"scatter\":[{\"fillpattern\":{\"fillmode\":\"overlay\",\"size\":10,\"solidity\":0.2},\"type\":\"scatter\"}],\"parcoords\":[{\"type\":\"parcoords\",\"line\":{\"colorbar\":{\"outlinewidth\":0,\"ticks\":\"\"}}}],\"scatterpolargl\":[{\"type\":\"scatterpolargl\",\"marker\":{\"colorbar\":{\"outlinewidth\":0,\"ticks\":\"\"}}}],\"bar\":[{\"error_x\":{\"color\":\"#2a3f5f\"},\"error_y\":{\"color\":\"#2a3f5f\"},\"marker\":{\"line\":{\"color\":\"#E5ECF6\",\"width\":0.5},\"pattern\":{\"fillmode\":\"overlay\",\"size\":10,\"solidity\":0.2}},\"type\":\"bar\"}],\"scattergeo\":[{\"type\":\"scattergeo\",\"marker\":{\"colorbar\":{\"outlinewidth\":0,\"ticks\":\"\"}}}],\"scatterpolar\":[{\"type\":\"scatterpolar\",\"marker\":{\"colorbar\":{\"outlinewidth\":0,\"ticks\":\"\"}}}],\"histogram\":[{\"marker\":{\"pattern\":{\"fillmode\":\"overlay\",\"size\":10,\"solidity\":0.2}},\"type\":\"histogram\"}],\"scattergl\":[{\"type\":\"scattergl\",\"marker\":{\"colorbar\":{\"outlinewidth\":0,\"ticks\":\"\"}}}],\"scatter3d\":[{\"type\":\"scatter3d\",\"line\":{\"colorbar\":{\"outlinewidth\":0,\"ticks\":\"\"}},\"marker\":{\"colorbar\":{\"outlinewidth\":0,\"ticks\":\"\"}}}],\"scattermapbox\":[{\"type\":\"scattermapbox\",\"marker\":{\"colorbar\":{\"outlinewidth\":0,\"ticks\":\"\"}}}],\"scatterternary\":[{\"type\":\"scatterternary\",\"marker\":{\"colorbar\":{\"outlinewidth\":0,\"ticks\":\"\"}}}],\"scattercarpet\":[{\"type\":\"scattercarpet\",\"marker\":{\"colorbar\":{\"outlinewidth\":0,\"ticks\":\"\"}}}],\"carpet\":[{\"aaxis\":{\"endlinecolor\":\"#2a3f5f\",\"gridcolor\":\"white\",\"linecolor\":\"white\",\"minorgridcolor\":\"white\",\"startlinecolor\":\"#2a3f5f\"},\"baxis\":{\"endlinecolor\":\"#2a3f5f\",\"gridcolor\":\"white\",\"linecolor\":\"white\",\"minorgridcolor\":\"white\",\"startlinecolor\":\"#2a3f5f\"},\"type\":\"carpet\"}],\"table\":[{\"cells\":{\"fill\":{\"color\":\"#EBF0F8\"},\"line\":{\"color\":\"white\"}},\"header\":{\"fill\":{\"color\":\"#C8D4E3\"},\"line\":{\"color\":\"white\"}},\"type\":\"table\"}],\"barpolar\":[{\"marker\":{\"line\":{\"color\":\"#E5ECF6\",\"width\":0.5},\"pattern\":{\"fillmode\":\"overlay\",\"size\":10,\"solidity\":0.2}},\"type\":\"barpolar\"}],\"pie\":[{\"automargin\":true,\"type\":\"pie\"}]},\"layout\":{\"autotypenumbers\":\"strict\",\"colorway\":[\"#636efa\",\"#EF553B\",\"#00cc96\",\"#ab63fa\",\"#FFA15A\",\"#19d3f3\",\"#FF6692\",\"#B6E880\",\"#FF97FF\",\"#FECB52\"],\"font\":{\"color\":\"#2a3f5f\"},\"hovermode\":\"closest\",\"hoverlabel\":{\"align\":\"left\"},\"paper_bgcolor\":\"white\",\"plot_bgcolor\":\"#E5ECF6\",\"polar\":{\"bgcolor\":\"#E5ECF6\",\"angularaxis\":{\"gridcolor\":\"white\",\"linecolor\":\"white\",\"ticks\":\"\"},\"radialaxis\":{\"gridcolor\":\"white\",\"linecolor\":\"white\",\"ticks\":\"\"}},\"ternary\":{\"bgcolor\":\"#E5ECF6\",\"aaxis\":{\"gridcolor\":\"white\",\"linecolor\":\"white\",\"ticks\":\"\"},\"baxis\":{\"gridcolor\":\"white\",\"linecolor\":\"white\",\"ticks\":\"\"},\"caxis\":{\"gridcolor\":\"white\",\"linecolor\":\"white\",\"ticks\":\"\"}},\"coloraxis\":{\"colorbar\":{\"outlinewidth\":0,\"ticks\":\"\"}},\"colorscale\":{\"sequential\":[[0.0,\"#0d0887\"],[0.1111111111111111,\"#46039f\"],[0.2222222222222222,\"#7201a8\"],[0.3333333333333333,\"#9c179e\"],[0.4444444444444444,\"#bd3786\"],[0.5555555555555556,\"#d8576b\"],[0.6666666666666666,\"#ed7953\"],[0.7777777777777778,\"#fb9f3a\"],[0.8888888888888888,\"#fdca26\"],[1.0,\"#f0f921\"]],\"sequentialminus\":[[0.0,\"#0d0887\"],[0.1111111111111111,\"#46039f\"],[0.2222222222222222,\"#7201a8\"],[0.3333333333333333,\"#9c179e\"],[0.4444444444444444,\"#bd3786\"],[0.5555555555555556,\"#d8576b\"],[0.6666666666666666,\"#ed7953\"],[0.7777777777777778,\"#fb9f3a\"],[0.8888888888888888,\"#fdca26\"],[1.0,\"#f0f921\"]],\"diverging\":[[0,\"#8e0152\"],[0.1,\"#c51b7d\"],[0.2,\"#de77ae\"],[0.3,\"#f1b6da\"],[0.4,\"#fde0ef\"],[0.5,\"#f7f7f7\"],[0.6,\"#e6f5d0\"],[0.7,\"#b8e186\"],[0.8,\"#7fbc41\"],[0.9,\"#4d9221\"],[1,\"#276419\"]]},\"xaxis\":{\"gridcolor\":\"white\",\"linecolor\":\"white\",\"ticks\":\"\",\"title\":{\"standoff\":15},\"zerolinecolor\":\"white\",\"automargin\":true,\"zerolinewidth\":2},\"yaxis\":{\"gridcolor\":\"white\",\"linecolor\":\"white\",\"ticks\":\"\",\"title\":{\"standoff\":15},\"zerolinecolor\":\"white\",\"automargin\":true,\"zerolinewidth\":2},\"scene\":{\"xaxis\":{\"backgroundcolor\":\"#E5ECF6\",\"gridcolor\":\"white\",\"linecolor\":\"white\",\"showbackground\":true,\"ticks\":\"\",\"zerolinecolor\":\"white\",\"gridwidth\":2},\"yaxis\":{\"backgroundcolor\":\"#E5ECF6\",\"gridcolor\":\"white\",\"linecolor\":\"white\",\"showbackground\":true,\"ticks\":\"\",\"zerolinecolor\":\"white\",\"gridwidth\":2},\"zaxis\":{\"backgroundcolor\":\"#E5ECF6\",\"gridcolor\":\"white\",\"linecolor\":\"white\",\"showbackground\":true,\"ticks\":\"\",\"zerolinecolor\":\"white\",\"gridwidth\":2}},\"shapedefaults\":{\"line\":{\"color\":\"#2a3f5f\"}},\"annotationdefaults\":{\"arrowcolor\":\"#2a3f5f\",\"arrowhead\":0,\"arrowwidth\":1},\"geo\":{\"bgcolor\":\"white\",\"landcolor\":\"#E5ECF6\",\"subunitcolor\":\"white\",\"showland\":true,\"showlakes\":true,\"lakecolor\":\"white\"},\"title\":{\"x\":0.05},\"mapbox\":{\"style\":\"light\"}}},\"geo\":{\"domain\":{\"x\":[0.0,1.0],\"y\":[0.0,1.0]},\"center\":{}},\"legend\":{\"title\":{\"text\":\"postal_code\"},\"tracegroupgap\":0,\"itemsizing\":\"constant\"},\"margin\":{\"t\":60},\"title\":{\"text\":\"World map\",\"x\":0.5}},                        {\"responsive\": true}                    )                };                            </script>        </div>"
      ],
      "text/plain": [
       "Figure({\n",
       "    'data': [{'geo': 'geo',\n",
       "              'hovertemplate': ('<b>%{hovertext}</b><br><br>pos' ... '}<br>lon=%{lon}<extra></extra>'),\n",
       "              'hovertext': array(['03100'], dtype=object),\n",
       "              'lat': array([46.34392097]),\n",
       "              'legendgroup': '03100',\n",
       "              'lon': array([2.59412756]),\n",
       "              'marker': {'color': '#636efa', 'size': array([1]), 'sizemode': 'area', 'sizeref': 0.005, 'symbol': 'circle'},\n",
       "              'mode': 'markers',\n",
       "              'name': '03100',\n",
       "              'showlegend': True,\n",
       "              'type': 'scattergeo'},\n",
       "             {'geo': 'geo',\n",
       "              'hovertemplate': ('<b>%{hovertext}</b><br><br>pos' ... '}<br>lon=%{lon}<extra></extra>'),\n",
       "              'hovertext': array(['06200'], dtype=object),\n",
       "              'lat': array([43.67991951]),\n",
       "              'legendgroup': '06200',\n",
       "              'lon': array([7.21034937]),\n",
       "              'marker': {'color': '#EF553B', 'size': array([1]), 'sizemode': 'area', 'sizeref': 0.005, 'symbol': 'circle'},\n",
       "              'mode': 'markers',\n",
       "              'name': '06200',\n",
       "              'showlegend': True,\n",
       "              'type': 'scattergeo'},\n",
       "             {'geo': 'geo',\n",
       "              'hovertemplate': ('<b>%{hovertext}</b><br><br>pos' ... '}<br>lon=%{lon}<extra></extra>'),\n",
       "              'hovertext': array(['12000'], dtype=object),\n",
       "              'lat': array([44.35336937]),\n",
       "              'legendgroup': '12000',\n",
       "              'lon': array([2.57210811]),\n",
       "              'marker': {'color': '#00cc96', 'size': array([1]), 'sizemode': 'area', 'sizeref': 0.005, 'symbol': 'circle'},\n",
       "              'mode': 'markers',\n",
       "              'name': '12000',\n",
       "              'showlegend': True,\n",
       "              'type': 'scattergeo'},\n",
       "             {'geo': 'geo',\n",
       "              'hovertemplate': ('<b>%{hovertext}</b><br><br>pos' ... '}<br>lon=%{lon}<extra></extra>'),\n",
       "              'hovertext': array(['17100'], dtype=object),\n",
       "              'lat': array([45.74908525]),\n",
       "              'legendgroup': '17100',\n",
       "              'lon': array([-0.62578625]),\n",
       "              'marker': {'color': '#ab63fa', 'size': array([2]), 'sizemode': 'area', 'sizeref': 0.005, 'symbol': 'circle'},\n",
       "              'mode': 'markers',\n",
       "              'name': '17100',\n",
       "              'showlegend': True,\n",
       "              'type': 'scattergeo'},\n",
       "             {'geo': 'geo',\n",
       "              'hovertemplate': ('<b>%{hovertext}</b><br><br>pos' ... '}<br>lon=%{lon}<extra></extra>'),\n",
       "              'hovertext': array(['21000'], dtype=object),\n",
       "              'lat': array([47.32602162]),\n",
       "              'legendgroup': '21000',\n",
       "              'lon': array([5.04486234]),\n",
       "              'marker': {'color': '#FFA15A', 'size': array([1]), 'sizemode': 'area', 'sizeref': 0.005, 'symbol': 'circle'},\n",
       "              'mode': 'markers',\n",
       "              'name': '21000',\n",
       "              'showlegend': True,\n",
       "              'type': 'scattergeo'},\n",
       "             {'geo': 'geo',\n",
       "              'hovertemplate': ('<b>%{hovertext}</b><br><br>pos' ... '}<br>lon=%{lon}<extra></extra>'),\n",
       "              'hovertext': array(['23000'], dtype=object),\n",
       "              'lat': array([46.16948466]),\n",
       "              'legendgroup': '23000',\n",
       "              'lon': array([1.87385974]),\n",
       "              'marker': {'color': '#19d3f3', 'size': array([1]), 'sizemode': 'area', 'sizeref': 0.005, 'symbol': 'circle'},\n",
       "              'mode': 'markers',\n",
       "              'name': '23000',\n",
       "              'showlegend': True,\n",
       "              'type': 'scattergeo'},\n",
       "             {'geo': 'geo',\n",
       "              'hovertemplate': ('<b>%{hovertext}</b><br><br>pos' ... '}<br>lon=%{lon}<extra></extra>'),\n",
       "              'hovertext': array(['42300'], dtype=object),\n",
       "              'lat': array([46.03398703]),\n",
       "              'legendgroup': '42300',\n",
       "              'lon': array([4.06130756]),\n",
       "              'marker': {'color': '#FF6692', 'size': array([2]), 'sizemode': 'area', 'sizeref': 0.005, 'symbol': 'circle'},\n",
       "              'mode': 'markers',\n",
       "              'name': '42300',\n",
       "              'showlegend': True,\n",
       "              'type': 'scattergeo'},\n",
       "             {'geo': 'geo',\n",
       "              'hovertemplate': ('<b>%{hovertext}</b><br><br>pos' ... '}<br>lon=%{lon}<extra></extra>'),\n",
       "              'hovertext': array(['44120'], dtype=object),\n",
       "              'lat': array([47.17068399]),\n",
       "              'legendgroup': '44120',\n",
       "              'lon': array([-1.48146834]),\n",
       "              'marker': {'color': '#B6E880', 'size': array([1]), 'sizemode': 'area', 'sizeref': 0.005, 'symbol': 'circle'},\n",
       "              'mode': 'markers',\n",
       "              'name': '44120',\n",
       "              'showlegend': True,\n",
       "              'type': 'scattergeo'},\n",
       "             {'geo': 'geo',\n",
       "              'hovertemplate': ('<b>%{hovertext}</b><br><br>pos' ... '}<br>lon=%{lon}<extra></extra>'),\n",
       "              'hovertext': array(['47300'], dtype=object),\n",
       "              'lat': array([44.40285867]),\n",
       "              'legendgroup': '47300',\n",
       "              'lon': array([0.69846364]),\n",
       "              'marker': {'color': '#FF97FF', 'size': array([1]), 'sizemode': 'area', 'sizeref': 0.005, 'symbol': 'circle'},\n",
       "              'mode': 'markers',\n",
       "              'name': '47300',\n",
       "              'showlegend': True,\n",
       "              'type': 'scattergeo'},\n",
       "             {'geo': 'geo',\n",
       "              'hovertemplate': ('<b>%{hovertext}</b><br><br>pos' ... '}<br>lon=%{lon}<extra></extra>'),\n",
       "              'hovertext': array(['59150'], dtype=object),\n",
       "              'lat': array([50.66667109]),\n",
       "              'legendgroup': '59150',\n",
       "              'lon': array([3.20441137]),\n",
       "              'marker': {'color': '#FECB52', 'size': array([1]), 'sizemode': 'area', 'sizeref': 0.005, 'symbol': 'circle'},\n",
       "              'mode': 'markers',\n",
       "              'name': '59150',\n",
       "              'showlegend': True,\n",
       "              'type': 'scattergeo'},\n",
       "             {'geo': 'geo',\n",
       "              'hovertemplate': ('<b>%{hovertext}</b><br><br>pos' ... '}<br>lon=%{lon}<extra></extra>'),\n",
       "              'hovertext': array(['59430'], dtype=object),\n",
       "              'lat': array([51.03021607]),\n",
       "              'legendgroup': '59430',\n",
       "              'lon': array([2.33608818]),\n",
       "              'marker': {'color': '#636efa', 'size': array([2]), 'sizemode': 'area', 'sizeref': 0.005, 'symbol': 'circle'},\n",
       "              'mode': 'markers',\n",
       "              'name': '59430',\n",
       "              'showlegend': True,\n",
       "              'type': 'scattergeo'},\n",
       "             {'geo': 'geo',\n",
       "              'hovertemplate': ('<b>%{hovertext}</b><br><br>pos' ... '}<br>lon=%{lon}<extra></extra>'),\n",
       "              'hovertext': array(['59493'], dtype=object),\n",
       "              'lat': array([50.61758126]),\n",
       "              'legendgroup': '59493',\n",
       "              'lon': array([3.16066156]),\n",
       "              'marker': {'color': '#EF553B', 'size': array([1]), 'sizemode': 'area', 'sizeref': 0.005, 'symbol': 'circle'},\n",
       "              'mode': 'markers',\n",
       "              'name': '59493',\n",
       "              'showlegend': True,\n",
       "              'type': 'scattergeo'},\n",
       "             {'geo': 'geo',\n",
       "              'hovertemplate': ('<b>%{hovertext}</b><br><br>pos' ... '}<br>lon=%{lon}<extra></extra>'),\n",
       "              'hovertext': array(['67100'], dtype=object),\n",
       "              'lat': array([48.56480236]),\n",
       "              'legendgroup': '67100',\n",
       "              'lon': array([7.76115178]),\n",
       "              'marker': {'color': '#00cc96', 'size': array([1]), 'sizemode': 'area', 'sizeref': 0.005, 'symbol': 'circle'},\n",
       "              'mode': 'markers',\n",
       "              'name': '67100',\n",
       "              'showlegend': True,\n",
       "              'type': 'scattergeo'},\n",
       "             {'geo': 'geo',\n",
       "              'hovertemplate': ('<b>%{hovertext}</b><br><br>pos' ... '}<br>lon=%{lon}<extra></extra>'),\n",
       "              'hovertext': array(['68300'], dtype=object),\n",
       "              'lat': array([47.59992182]),\n",
       "              'legendgroup': '68300',\n",
       "              'lon': array([7.54565833]),\n",
       "              'marker': {'color': '#ab63fa', 'size': array([1]), 'sizemode': 'area', 'sizeref': 0.005, 'symbol': 'circle'},\n",
       "              'mode': 'markers',\n",
       "              'name': '68300',\n",
       "              'showlegend': True,\n",
       "              'type': 'scattergeo'},\n",
       "             {'geo': 'geo',\n",
       "              'hovertemplate': ('<b>%{hovertext}</b><br><br>pos' ... '}<br>lon=%{lon}<extra></extra>'),\n",
       "              'hovertext': array(['69009'], dtype=object),\n",
       "              'lat': array([45.77939055]),\n",
       "              'legendgroup': '69009',\n",
       "              'lon': array([4.80831624]),\n",
       "              'marker': {'color': '#FFA15A', 'size': array([1]), 'sizemode': 'area', 'sizeref': 0.005, 'symbol': 'circle'},\n",
       "              'mode': 'markers',\n",
       "              'name': '69009',\n",
       "              'showlegend': True,\n",
       "              'type': 'scattergeo'},\n",
       "             {'geo': 'geo',\n",
       "              'hovertemplate': ('<b>%{hovertext}</b><br><br>pos' ... '}<br>lon=%{lon}<extra></extra>'),\n",
       "              'hovertext': array(['75014'], dtype=object),\n",
       "              'lat': array([48.83052209]),\n",
       "              'legendgroup': '75014',\n",
       "              'lon': array([2.32526425]),\n",
       "              'marker': {'color': '#19d3f3', 'size': array([1]), 'sizemode': 'area', 'sizeref': 0.005, 'symbol': 'circle'},\n",
       "              'mode': 'markers',\n",
       "              'name': '75014',\n",
       "              'showlegend': True,\n",
       "              'type': 'scattergeo'},\n",
       "             {'geo': 'geo',\n",
       "              'hovertemplate': ('<b>%{hovertext}</b><br><br>pos' ... '}<br>lon=%{lon}<extra></extra>'),\n",
       "              'hovertext': array(['76120'], dtype=object),\n",
       "              'lat': array([49.41068287]),\n",
       "              'legendgroup': '76120',\n",
       "              'lon': array([1.05437924]),\n",
       "              'marker': {'color': '#FF6692', 'size': array([1]), 'sizemode': 'area', 'sizeref': 0.005, 'symbol': 'circle'},\n",
       "              'mode': 'markers',\n",
       "              'name': '76120',\n",
       "              'showlegend': True,\n",
       "              'type': 'scattergeo'},\n",
       "             {'geo': 'geo',\n",
       "              'hovertemplate': ('<b>%{hovertext}</b><br><br>pos' ... '}<br>lon=%{lon}<extra></extra>'),\n",
       "              'hovertext': array(['76130'], dtype=object),\n",
       "              'lat': array([49.46224713]),\n",
       "              'legendgroup': '76130',\n",
       "              'lon': array([1.08104553]),\n",
       "              'marker': {'color': '#B6E880', 'size': array([1]), 'sizemode': 'area', 'sizeref': 0.005, 'symbol': 'circle'},\n",
       "              'mode': 'markers',\n",
       "              'name': '76130',\n",
       "              'showlegend': True,\n",
       "              'type': 'scattergeo'},\n",
       "             {'geo': 'geo',\n",
       "              'hovertemplate': ('<b>%{hovertext}</b><br><br>pos' ... '}<br>lon=%{lon}<extra></extra>'),\n",
       "              'hovertext': array(['77000'], dtype=object),\n",
       "              'lat': array([48.53976241]),\n",
       "              'legendgroup': '77000',\n",
       "              'lon': array([2.66098841]),\n",
       "              'marker': {'color': '#FF97FF', 'size': array([1]), 'sizemode': 'area', 'sizeref': 0.005, 'symbol': 'circle'},\n",
       "              'mode': 'markers',\n",
       "              'name': '77000',\n",
       "              'showlegend': True,\n",
       "              'type': 'scattergeo'},\n",
       "             {'geo': 'geo',\n",
       "              'hovertemplate': ('<b>%{hovertext}</b><br><br>pos' ... '}<br>lon=%{lon}<extra></extra>'),\n",
       "              'hovertext': array(['77190'], dtype=object),\n",
       "              'lat': array([48.51373048]),\n",
       "              'legendgroup': '77190',\n",
       "              'lon': array([2.6263972]),\n",
       "              'marker': {'color': '#FECB52', 'size': array([1]), 'sizemode': 'area', 'sizeref': 0.005, 'symbol': 'circle'},\n",
       "              'mode': 'markers',\n",
       "              'name': '77190',\n",
       "              'showlegend': True,\n",
       "              'type': 'scattergeo'},\n",
       "             {'geo': 'geo',\n",
       "              'hovertemplate': ('<b>%{hovertext}</b><br><br>pos' ... '}<br>lon=%{lon}<extra></extra>'),\n",
       "              'hovertext': array(['77270'], dtype=object),\n",
       "              'lat': array([48.94721752]),\n",
       "              'legendgroup': '77270',\n",
       "              'lon': array([2.61168592]),\n",
       "              'marker': {'color': '#636efa', 'size': array([1]), 'sizemode': 'area', 'sizeref': 0.005, 'symbol': 'circle'},\n",
       "              'mode': 'markers',\n",
       "              'name': '77270',\n",
       "              'showlegend': True,\n",
       "              'type': 'scattergeo'},\n",
       "             {'geo': 'geo',\n",
       "              'hovertemplate': ('<b>%{hovertext}</b><br><br>pos' ... '}<br>lon=%{lon}<extra></extra>'),\n",
       "              'hovertext': array(['78370'], dtype=object),\n",
       "              'lat': array([48.82670768]),\n",
       "              'legendgroup': '78370',\n",
       "              'lon': array([1.9502827]),\n",
       "              'marker': {'color': '#EF553B', 'size': array([1]), 'sizemode': 'area', 'sizeref': 0.005, 'symbol': 'circle'},\n",
       "              'mode': 'markers',\n",
       "              'name': '78370',\n",
       "              'showlegend': True,\n",
       "              'type': 'scattergeo'},\n",
       "             {'geo': 'geo',\n",
       "              'hovertemplate': ('<b>%{hovertext}</b><br><br>pos' ... '}<br>lon=%{lon}<extra></extra>'),\n",
       "              'hovertext': array(['83000'], dtype=object),\n",
       "              'lat': array([43.12450795]),\n",
       "              'legendgroup': '83000',\n",
       "              'lon': array([5.93555399]),\n",
       "              'marker': {'color': '#00cc96', 'size': array([2]), 'sizemode': 'area', 'sizeref': 0.005, 'symbol': 'circle'},\n",
       "              'mode': 'markers',\n",
       "              'name': '83000',\n",
       "              'showlegend': True,\n",
       "              'type': 'scattergeo'},\n",
       "             {'geo': 'geo',\n",
       "              'hovertemplate': ('<b>%{hovertext}</b><br><br>pos' ... '}<br>lon=%{lon}<extra></extra>'),\n",
       "              'hovertext': array(['83300'], dtype=object),\n",
       "              'lat': array([43.53509167]),\n",
       "              'legendgroup': '83300',\n",
       "              'lon': array([6.45949938]),\n",
       "              'marker': {'color': '#ab63fa', 'size': array([1]), 'sizemode': 'area', 'sizeref': 0.005, 'symbol': 'circle'},\n",
       "              'mode': 'markers',\n",
       "              'name': '83300',\n",
       "              'showlegend': True,\n",
       "              'type': 'scattergeo'},\n",
       "             {'geo': 'geo',\n",
       "              'hovertemplate': ('<b>%{hovertext}</b><br><br>pos' ... '}<br>lon=%{lon}<extra></extra>'),\n",
       "              'hovertext': array(['84000'], dtype=object),\n",
       "              'lat': array([43.94203851]),\n",
       "              'legendgroup': '84000',\n",
       "              'lon': array([4.81630206]),\n",
       "              'marker': {'color': '#FFA15A', 'size': array([1]), 'sizemode': 'area', 'sizeref': 0.005, 'symbol': 'circle'},\n",
       "              'mode': 'markers',\n",
       "              'name': '84000',\n",
       "              'showlegend': True,\n",
       "              'type': 'scattergeo'},\n",
       "             {'geo': 'geo',\n",
       "              'hovertemplate': ('<b>%{hovertext}</b><br><br>pos' ... '}<br>lon=%{lon}<extra></extra>'),\n",
       "              'hovertext': array(['85000'], dtype=object),\n",
       "              'lat': array([46.68087883]),\n",
       "              'legendgroup': '85000',\n",
       "              'lon': array([-1.42489045]),\n",
       "              'marker': {'color': '#19d3f3', 'size': array([1]), 'sizemode': 'area', 'sizeref': 0.005, 'symbol': 'circle'},\n",
       "              'mode': 'markers',\n",
       "              'name': '85000',\n",
       "              'showlegend': True,\n",
       "              'type': 'scattergeo'},\n",
       "             {'geo': 'geo',\n",
       "              'hovertemplate': ('<b>%{hovertext}</b><br><br>pos' ... '}<br>lon=%{lon}<extra></extra>'),\n",
       "              'hovertext': array(['92290'], dtype=object),\n",
       "              'lat': array([48.77039024]),\n",
       "              'legendgroup': '92290',\n",
       "              'lon': array([2.26441565]),\n",
       "              'marker': {'color': '#FF6692', 'size': array([1]), 'sizemode': 'area', 'sizeref': 0.005, 'symbol': 'circle'},\n",
       "              'mode': 'markers',\n",
       "              'name': '92290',\n",
       "              'showlegend': True,\n",
       "              'type': 'scattergeo'},\n",
       "             {'geo': 'geo',\n",
       "              'hovertemplate': ('<b>%{hovertext}</b><br><br>pos' ... '}<br>lon=%{lon}<extra></extra>'),\n",
       "              'hovertext': array(['92360'], dtype=object),\n",
       "              'lat': array([48.78758432]),\n",
       "              'legendgroup': '92360',\n",
       "              'lon': array([2.2268341]),\n",
       "              'marker': {'color': '#B6E880', 'size': array([2]), 'sizemode': 'area', 'sizeref': 0.005, 'symbol': 'circle'},\n",
       "              'mode': 'markers',\n",
       "              'name': '92360',\n",
       "              'showlegend': True,\n",
       "              'type': 'scattergeo'},\n",
       "             {'geo': 'geo',\n",
       "              'hovertemplate': ('<b>%{hovertext}</b><br><br>pos' ... '}<br>lon=%{lon}<extra></extra>'),\n",
       "              'hovertext': array(['93120'], dtype=object),\n",
       "              'lat': array([48.92805007]),\n",
       "              'legendgroup': '93120',\n",
       "              'lon': array([2.39588118]),\n",
       "              'marker': {'color': '#FF97FF', 'size': array([1]), 'sizemode': 'area', 'sizeref': 0.005, 'symbol': 'circle'},\n",
       "              'mode': 'markers',\n",
       "              'name': '93120',\n",
       "              'showlegend': True,\n",
       "              'type': 'scattergeo'},\n",
       "             {'geo': 'geo',\n",
       "              'hovertemplate': ('<b>%{hovertext}</b><br><br>pos' ... '}<br>lon=%{lon}<extra></extra>'),\n",
       "              'hovertext': array(['93240'], dtype=object),\n",
       "              'lat': array([48.95787335]),\n",
       "              'legendgroup': '93240',\n",
       "              'lon': array([2.37791275]),\n",
       "              'marker': {'color': '#FECB52', 'size': array([1]), 'sizemode': 'area', 'sizeref': 0.005, 'symbol': 'circle'},\n",
       "              'mode': 'markers',\n",
       "              'name': '93240',\n",
       "              'showlegend': True,\n",
       "              'type': 'scattergeo'},\n",
       "             {'geo': 'geo',\n",
       "              'hovertemplate': ('<b>%{hovertext}</b><br><br>pos' ... '}<br>lon=%{lon}<extra></extra>'),\n",
       "              'hovertext': array(['93400'], dtype=object),\n",
       "              'lat': array([48.90810612]),\n",
       "              'legendgroup': '93400',\n",
       "              'lon': array([2.33693581]),\n",
       "              'marker': {'color': '#636efa', 'size': array([2]), 'sizemode': 'area', 'sizeref': 0.005, 'symbol': 'circle'},\n",
       "              'mode': 'markers',\n",
       "              'name': '93400',\n",
       "              'showlegend': True,\n",
       "              'type': 'scattergeo'},\n",
       "             {'geo': 'geo',\n",
       "              'hovertemplate': ('<b>%{hovertext}</b><br><br>pos' ... '}<br>lon=%{lon}<extra></extra>'),\n",
       "              'hovertext': array(['94270'], dtype=object),\n",
       "              'lat': array([48.81232889]),\n",
       "              'legendgroup': '94270',\n",
       "              'lon': array([2.36055479]),\n",
       "              'marker': {'color': '#EF553B', 'size': array([2]), 'sizemode': 'area', 'sizeref': 0.005, 'symbol': 'circle'},\n",
       "              'mode': 'markers',\n",
       "              'name': '94270',\n",
       "              'showlegend': True,\n",
       "              'type': 'scattergeo'},\n",
       "             {'geo': 'geo',\n",
       "              'hovertemplate': ('<b>%{hovertext}</b><br><br>pos' ... '}<br>lon=%{lon}<extra></extra>'),\n",
       "              'hovertext': array(['95000'], dtype=object),\n",
       "              'lat': array([49.03967725]),\n",
       "              'legendgroup': '95000',\n",
       "              'lon': array([2.0757048]),\n",
       "              'marker': {'color': '#00cc96', 'size': array([1]), 'sizemode': 'area', 'sizeref': 0.005, 'symbol': 'circle'},\n",
       "              'mode': 'markers',\n",
       "              'name': '95000',\n",
       "              'showlegend': True,\n",
       "              'type': 'scattergeo'},\n",
       "             {'geo': 'geo',\n",
       "              'hovertemplate': ('<b>%{hovertext}</b><br><br>pos' ... '}<br>lon=%{lon}<extra></extra>'),\n",
       "              'hovertext': array(['95110'], dtype=object),\n",
       "              'lat': array([48.97278914]),\n",
       "              'legendgroup': '95110',\n",
       "              'lon': array([2.25352734]),\n",
       "              'marker': {'color': '#ab63fa', 'size': array([1]), 'sizemode': 'area', 'sizeref': 0.005, 'symbol': 'circle'},\n",
       "              'mode': 'markers',\n",
       "              'name': '95110',\n",
       "              'showlegend': True,\n",
       "              'type': 'scattergeo'},\n",
       "             {'geo': 'geo',\n",
       "              'hovertemplate': ('<b>%{hovertext}</b><br><br>pos' ... '}<br>lon=%{lon}<extra></extra>'),\n",
       "              'hovertext': array(['95800'], dtype=object),\n",
       "              'lat': array([49.04604892]),\n",
       "              'legendgroup': '95800',\n",
       "              'lon': array([2.02797813]),\n",
       "              'marker': {'color': '#FFA15A', 'size': array([1]), 'sizemode': 'area', 'sizeref': 0.005, 'symbol': 'circle'},\n",
       "              'mode': 'markers',\n",
       "              'name': '95800',\n",
       "              'showlegend': True,\n",
       "              'type': 'scattergeo'},\n",
       "             {'geo': 'geo',\n",
       "              'hovertemplate': ('<b>%{hovertext}</b><br><br>pos' ... '}<br>lon=%{lon}<extra></extra>'),\n",
       "              'hovertext': array(['97450'], dtype=object),\n",
       "              'lat': array([-21.28463903]),\n",
       "              'legendgroup': '97450',\n",
       "              'lon': array([55.40802608]),\n",
       "              'marker': {'color': '#19d3f3', 'size': array([1]), 'sizemode': 'area', 'sizeref': 0.005, 'symbol': 'circle'},\n",
       "              'mode': 'markers',\n",
       "              'name': '97450',\n",
       "              'showlegend': True,\n",
       "              'type': 'scattergeo'}],\n",
       "    'layout': {'geo': {'center': {}, 'domain': {'x': [0.0, 1.0], 'y': [0.0, 1.0]}},\n",
       "               'legend': {'itemsizing': 'constant', 'title': {'text': 'postal_code'}, 'tracegroupgap': 0},\n",
       "               'margin': {'t': 60},\n",
       "               'template': '...',\n",
       "               'title': {'text': 'World map', 'x': 0.5}}\n",
       "})"
      ]
     },
     "execution_count": 9,
     "metadata": {},
     "output_type": "execute_result"
    }
   ],
   "source": [
    "lat=np.array([tx[0] for tx in count_per_area['localisation']])\n",
    "lon=np.array([tx[1] for tx in count_per_area['localisation']])\n",
    "\n",
    "fig = px.scatter_geo(count_per_area,lat=lat,lon=lon, hover_name=\"postal_code\",color='postal_code',size='nom')\n",
    "fig.update_layout(title = 'World map', title_x=0.5)\n",
    "#fig.show()"
   ]
  },
  {
   "cell_type": "code",
   "execution_count": 10,
   "metadata": {},
   "outputs": [
    {
     "name": "stderr",
     "output_type": "stream",
     "text": [
      "/tmp/ipykernel_25097/241965483.py:3: FutureWarning:\n",
      "\n",
      "The default value of numeric_only in DataFrameGroupBy.mean is deprecated. In a future version, numeric_only will default to False. Either specify numeric_only or select only columns which should be valid for the function.\n",
      "\n"
     ]
    },
    {
     "data": {
      "text/html": [
       "<div>\n",
       "<style scoped>\n",
       "    .dataframe tbody tr th:only-of-type {\n",
       "        vertical-align: middle;\n",
       "    }\n",
       "\n",
       "    .dataframe tbody tr th {\n",
       "        vertical-align: top;\n",
       "    }\n",
       "\n",
       "    .dataframe thead th {\n",
       "        text-align: right;\n",
       "    }\n",
       "</style>\n",
       "<table border=\"1\" class=\"dataframe\">\n",
       "  <thead>\n",
       "    <tr style=\"text-align: right;\">\n",
       "      <th></th>\n",
       "      <th>postal_code</th>\n",
       "      <th>revenu_fiscal_de_ref</th>\n",
       "      <th>Unnamed: 0</th>\n",
       "    </tr>\n",
       "  </thead>\n",
       "  <tbody>\n",
       "    <tr>\n",
       "      <th>0</th>\n",
       "      <td>03100</td>\n",
       "      <td>59893.0</td>\n",
       "      <td>64.0</td>\n",
       "    </tr>\n",
       "    <tr>\n",
       "      <th>1</th>\n",
       "      <td>06200</td>\n",
       "      <td>81758.0</td>\n",
       "      <td>26.0</td>\n",
       "    </tr>\n",
       "    <tr>\n",
       "      <th>2</th>\n",
       "      <td>12000</td>\n",
       "      <td>93668.0</td>\n",
       "      <td>61.0</td>\n",
       "    </tr>\n",
       "    <tr>\n",
       "      <th>3</th>\n",
       "      <td>17100</td>\n",
       "      <td>38543.0</td>\n",
       "      <td>32.0</td>\n",
       "    </tr>\n",
       "    <tr>\n",
       "      <th>4</th>\n",
       "      <td>17100</td>\n",
       "      <td>52232.0</td>\n",
       "      <td>30.0</td>\n",
       "    </tr>\n",
       "    <tr>\n",
       "      <th>5</th>\n",
       "      <td>21000</td>\n",
       "      <td>74296.0</td>\n",
       "      <td>56.0</td>\n",
       "    </tr>\n",
       "    <tr>\n",
       "      <th>6</th>\n",
       "      <td>23000</td>\n",
       "      <td>38049.0</td>\n",
       "      <td>68.0</td>\n",
       "    </tr>\n",
       "    <tr>\n",
       "      <th>7</th>\n",
       "      <td>42300</td>\n",
       "      <td>41564.0</td>\n",
       "      <td>12.0</td>\n",
       "    </tr>\n",
       "    <tr>\n",
       "      <th>8</th>\n",
       "      <td>42300</td>\n",
       "      <td>79157.0</td>\n",
       "      <td>39.0</td>\n",
       "    </tr>\n",
       "    <tr>\n",
       "      <th>9</th>\n",
       "      <td>44120</td>\n",
       "      <td>61470.0</td>\n",
       "      <td>74.0</td>\n",
       "    </tr>\n",
       "    <tr>\n",
       "      <th>10</th>\n",
       "      <td>47300</td>\n",
       "      <td>9454.0</td>\n",
       "      <td>48.0</td>\n",
       "    </tr>\n",
       "    <tr>\n",
       "      <th>11</th>\n",
       "      <td>59150</td>\n",
       "      <td>70449.0</td>\n",
       "      <td>21.0</td>\n",
       "    </tr>\n",
       "    <tr>\n",
       "      <th>12</th>\n",
       "      <td>59430</td>\n",
       "      <td>6311.0</td>\n",
       "      <td>9.0</td>\n",
       "    </tr>\n",
       "    <tr>\n",
       "      <th>13</th>\n",
       "      <td>59430</td>\n",
       "      <td>40496.0</td>\n",
       "      <td>57.0</td>\n",
       "    </tr>\n",
       "    <tr>\n",
       "      <th>14</th>\n",
       "      <td>59493</td>\n",
       "      <td>98389.0</td>\n",
       "      <td>17.0</td>\n",
       "    </tr>\n",
       "    <tr>\n",
       "      <th>15</th>\n",
       "      <td>67100</td>\n",
       "      <td>66217.0</td>\n",
       "      <td>69.0</td>\n",
       "    </tr>\n",
       "    <tr>\n",
       "      <th>16</th>\n",
       "      <td>68300</td>\n",
       "      <td>80333.0</td>\n",
       "      <td>14.0</td>\n",
       "    </tr>\n",
       "    <tr>\n",
       "      <th>17</th>\n",
       "      <td>69009</td>\n",
       "      <td>96391.0</td>\n",
       "      <td>38.0</td>\n",
       "    </tr>\n",
       "    <tr>\n",
       "      <th>18</th>\n",
       "      <td>75014</td>\n",
       "      <td>4362.0</td>\n",
       "      <td>19.0</td>\n",
       "    </tr>\n",
       "    <tr>\n",
       "      <th>19</th>\n",
       "      <td>76120</td>\n",
       "      <td>55397.0</td>\n",
       "      <td>15.0</td>\n",
       "    </tr>\n",
       "    <tr>\n",
       "      <th>20</th>\n",
       "      <td>76130</td>\n",
       "      <td>67464.0</td>\n",
       "      <td>62.0</td>\n",
       "    </tr>\n",
       "    <tr>\n",
       "      <th>21</th>\n",
       "      <td>77000</td>\n",
       "      <td>77812.0</td>\n",
       "      <td>47.0</td>\n",
       "    </tr>\n",
       "    <tr>\n",
       "      <th>22</th>\n",
       "      <td>77190</td>\n",
       "      <td>9641.0</td>\n",
       "      <td>85.0</td>\n",
       "    </tr>\n",
       "    <tr>\n",
       "      <th>23</th>\n",
       "      <td>77270</td>\n",
       "      <td>27050.0</td>\n",
       "      <td>27.0</td>\n",
       "    </tr>\n",
       "    <tr>\n",
       "      <th>24</th>\n",
       "      <td>78370</td>\n",
       "      <td>45340.0</td>\n",
       "      <td>4.0</td>\n",
       "    </tr>\n",
       "    <tr>\n",
       "      <th>25</th>\n",
       "      <td>83000</td>\n",
       "      <td>51662.0</td>\n",
       "      <td>78.0</td>\n",
       "    </tr>\n",
       "    <tr>\n",
       "      <th>26</th>\n",
       "      <td>83000</td>\n",
       "      <td>82812.0</td>\n",
       "      <td>82.0</td>\n",
       "    </tr>\n",
       "    <tr>\n",
       "      <th>27</th>\n",
       "      <td>83300</td>\n",
       "      <td>49855.0</td>\n",
       "      <td>24.0</td>\n",
       "    </tr>\n",
       "    <tr>\n",
       "      <th>28</th>\n",
       "      <td>84000</td>\n",
       "      <td>74887.0</td>\n",
       "      <td>60.0</td>\n",
       "    </tr>\n",
       "    <tr>\n",
       "      <th>29</th>\n",
       "      <td>85000</td>\n",
       "      <td>16931.0</td>\n",
       "      <td>45.0</td>\n",
       "    </tr>\n",
       "    <tr>\n",
       "      <th>30</th>\n",
       "      <td>92290</td>\n",
       "      <td>66086.0</td>\n",
       "      <td>40.0</td>\n",
       "    </tr>\n",
       "    <tr>\n",
       "      <th>31</th>\n",
       "      <td>92360</td>\n",
       "      <td>45186.0</td>\n",
       "      <td>29.0</td>\n",
       "    </tr>\n",
       "    <tr>\n",
       "      <th>32</th>\n",
       "      <td>92360</td>\n",
       "      <td>74558.0</td>\n",
       "      <td>75.0</td>\n",
       "    </tr>\n",
       "    <tr>\n",
       "      <th>33</th>\n",
       "      <td>93120</td>\n",
       "      <td>5435.0</td>\n",
       "      <td>0.0</td>\n",
       "    </tr>\n",
       "    <tr>\n",
       "      <th>34</th>\n",
       "      <td>93240</td>\n",
       "      <td>47040.0</td>\n",
       "      <td>5.0</td>\n",
       "    </tr>\n",
       "    <tr>\n",
       "      <th>35</th>\n",
       "      <td>93400</td>\n",
       "      <td>44532.0</td>\n",
       "      <td>76.0</td>\n",
       "    </tr>\n",
       "    <tr>\n",
       "      <th>36</th>\n",
       "      <td>93400</td>\n",
       "      <td>61020.0</td>\n",
       "      <td>81.0</td>\n",
       "    </tr>\n",
       "    <tr>\n",
       "      <th>37</th>\n",
       "      <td>94270</td>\n",
       "      <td>57990.0</td>\n",
       "      <td>18.0</td>\n",
       "    </tr>\n",
       "    <tr>\n",
       "      <th>38</th>\n",
       "      <td>94270</td>\n",
       "      <td>83064.0</td>\n",
       "      <td>20.0</td>\n",
       "    </tr>\n",
       "    <tr>\n",
       "      <th>39</th>\n",
       "      <td>95000</td>\n",
       "      <td>55993.0</td>\n",
       "      <td>33.0</td>\n",
       "    </tr>\n",
       "    <tr>\n",
       "      <th>40</th>\n",
       "      <td>95110</td>\n",
       "      <td>41682.0</td>\n",
       "      <td>50.0</td>\n",
       "    </tr>\n",
       "    <tr>\n",
       "      <th>41</th>\n",
       "      <td>95800</td>\n",
       "      <td>31145.0</td>\n",
       "      <td>63.0</td>\n",
       "    </tr>\n",
       "    <tr>\n",
       "      <th>42</th>\n",
       "      <td>97450</td>\n",
       "      <td>25186.0</td>\n",
       "      <td>10.0</td>\n",
       "    </tr>\n",
       "  </tbody>\n",
       "</table>\n",
       "</div>"
      ],
      "text/plain": [
       "   postal_code  revenu_fiscal_de_ref  Unnamed: 0\n",
       "0        03100               59893.0        64.0\n",
       "1        06200               81758.0        26.0\n",
       "2        12000               93668.0        61.0\n",
       "3        17100               38543.0        32.0\n",
       "4        17100               52232.0        30.0\n",
       "5        21000               74296.0        56.0\n",
       "6        23000               38049.0        68.0\n",
       "7        42300               41564.0        12.0\n",
       "8        42300               79157.0        39.0\n",
       "9        44120               61470.0        74.0\n",
       "10       47300                9454.0        48.0\n",
       "11       59150               70449.0        21.0\n",
       "12       59430                6311.0         9.0\n",
       "13       59430               40496.0        57.0\n",
       "14       59493               98389.0        17.0\n",
       "15       67100               66217.0        69.0\n",
       "16       68300               80333.0        14.0\n",
       "17       69009               96391.0        38.0\n",
       "18       75014                4362.0        19.0\n",
       "19       76120               55397.0        15.0\n",
       "20       76130               67464.0        62.0\n",
       "21       77000               77812.0        47.0\n",
       "22       77190                9641.0        85.0\n",
       "23       77270               27050.0        27.0\n",
       "24       78370               45340.0         4.0\n",
       "25       83000               51662.0        78.0\n",
       "26       83000               82812.0        82.0\n",
       "27       83300               49855.0        24.0\n",
       "28       84000               74887.0        60.0\n",
       "29       85000               16931.0        45.0\n",
       "30       92290               66086.0        40.0\n",
       "31       92360               45186.0        29.0\n",
       "32       92360               74558.0        75.0\n",
       "33       93120                5435.0         0.0\n",
       "34       93240               47040.0         5.0\n",
       "35       93400               44532.0        76.0\n",
       "36       93400               61020.0        81.0\n",
       "37       94270               57990.0        18.0\n",
       "38       94270               83064.0        20.0\n",
       "39       95000               55993.0        33.0\n",
       "40       95110               41682.0        50.0\n",
       "41       95800               31145.0        63.0\n",
       "42       97450               25186.0        10.0"
      ]
     },
     "execution_count": 10,
     "metadata": {},
     "output_type": "execute_result"
    }
   ],
   "source": [
    "# Revenus moyens par département\n",
    "taxes['revenu_fiscal_de_ref'].astype('int64')\n",
    "revenus_par_zone = taxes.groupby(['postal_code','revenu_fiscal_de_ref']).agg('mean').reset_index()\n",
    "revenus_par_zone"
   ]
  },
  {
   "cell_type": "code",
   "execution_count": 15,
   "metadata": {},
   "outputs": [
    {
     "data": {
      "image/png": "[encoded data removed]",
      "text/plain": [
       "<Figure size 1000x600 with 1 Axes>"
      ]
     },
     "metadata": {},
     "output_type": "display_data"
    }
   ],
   "source": [
    "plt.figure(figsize=(10,6))\n",
    "sns.barplot(x=revenus_par_zone['postal_code'],y=revenus_par_zone['revenu_fiscal_de_ref'].head(5))\n",
    "plt.xticks(rotation=45)\n",
    "plt.title(\"Revenus moyens par département\")\n",
    "plt.show()"
   ]
  }
 ],
 "metadata": {
  "kernelspec": {
   "display_name": "Python 3.8.0 ('env': venv)",
   "language": "python",
   "name": "python3"
  },
  "language_info": {
   "codemirror_mode": {
    "name": "ipython",
    "version": 3
   },
   "file_extension": ".py",
   "mimetype": "text/x-python",
   "name": "python",
   "nbconvert_exporter": "python",
   "pygments_lexer": "ipython3",
   "version": "3.8.0"
  },
  "orig_nbformat": 4,
  "vscode": {
   "interpreter": {
    "hash": "27ad1d4d32ddca2a7238752257f0853b0384fd2d79c3d75b4581a24ca6d30169"
   }
  }
 },
 "nbformat": 4,
 "nbformat_minor": 2
}
