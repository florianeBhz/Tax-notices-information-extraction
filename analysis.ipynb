{
 "cells": [
  {
   "cell_type": "code",
   "execution_count": null,
   "metadata": {},
   "outputs": [],
   "source": [
    "\n",
    "from geopy.geocoders import Nominatim\n",
    "import pandas as pd\n",
    "import numpy as np\n",
    "import matplotlib.pyplot as plt\n",
    "import seaborn as sns\n",
    "import config\n",
    "import re\n",
    "import plotly.express as px\n"
   ]
  },
  {
   "cell_type": "code",
   "execution_count": null,
   "metadata": {},
   "outputs": [],
   "source": [
    "# Répartition géographique des déclarants\n",
    "geolocator = Nominatim(user_agent=\"my_user_agent\")\n",
    "\n",
    "taxes = pd.read_csv(config.EXTRACTION_FILE)\n",
    "taxes = taxes.dropna(subset=['adresse','revenu_fiscal_de_ref'])\n",
    "\n",
    "taxes['postal_code'] = taxes['adresse'].apply(\n",
    "    lambda x:re.search(r'[0-9]{5}',x).group(0)[:2] if x != \"\" else \"\")\n",
    "\n",
    "taxes['localisation'] = taxes['postal_code'].apply(\n",
    "    lambda x:(geolocator.geocode(x+' France').latitude,\n",
    "    geolocator.geocode(x+' France').longitude) if geolocator.geocode(x+' France') else ())\n"
   ]
  },
  {
   "cell_type": "code",
   "execution_count": null,
   "metadata": {},
   "outputs": [],
   "source": [
    "count_per_area = taxes.groupby(['postal_code','localisation']).agg('count').reset_index()\n",
    "count_per_area"
   ]
  },
  {
   "cell_type": "code",
   "execution_count": null,
   "metadata": {},
   "outputs": [],
   "source": [
    "lat=np.array([tx[0] for tx in count_per_area['localisation']])\n",
    "lon=np.array([tx[1] for tx in count_per_area['localisation']])\n",
    "\n",
    "fig = px.scatter_geo(count_per_area,lat=lat,lon=lon, hover_name=\"postal_code\",color='postal_code',size='nom')\n",
    "fig.update_layout(title = 'World map', title_x=0.5)\n",
    "#fig.show()"
   ]
  },
  {
   "cell_type": "code",
   "execution_count": null,
   "metadata": {},
   "outputs": [],
   "source": [
    "# Revenus moyens par département\n",
    "taxes['revenu_fiscal_de_ref'].astype('int64')\n",
    "revenus_par_zone = taxes.groupby(['postal_code','revenu_fiscal_de_ref']).agg('mean').reset_index()\n",
    "revenus_par_zone"
   ]
  },
  {
   "cell_type": "code",
   "execution_count": null,
   "metadata": {},
   "outputs": [],
   "source": [
    "plt.figure(figsize=(10,6))\n",
    "sns.barplot(x=revenus_par_zone['postal_code'],y=revenus_par_zone['revenu_fiscal_de_ref'].head(5))\n",
    "plt.xticks(rotation=45)\n",
    "plt.title(\"Revenus moyens par département\")\n",
    "plt.show()"
   ]
  }
 ],
 "metadata": {
  "kernelspec": {
   "display_name": "Python 3.8.0 ('env': venv)",
   "language": "python",
   "name": "python3"
  },
  "language_info": {
   "codemirror_mode": {
    "name": "ipython",
    "version": 3
   },
   "file_extension": ".py",
   "mimetype": "text/x-python",
   "name": "python",
   "nbconvert_exporter": "python",
   "pygments_lexer": "ipython3",
   "version": "3.8.0"
  },
  "orig_nbformat": 4,
  "vscode": {
   "interpreter": {
    "hash": "27ad1d4d32ddca2a7238752257f0853b0384fd2d79c3d75b4581a24ca6d30169"
   }
  }
 },
 "nbformat": 4,
 "nbformat_minor": 2
}
