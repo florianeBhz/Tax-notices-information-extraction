{
 "cells": [
  {
   "cell_type": "code",
   "execution_count": 30,
   "metadata": {},
   "outputs": [],
   "source": [
    "\n",
    "from geopy.geocoders import Nominatim\n",
    "import pandas as pd\n",
    "import numpy as np\n",
    "import matplotlib.pyplot as plt\n",
    "import seaborn as sns\n",
    "import config\n",
    "import re\n",
    "import plotly.express as px\n"
   ]
  },
  {
   "cell_type": "code",
   "execution_count": 23,
   "metadata": {},
   "outputs": [],
   "source": [
    "\n",
    "taxes = pd.read_csv(config.EXTRACTION_FILE)\n",
    "taxes = taxes.dropna(subset=['adresse','revenu_fiscal_de_ref'])\n",
    "taxes['revenu_fiscal_de_ref'] = taxes['revenu_fiscal_de_ref'].astype('int64')\n",
    "taxes['nb_parts'] = taxes['nb_parts'].astype('float')"
   ]
  },
  {
   "cell_type": "code",
   "execution_count": 31,
   "metadata": {},
   "outputs": [],
   "source": [
    "# Répartition géographique des déclarants\n",
    "geolocator = Nominatim(user_agent=\"my_user_agent\")\n",
    "\n",
    "taxes['postal_code'] = taxes['adresse'].apply(\n",
    "    lambda x:re.search(r'[0-9]{5}',x).group(0) if x != \"\" else \"\")\n",
    "\n",
    "taxes['localisation'] = taxes['postal_code'].apply(\n",
    "    lambda x:(geolocator.geocode(x+' France').latitude,\n",
    "    geolocator.geocode(x+' France').longitude) if geolocator.geocode(x+' France') else ())\n"
   ]
  },
  {
   "cell_type": "markdown",
   "metadata": {},
   "source": [
    "### Répartition géographique des déclarants"
   ]
  },
  {
   "cell_type": "code",
   "execution_count": 47,
   "metadata": {},
   "outputs": [],
   "source": [
    "count_per_area = taxes.groupby(['postal_code','localisation']).agg('count').reset_index()\n"
   ]
  },
  {
   "cell_type": "code",
   "execution_count": 49,
   "metadata": {},
   "outputs": [
    {
     "ename": "ValueError",
     "evalue": "Mime type rendering requires nbformat>=4.2.0 but it is not installed",
     "output_type": "error",
     "traceback": [
      "\u001b[0;31m---------------------------------------------------------------------------\u001b[0m",
      "\u001b[0;31mValueError\u001b[0m                                Traceback (most recent call last)",
      "File \u001b[0;32m~/Documents/Projects/Tax-notices-information-extraction/env/lib/python3.8/site-packages/IPython/core/formatters.py:921\u001b[0m, in \u001b[0;36mIPythonDisplayFormatter.__call__\u001b[0;34m(self, obj)\u001b[0m\n\u001b[1;32m    919\u001b[0m method \u001b[39m=\u001b[39m get_real_method(obj, \u001b[39mself\u001b[39m\u001b[39m.\u001b[39mprint_method)\n\u001b[1;32m    920\u001b[0m \u001b[39mif\u001b[39;00m method \u001b[39mis\u001b[39;00m \u001b[39mnot\u001b[39;00m \u001b[39mNone\u001b[39;00m:\n\u001b[0;32m--> 921\u001b[0m     method()\n\u001b[1;32m    922\u001b[0m     \u001b[39mreturn\u001b[39;00m \u001b[39mTrue\u001b[39;00m\n",
      "File \u001b[0;32m~/Documents/Projects/Tax-notices-information-extraction/env/lib/python3.8/site-packages/plotly/basedatatypes.py:842\u001b[0m, in \u001b[0;36mBaseFigure._ipython_display_\u001b[0;34m(self)\u001b[0m\n\u001b[1;32m    839\u001b[0m \u001b[39mimport\u001b[39;00m \u001b[39mplotly\u001b[39;00m\u001b[39m.\u001b[39;00m\u001b[39mio\u001b[39;00m \u001b[39mas\u001b[39;00m \u001b[39mpio\u001b[39;00m\n\u001b[1;32m    841\u001b[0m \u001b[39mif\u001b[39;00m pio\u001b[39m.\u001b[39mrenderers\u001b[39m.\u001b[39mrender_on_display \u001b[39mand\u001b[39;00m pio\u001b[39m.\u001b[39mrenderers\u001b[39m.\u001b[39mdefault:\n\u001b[0;32m--> 842\u001b[0m     pio\u001b[39m.\u001b[39;49mshow(\u001b[39mself\u001b[39;49m)\n\u001b[1;32m    843\u001b[0m \u001b[39melse\u001b[39;00m:\n\u001b[1;32m    844\u001b[0m     \u001b[39mprint\u001b[39m(\u001b[39mrepr\u001b[39m(\u001b[39mself\u001b[39m))\n",
      "File \u001b[0;32m~/Documents/Projects/Tax-notices-information-extraction/env/lib/python3.8/site-packages/plotly/io/_renderers.py:396\u001b[0m, in \u001b[0;36mshow\u001b[0;34m(fig, renderer, validate, **kwargs)\u001b[0m\n\u001b[1;32m    391\u001b[0m         \u001b[39mraise\u001b[39;00m \u001b[39mValueError\u001b[39;00m(\n\u001b[1;32m    392\u001b[0m             \u001b[39m\"\u001b[39m\u001b[39mMime type rendering requires ipython but it is not installed\u001b[39m\u001b[39m\"\u001b[39m\n\u001b[1;32m    393\u001b[0m         )\n\u001b[1;32m    395\u001b[0m     \u001b[39mif\u001b[39;00m \u001b[39mnot\u001b[39;00m nbformat \u001b[39mor\u001b[39;00m LooseVersion(nbformat\u001b[39m.\u001b[39m__version__) \u001b[39m<\u001b[39m LooseVersion(\u001b[39m\"\u001b[39m\u001b[39m4.2.0\u001b[39m\u001b[39m\"\u001b[39m):\n\u001b[0;32m--> 396\u001b[0m         \u001b[39mraise\u001b[39;00m \u001b[39mValueError\u001b[39;00m(\n\u001b[1;32m    397\u001b[0m             \u001b[39m\"\u001b[39m\u001b[39mMime type rendering requires nbformat>=4.2.0 but it is not installed\u001b[39m\u001b[39m\"\u001b[39m\n\u001b[1;32m    398\u001b[0m         )\n\u001b[1;32m    400\u001b[0m     ipython_display\u001b[39m.\u001b[39mdisplay(bundle, raw\u001b[39m=\u001b[39m\u001b[39mTrue\u001b[39;00m)\n\u001b[1;32m    402\u001b[0m \u001b[39m# external renderers\u001b[39;00m\n",
      "\u001b[0;31mValueError\u001b[0m: Mime type rendering requires nbformat>=4.2.0 but it is not installed"
     ]
    },
    {
     "data": {
      "application/vnd.plotly.v1+json": {
       "config": {
        "plotlyServerURL": "https://plot.ly"
       },
       "data": [
        {
         "geo": "geo",
         "hovertemplate": "<b>%{hovertext}</b><br><br>postal_code=03100<br>nom=%{marker.size}<br>lat=%{lat}<br>lon=%{lon}<extra></extra>",
         "hovertext": [
          "03100"
         ],
         "lat": [
          46.343920965742576
         ],
         "legendgroup": "03100",
         "lon": [
          2.5941275596039604
         ],
         "marker": {
          "color": "#636efa",
          "size": [
           1
          ],
          "sizemode": "area",
          "sizeref": 0.005,
          "symbol": "circle"
         },
         "mode": "markers",
         "name": "03100",
         "showlegend": true,
         "type": "scattergeo"
        },
        {
         "geo": "geo",
         "hovertemplate": "<b>%{hovertext}</b><br><br>postal_code=06200<br>nom=%{marker.size}<br>lat=%{lat}<br>lon=%{lon}<extra></extra>",
         "hovertext": [
          "06200"
         ],
         "lat": [
          43.67991951400966
         ],
         "legendgroup": "06200",
         "lon": [
          7.21034937294686
         ],
         "marker": {
          "color": "#EF553B",
          "size": [
           1
          ],
          "sizemode": "area",
          "sizeref": 0.005,
          "symbol": "circle"
         },
         "mode": "markers",
         "name": "06200",
         "showlegend": true,
         "type": "scattergeo"
        },
        {
         "geo": "geo",
         "hovertemplate": "<b>%{hovertext}</b><br><br>postal_code=12000<br>nom=%{marker.size}<br>lat=%{lat}<br>lon=%{lon}<extra></extra>",
         "hovertext": [
          "12000"
         ],
         "lat": [
          44.3533693705088
         ],
         "legendgroup": "12000",
         "lon": [
          2.572108105787316
         ],
         "marker": {
          "color": "#00cc96",
          "size": [
           1
          ],
          "sizemode": "area",
          "sizeref": 0.005,
          "symbol": "circle"
         },
         "mode": "markers",
         "name": "12000",
         "showlegend": true,
         "type": "scattergeo"
        },
        {
         "geo": "geo",
         "hovertemplate": "<b>%{hovertext}</b><br><br>postal_code=17100<br>nom=%{marker.size}<br>lat=%{lat}<br>lon=%{lon}<extra></extra>",
         "hovertext": [
          "17100"
         ],
         "lat": [
          45.749085251543214
         ],
         "legendgroup": "17100",
         "lon": [
          -0.625786249691358
         ],
         "marker": {
          "color": "#ab63fa",
          "size": [
           2
          ],
          "sizemode": "area",
          "sizeref": 0.005,
          "symbol": "circle"
         },
         "mode": "markers",
         "name": "17100",
         "showlegend": true,
         "type": "scattergeo"
        },
        {
         "geo": "geo",
         "hovertemplate": "<b>%{hovertext}</b><br><br>postal_code=21000<br>nom=%{marker.size}<br>lat=%{lat}<br>lon=%{lon}<extra></extra>",
         "hovertext": [
          "21000"
         ],
         "lat": [
          47.32602162039587
         ],
         "legendgroup": "21000",
         "lon": [
          5.044862341049914
         ],
         "marker": {
          "color": "#FFA15A",
          "size": [
           1
          ],
          "sizemode": "area",
          "sizeref": 0.005,
          "symbol": "circle"
         },
         "mode": "markers",
         "name": "21000",
         "showlegend": true,
         "type": "scattergeo"
        },
        {
         "geo": "geo",
         "hovertemplate": "<b>%{hovertext}</b><br><br>postal_code=23000<br>nom=%{marker.size}<br>lat=%{lat}<br>lon=%{lon}<extra></extra>",
         "hovertext": [
          "23000"
         ],
         "lat": [
          46.1694846633987
         ],
         "legendgroup": "23000",
         "lon": [
          1.8738597366013072
         ],
         "marker": {
          "color": "#19d3f3",
          "size": [
           1
          ],
          "sizemode": "area",
          "sizeref": 0.005,
          "symbol": "circle"
         },
         "mode": "markers",
         "name": "23000",
         "showlegend": true,
         "type": "scattergeo"
        },
        {
         "geo": "geo",
         "hovertemplate": "<b>%{hovertext}</b><br><br>postal_code=42300<br>nom=%{marker.size}<br>lat=%{lat}<br>lon=%{lon}<extra></extra>",
         "hovertext": [
          "42300"
         ],
         "lat": [
          46.03398703072626
         ],
         "legendgroup": "42300",
         "lon": [
          4.06130756424581
         ],
         "marker": {
          "color": "#FF6692",
          "size": [
           2
          ],
          "sizemode": "area",
          "sizeref": 0.005,
          "symbol": "circle"
         },
         "mode": "markers",
         "name": "42300",
         "showlegend": true,
         "type": "scattergeo"
        },
        {
         "geo": "geo",
         "hovertemplate": "<b>%{hovertext}</b><br><br>postal_code=44120<br>nom=%{marker.size}<br>lat=%{lat}<br>lon=%{lon}<extra></extra>",
         "hovertext": [
          "44120"
         ],
         "lat": [
          47.170683992145285
         ],
         "legendgroup": "44120",
         "lon": [
          -1.4814683448638004
         ],
         "marker": {
          "color": "#B6E880",
          "size": [
           1
          ],
          "sizemode": "area",
          "sizeref": 0.005,
          "symbol": "circle"
         },
         "mode": "markers",
         "name": "44120",
         "showlegend": true,
         "type": "scattergeo"
        },
        {
         "geo": "geo",
         "hovertemplate": "<b>%{hovertext}</b><br><br>postal_code=47300<br>nom=%{marker.size}<br>lat=%{lat}<br>lon=%{lon}<extra></extra>",
         "hovertext": [
          "47300"
         ],
         "lat": [
          44.40285866962025
         ],
         "legendgroup": "47300",
         "lon": [
          0.6984636405063291
         ],
         "marker": {
          "color": "#FF97FF",
          "size": [
           1
          ],
          "sizemode": "area",
          "sizeref": 0.005,
          "symbol": "circle"
         },
         "mode": "markers",
         "name": "47300",
         "showlegend": true,
         "type": "scattergeo"
        },
        {
         "geo": "geo",
         "hovertemplate": "<b>%{hovertext}</b><br><br>postal_code=59150<br>nom=%{marker.size}<br>lat=%{lat}<br>lon=%{lon}<extra></extra>",
         "hovertext": [
          "59150"
         ],
         "lat": [
          50.666671085436896
         ],
         "legendgroup": "59150",
         "lon": [
          3.2044113699029126
         ],
         "marker": {
          "color": "#FECB52",
          "size": [
           1
          ],
          "sizemode": "area",
          "sizeref": 0.005,
          "symbol": "circle"
         },
         "mode": "markers",
         "name": "59150",
         "showlegend": true,
         "type": "scattergeo"
        },
        {
         "geo": "geo",
         "hovertemplate": "<b>%{hovertext}</b><br><br>postal_code=59430<br>nom=%{marker.size}<br>lat=%{lat}<br>lon=%{lon}<extra></extra>",
         "hovertext": [
          "59430"
         ],
         "lat": [
          51.030216071255474
         ],
         "legendgroup": "59430",
         "lon": [
          2.3360881808467155
         ],
         "marker": {
          "color": "#636efa",
          "size": [
           2
          ],
          "sizemode": "area",
          "sizeref": 0.005,
          "symbol": "circle"
         },
         "mode": "markers",
         "name": "59430",
         "showlegend": true,
         "type": "scattergeo"
        },
        {
         "geo": "geo",
         "hovertemplate": "<b>%{hovertext}</b><br><br>postal_code=59493<br>nom=%{marker.size}<br>lat=%{lat}<br>lon=%{lon}<extra></extra>",
         "hovertext": [
          "59493"
         ],
         "lat": [
          50.617581256407384
         ],
         "legendgroup": "59493",
         "lon": [
          3.160661562003358
         ],
         "marker": {
          "color": "#EF553B",
          "size": [
           1
          ],
          "sizemode": "area",
          "sizeref": 0.005,
          "symbol": "circle"
         },
         "mode": "markers",
         "name": "59493",
         "showlegend": true,
         "type": "scattergeo"
        },
        {
         "geo": "geo",
         "hovertemplate": "<b>%{hovertext}</b><br><br>postal_code=67100<br>nom=%{marker.size}<br>lat=%{lat}<br>lon=%{lon}<extra></extra>",
         "hovertext": [
          "67100"
         ],
         "lat": [
          48.564802359375
         ],
         "legendgroup": "67100",
         "lon": [
          7.761151783482143
         ],
         "marker": {
          "color": "#00cc96",
          "size": [
           1
          ],
          "sizemode": "area",
          "sizeref": 0.005,
          "symbol": "circle"
         },
         "mode": "markers",
         "name": "67100",
         "showlegend": true,
         "type": "scattergeo"
        },
        {
         "geo": "geo",
         "hovertemplate": "<b>%{hovertext}</b><br><br>postal_code=68300<br>nom=%{marker.size}<br>lat=%{lat}<br>lon=%{lon}<extra></extra>",
         "hovertext": [
          "68300"
         ],
         "lat": [
          47.59992181988906
         ],
         "legendgroup": "68300",
         "lon": [
          7.545658327892235
         ],
         "marker": {
          "color": "#ab63fa",
          "size": [
           1
          ],
          "sizemode": "area",
          "sizeref": 0.005,
          "symbol": "circle"
         },
         "mode": "markers",
         "name": "68300",
         "showlegend": true,
         "type": "scattergeo"
        },
        {
         "geo": "geo",
         "hovertemplate": "<b>%{hovertext}</b><br><br>postal_code=69009<br>nom=%{marker.size}<br>lat=%{lat}<br>lon=%{lon}<extra></extra>",
         "hovertext": [
          "69009"
         ],
         "lat": [
          45.7793905476923
         ],
         "legendgroup": "69009",
         "lon": [
          4.808316235384615
         ],
         "marker": {
          "color": "#FFA15A",
          "size": [
           1
          ],
          "sizemode": "area",
          "sizeref": 0.005,
          "symbol": "circle"
         },
         "mode": "markers",
         "name": "69009",
         "showlegend": true,
         "type": "scattergeo"
        },
        {
         "geo": "geo",
         "hovertemplate": "<b>%{hovertext}</b><br><br>postal_code=75014<br>nom=%{marker.size}<br>lat=%{lat}<br>lon=%{lon}<extra></extra>",
         "hovertext": [
          "75014"
         ],
         "lat": [
          48.83052208621908
         ],
         "legendgroup": "75014",
         "lon": [
          2.325264245229682
         ],
         "marker": {
          "color": "#19d3f3",
          "size": [
           1
          ],
          "sizemode": "area",
          "sizeref": 0.005,
          "symbol": "circle"
         },
         "mode": "markers",
         "name": "75014",
         "showlegend": true,
         "type": "scattergeo"
        },
        {
         "geo": "geo",
         "hovertemplate": "<b>%{hovertext}</b><br><br>postal_code=76120<br>nom=%{marker.size}<br>lat=%{lat}<br>lon=%{lon}<extra></extra>",
         "hovertext": [
          "76120"
         ],
         "lat": [
          49.41068287234042
         ],
         "legendgroup": "76120",
         "lon": [
          1.0543792442553193
         ],
         "marker": {
          "color": "#FF6692",
          "size": [
           1
          ],
          "sizemode": "area",
          "sizeref": 0.005,
          "symbol": "circle"
         },
         "mode": "markers",
         "name": "76120",
         "showlegend": true,
         "type": "scattergeo"
        },
        {
         "geo": "geo",
         "hovertemplate": "<b>%{hovertext}</b><br><br>postal_code=76130<br>nom=%{marker.size}<br>lat=%{lat}<br>lon=%{lon}<extra></extra>",
         "hovertext": [
          "76130"
         ],
         "lat": [
          49.46224712647059
         ],
         "legendgroup": "76130",
         "lon": [
          1.0810455288235294
         ],
         "marker": {
          "color": "#B6E880",
          "size": [
           1
          ],
          "sizemode": "area",
          "sizeref": 0.005,
          "symbol": "circle"
         },
         "mode": "markers",
         "name": "76130",
         "showlegend": true,
         "type": "scattergeo"
        },
        {
         "geo": "geo",
         "hovertemplate": "<b>%{hovertext}</b><br><br>postal_code=77000<br>nom=%{marker.size}<br>lat=%{lat}<br>lon=%{lon}<extra></extra>",
         "hovertext": [
          "77000"
         ],
         "lat": [
          48.53976241396104
         ],
         "legendgroup": "77000",
         "lon": [
          2.6609884068181815
         ],
         "marker": {
          "color": "#FF97FF",
          "size": [
           1
          ],
          "sizemode": "area",
          "sizeref": 0.005,
          "symbol": "circle"
         },
         "mode": "markers",
         "name": "77000",
         "showlegend": true,
         "type": "scattergeo"
        },
        {
         "geo": "geo",
         "hovertemplate": "<b>%{hovertext}</b><br><br>postal_code=77190<br>nom=%{marker.size}<br>lat=%{lat}<br>lon=%{lon}<extra></extra>",
         "hovertext": [
          "77190"
         ],
         "lat": [
          48.51373047936508
         ],
         "legendgroup": "77190",
         "lon": [
          2.6263972015873014
         ],
         "marker": {
          "color": "#FECB52",
          "size": [
           1
          ],
          "sizemode": "area",
          "sizeref": 0.005,
          "symbol": "circle"
         },
         "mode": "markers",
         "name": "77190",
         "showlegend": true,
         "type": "scattergeo"
        },
        {
         "geo": "geo",
         "hovertemplate": "<b>%{hovertext}</b><br><br>postal_code=77270<br>nom=%{marker.size}<br>lat=%{lat}<br>lon=%{lon}<extra></extra>",
         "hovertext": [
          "77270"
         ],
         "lat": [
          48.94721752252252
         ],
         "legendgroup": "77270",
         "lon": [
          2.6116859207207206
         ],
         "marker": {
          "color": "#636efa",
          "size": [
           1
          ],
          "sizemode": "area",
          "sizeref": 0.005,
          "symbol": "circle"
         },
         "mode": "markers",
         "name": "77270",
         "showlegend": true,
         "type": "scattergeo"
        },
        {
         "geo": "geo",
         "hovertemplate": "<b>%{hovertext}</b><br><br>postal_code=78370<br>nom=%{marker.size}<br>lat=%{lat}<br>lon=%{lon}<extra></extra>",
         "hovertext": [
          "78370"
         ],
         "lat": [
          48.82670767788461
         ],
         "legendgroup": "78370",
         "lon": [
          1.9502827048076925
         ],
         "marker": {
          "color": "#EF553B",
          "size": [
           1
          ],
          "sizemode": "area",
          "sizeref": 0.005,
          "symbol": "circle"
         },
         "mode": "markers",
         "name": "78370",
         "showlegend": true,
         "type": "scattergeo"
        },
        {
         "geo": "geo",
         "hovertemplate": "<b>%{hovertext}</b><br><br>postal_code=83000<br>nom=%{marker.size}<br>lat=%{lat}<br>lon=%{lon}<extra></extra>",
         "hovertext": [
          "83000"
         ],
         "lat": [
          43.124507953935186
         ],
         "legendgroup": "83000",
         "lon": [
          5.935553993981482
         ],
         "marker": {
          "color": "#00cc96",
          "size": [
           2
          ],
          "sizemode": "area",
          "sizeref": 0.005,
          "symbol": "circle"
         },
         "mode": "markers",
         "name": "83000",
         "showlegend": true,
         "type": "scattergeo"
        },
        {
         "geo": "geo",
         "hovertemplate": "<b>%{hovertext}</b><br><br>postal_code=83300<br>nom=%{marker.size}<br>lat=%{lat}<br>lon=%{lon}<extra></extra>",
         "hovertext": [
          "83300"
         ],
         "lat": [
          43.535091674499085
         ],
         "legendgroup": "83300",
         "lon": [
          6.45949938269581
         ],
         "marker": {
          "color": "#ab63fa",
          "size": [
           1
          ],
          "sizemode": "area",
          "sizeref": 0.005,
          "symbol": "circle"
         },
         "mode": "markers",
         "name": "83300",
         "showlegend": true,
         "type": "scattergeo"
        },
        {
         "geo": "geo",
         "hovertemplate": "<b>%{hovertext}</b><br><br>postal_code=84000<br>nom=%{marker.size}<br>lat=%{lat}<br>lon=%{lon}<extra></extra>",
         "hovertext": [
          "84000"
         ],
         "lat": [
          43.942038511734694
         ],
         "legendgroup": "84000",
         "lon": [
          4.816302055782313
         ],
         "marker": {
          "color": "#FFA15A",
          "size": [
           1
          ],
          "sizemode": "area",
          "sizeref": 0.005,
          "symbol": "circle"
         },
         "mode": "markers",
         "name": "84000",
         "showlegend": true,
         "type": "scattergeo"
        },
        {
         "geo": "geo",
         "hovertemplate": "<b>%{hovertext}</b><br><br>postal_code=85000<br>nom=%{marker.size}<br>lat=%{lat}<br>lon=%{lon}<extra></extra>",
         "hovertext": [
          "85000"
         ],
         "lat": [
          46.68087882882883
         ],
         "legendgroup": "85000",
         "lon": [
          -1.4248904495495496
         ],
         "marker": {
          "color": "#19d3f3",
          "size": [
           1
          ],
          "sizemode": "area",
          "sizeref": 0.005,
          "symbol": "circle"
         },
         "mode": "markers",
         "name": "85000",
         "showlegend": true,
         "type": "scattergeo"
        },
        {
         "geo": "geo",
         "hovertemplate": "<b>%{hovertext}</b><br><br>postal_code=92290<br>nom=%{marker.size}<br>lat=%{lat}<br>lon=%{lon}<extra></extra>",
         "hovertext": [
          "92290"
         ],
         "lat": [
          48.770390244721405
         ],
         "legendgroup": "92290",
         "lon": [
          2.2644156473607038
         ],
         "marker": {
          "color": "#FF6692",
          "size": [
           1
          ],
          "sizemode": "area",
          "sizeref": 0.005,
          "symbol": "circle"
         },
         "mode": "markers",
         "name": "92290",
         "showlegend": true,
         "type": "scattergeo"
        },
        {
         "geo": "geo",
         "hovertemplate": "<b>%{hovertext}</b><br><br>postal_code=92360<br>nom=%{marker.size}<br>lat=%{lat}<br>lon=%{lon}<extra></extra>",
         "hovertext": [
          "92360"
         ],
         "lat": [
          48.78758431699165
         ],
         "legendgroup": "92360",
         "lon": [
          2.2268341
         ],
         "marker": {
          "color": "#B6E880",
          "size": [
           2
          ],
          "sizemode": "area",
          "sizeref": 0.005,
          "symbol": "circle"
         },
         "mode": "markers",
         "name": "92360",
         "showlegend": true,
         "type": "scattergeo"
        },
        {
         "geo": "geo",
         "hovertemplate": "<b>%{hovertext}</b><br><br>postal_code=93120<br>nom=%{marker.size}<br>lat=%{lat}<br>lon=%{lon}<extra></extra>",
         "hovertext": [
          "93120"
         ],
         "lat": [
          48.928050072727274
         ],
         "legendgroup": "93120",
         "lon": [
          2.3958811772727273
         ],
         "marker": {
          "color": "#FF97FF",
          "size": [
           1
          ],
          "sizemode": "area",
          "sizeref": 0.005,
          "symbol": "circle"
         },
         "mode": "markers",
         "name": "93120",
         "showlegend": true,
         "type": "scattergeo"
        },
        {
         "geo": "geo",
         "hovertemplate": "<b>%{hovertext}</b><br><br>postal_code=93240<br>nom=%{marker.size}<br>lat=%{lat}<br>lon=%{lon}<extra></extra>",
         "hovertext": [
          "93240"
         ],
         "lat": [
          48.95787334705882
         ],
         "legendgroup": "93240",
         "lon": [
          2.3779127529411763
         ],
         "marker": {
          "color": "#FECB52",
          "size": [
           1
          ],
          "sizemode": "area",
          "sizeref": 0.005,
          "symbol": "circle"
         },
         "mode": "markers",
         "name": "93240",
         "showlegend": true,
         "type": "scattergeo"
        },
        {
         "geo": "geo",
         "hovertemplate": "<b>%{hovertext}</b><br><br>postal_code=93400<br>nom=%{marker.size}<br>lat=%{lat}<br>lon=%{lon}<extra></extra>",
         "hovertext": [
          "93400"
         ],
         "lat": [
          48.90810612112676
         ],
         "legendgroup": "93400",
         "lon": [
          2.336935809859155
         ],
         "marker": {
          "color": "#636efa",
          "size": [
           2
          ],
          "sizemode": "area",
          "sizeref": 0.005,
          "symbol": "circle"
         },
         "mode": "markers",
         "name": "93400",
         "showlegend": true,
         "type": "scattergeo"
        },
        {
         "geo": "geo",
         "hovertemplate": "<b>%{hovertext}</b><br><br>postal_code=94270<br>nom=%{marker.size}<br>lat=%{lat}<br>lon=%{lon}<extra></extra>",
         "hovertext": [
          "94270"
         ],
         "lat": [
          48.81232888924731
         ],
         "legendgroup": "94270",
         "lon": [
          2.3605547860215053
         ],
         "marker": {
          "color": "#EF553B",
          "size": [
           2
          ],
          "sizemode": "area",
          "sizeref": 0.005,
          "symbol": "circle"
         },
         "mode": "markers",
         "name": "94270",
         "showlegend": true,
         "type": "scattergeo"
        },
        {
         "geo": "geo",
         "hovertemplate": "<b>%{hovertext}</b><br><br>postal_code=95000<br>nom=%{marker.size}<br>lat=%{lat}<br>lon=%{lon}<extra></extra>",
         "hovertext": [
          "95000"
         ],
         "lat": [
          49.039677245177664
         ],
         "legendgroup": "95000",
         "lon": [
          2.075704795431472
         ],
         "marker": {
          "color": "#00cc96",
          "size": [
           1
          ],
          "sizemode": "area",
          "sizeref": 0.005,
          "symbol": "circle"
         },
         "mode": "markers",
         "name": "95000",
         "showlegend": true,
         "type": "scattergeo"
        },
        {
         "geo": "geo",
         "hovertemplate": "<b>%{hovertext}</b><br><br>postal_code=95110<br>nom=%{marker.size}<br>lat=%{lat}<br>lon=%{lon}<extra></extra>",
         "hovertext": [
          "95110"
         ],
         "lat": [
          48.972789140816325
         ],
         "legendgroup": "95110",
         "lon": [
          2.2535273408163263
         ],
         "marker": {
          "color": "#ab63fa",
          "size": [
           1
          ],
          "sizemode": "area",
          "sizeref": 0.005,
          "symbol": "circle"
         },
         "mode": "markers",
         "name": "95110",
         "showlegend": true,
         "type": "scattergeo"
        },
        {
         "geo": "geo",
         "hovertemplate": "<b>%{hovertext}</b><br><br>postal_code=95800<br>nom=%{marker.size}<br>lat=%{lat}<br>lon=%{lon}<extra></extra>",
         "hovertext": [
          "95800"
         ],
         "lat": [
          49.04604891674877
         ],
         "legendgroup": "95800",
         "lon": [
          2.0279781330049262
         ],
         "marker": {
          "color": "#FFA15A",
          "size": [
           1
          ],
          "sizemode": "area",
          "sizeref": 0.005,
          "symbol": "circle"
         },
         "mode": "markers",
         "name": "95800",
         "showlegend": true,
         "type": "scattergeo"
        },
        {
         "geo": "geo",
         "hovertemplate": "<b>%{hovertext}</b><br><br>postal_code=97450<br>nom=%{marker.size}<br>lat=%{lat}<br>lon=%{lon}<extra></extra>",
         "hovertext": [
          "97450"
         ],
         "lat": [
          -21.284639031999998
         ],
         "legendgroup": "97450",
         "lon": [
          55.408026076
         ],
         "marker": {
          "color": "#19d3f3",
          "size": [
           1
          ],
          "sizemode": "area",
          "sizeref": 0.005,
          "symbol": "circle"
         },
         "mode": "markers",
         "name": "97450",
         "showlegend": true,
         "type": "scattergeo"
        }
       ],
       "layout": {
        "geo": {
         "center": {},
         "domain": {
          "x": [
           0,
           1
          ],
          "y": [
           0,
           1
          ]
         }
        },
        "legend": {
         "itemsizing": "constant",
         "title": {
          "text": "postal_code"
         },
         "tracegroupgap": 0
        },
        "margin": {
         "t": 60
        },
        "template": {
         "data": {
          "bar": [
           {
            "error_x": {
             "color": "#2a3f5f"
            },
            "error_y": {
             "color": "#2a3f5f"
            },
            "marker": {
             "line": {
              "color": "#E5ECF6",
              "width": 0.5
             },
             "pattern": {
              "fillmode": "overlay",
              "size": 10,
              "solidity": 0.2
             }
            },
            "type": "bar"
           }
          ],
          "barpolar": [
           {
            "marker": {
             "line": {
              "color": "#E5ECF6",
              "width": 0.5
             },
             "pattern": {
              "fillmode": "overlay",
              "size": 10,
              "solidity": 0.2
             }
            },
            "type": "barpolar"
           }
          ],
          "carpet": [
           {
            "aaxis": {
             "endlinecolor": "#2a3f5f",
             "gridcolor": "white",
             "linecolor": "white",
             "minorgridcolor": "white",
             "startlinecolor": "#2a3f5f"
            },
            "baxis": {
             "endlinecolor": "#2a3f5f",
             "gridcolor": "white",
             "linecolor": "white",
             "minorgridcolor": "white",
             "startlinecolor": "#2a3f5f"
            },
            "type": "carpet"
           }
          ],
          "choropleth": [
           {
            "colorbar": {
             "outlinewidth": 0,
             "ticks": ""
            },
            "type": "choropleth"
           }
          ],
          "contour": [
           {
            "colorbar": {
             "outlinewidth": 0,
             "ticks": ""
            },
            "colorscale": [
             [
              0,
              "#0d0887"
             ],
             [
              0.1111111111111111,
              "#46039f"
             ],
             [
              0.2222222222222222,
              "#7201a8"
             ],
             [
              0.3333333333333333,
              "#9c179e"
             ],
             [
              0.4444444444444444,
              "#bd3786"
             ],
             [
              0.5555555555555556,
              "#d8576b"
             ],
             [
              0.6666666666666666,
              "#ed7953"
             ],
             [
              0.7777777777777778,
              "#fb9f3a"
             ],
             [
              0.8888888888888888,
              "#fdca26"
             ],
             [
              1,
              "#f0f921"
             ]
            ],
            "type": "contour"
           }
          ],
          "contourcarpet": [
           {
            "colorbar": {
             "outlinewidth": 0,
             "ticks": ""
            },
            "type": "contourcarpet"
           }
          ],
          "heatmap": [
           {
            "colorbar": {
             "outlinewidth": 0,
             "ticks": ""
            },
            "colorscale": [
             [
              0,
              "#0d0887"
             ],
             [
              0.1111111111111111,
              "#46039f"
             ],
             [
              0.2222222222222222,
              "#7201a8"
             ],
             [
              0.3333333333333333,
              "#9c179e"
             ],
             [
              0.4444444444444444,
              "#bd3786"
             ],
             [
              0.5555555555555556,
              "#d8576b"
             ],
             [
              0.6666666666666666,
              "#ed7953"
             ],
             [
              0.7777777777777778,
              "#fb9f3a"
             ],
             [
              0.8888888888888888,
              "#fdca26"
             ],
             [
              1,
              "#f0f921"
             ]
            ],
            "type": "heatmap"
           }
          ],
          "heatmapgl": [
           {
            "colorbar": {
             "outlinewidth": 0,
             "ticks": ""
            },
            "colorscale": [
             [
              0,
              "#0d0887"
             ],
             [
              0.1111111111111111,
              "#46039f"
             ],
             [
              0.2222222222222222,
              "#7201a8"
             ],
             [
              0.3333333333333333,
              "#9c179e"
             ],
             [
              0.4444444444444444,
              "#bd3786"
             ],
             [
              0.5555555555555556,
              "#d8576b"
             ],
             [
              0.6666666666666666,
              "#ed7953"
             ],
             [
              0.7777777777777778,
              "#fb9f3a"
             ],
             [
              0.8888888888888888,
              "#fdca26"
             ],
             [
              1,
              "#f0f921"
             ]
            ],
            "type": "heatmapgl"
           }
          ],
          "histogram": [
           {
            "marker": {
             "pattern": {
              "fillmode": "overlay",
              "size": 10,
              "solidity": 0.2
             }
            },
            "type": "histogram"
           }
          ],
          "histogram2d": [
           {
            "colorbar": {
             "outlinewidth": 0,
             "ticks": ""
            },
            "colorscale": [
             [
              0,
              "#0d0887"
             ],
             [
              0.1111111111111111,
              "#46039f"
             ],
             [
              0.2222222222222222,
              "#7201a8"
             ],
             [
              0.3333333333333333,
              "#9c179e"
             ],
             [
              0.4444444444444444,
              "#bd3786"
             ],
             [
              0.5555555555555556,
              "#d8576b"
             ],
             [
              0.6666666666666666,
              "#ed7953"
             ],
             [
              0.7777777777777778,
              "#fb9f3a"
             ],
             [
              0.8888888888888888,
              "#fdca26"
             ],
             [
              1,
              "#f0f921"
             ]
            ],
            "type": "histogram2d"
           }
          ],
          "histogram2dcontour": [
           {
            "colorbar": {
             "outlinewidth": 0,
             "ticks": ""
            },
            "colorscale": [
             [
              0,
              "#0d0887"
             ],
             [
              0.1111111111111111,
              "#46039f"
             ],
             [
              0.2222222222222222,
              "#7201a8"
             ],
             [
              0.3333333333333333,
              "#9c179e"
             ],
             [
              0.4444444444444444,
              "#bd3786"
             ],
             [
              0.5555555555555556,
              "#d8576b"
             ],
             [
              0.6666666666666666,
              "#ed7953"
             ],
             [
              0.7777777777777778,
              "#fb9f3a"
             ],
             [
              0.8888888888888888,
              "#fdca26"
             ],
             [
              1,
              "#f0f921"
             ]
            ],
            "type": "histogram2dcontour"
           }
          ],
          "mesh3d": [
           {
            "colorbar": {
             "outlinewidth": 0,
             "ticks": ""
            },
            "type": "mesh3d"
           }
          ],
          "parcoords": [
           {
            "line": {
             "colorbar": {
              "outlinewidth": 0,
              "ticks": ""
             }
            },
            "type": "parcoords"
           }
          ],
          "pie": [
           {
            "automargin": true,
            "type": "pie"
           }
          ],
          "scatter": [
           {
            "fillpattern": {
             "fillmode": "overlay",
             "size": 10,
             "solidity": 0.2
            },
            "type": "scatter"
           }
          ],
          "scatter3d": [
           {
            "line": {
             "colorbar": {
              "outlinewidth": 0,
              "ticks": ""
             }
            },
            "marker": {
             "colorbar": {
              "outlinewidth": 0,
              "ticks": ""
             }
            },
            "type": "scatter3d"
           }
          ],
          "scattercarpet": [
           {
            "marker": {
             "colorbar": {
              "outlinewidth": 0,
              "ticks": ""
             }
            },
            "type": "scattercarpet"
           }
          ],
          "scattergeo": [
           {
            "marker": {
             "colorbar": {
              "outlinewidth": 0,
              "ticks": ""
             }
            },
            "type": "scattergeo"
           }
          ],
          "scattergl": [
           {
            "marker": {
             "colorbar": {
              "outlinewidth": 0,
              "ticks": ""
             }
            },
            "type": "scattergl"
           }
          ],
          "scattermapbox": [
           {
            "marker": {
             "colorbar": {
              "outlinewidth": 0,
              "ticks": ""
             }
            },
            "type": "scattermapbox"
           }
          ],
          "scatterpolar": [
           {
            "marker": {
             "colorbar": {
              "outlinewidth": 0,
              "ticks": ""
             }
            },
            "type": "scatterpolar"
           }
          ],
          "scatterpolargl": [
           {
            "marker": {
             "colorbar": {
              "outlinewidth": 0,
              "ticks": ""
             }
            },
            "type": "scatterpolargl"
           }
          ],
          "scatterternary": [
           {
            "marker": {
             "colorbar": {
              "outlinewidth": 0,
              "ticks": ""
             }
            },
            "type": "scatterternary"
           }
          ],
          "surface": [
           {
            "colorbar": {
             "outlinewidth": 0,
             "ticks": ""
            },
            "colorscale": [
             [
              0,
              "#0d0887"
             ],
             [
              0.1111111111111111,
              "#46039f"
             ],
             [
              0.2222222222222222,
              "#7201a8"
             ],
             [
              0.3333333333333333,
              "#9c179e"
             ],
             [
              0.4444444444444444,
              "#bd3786"
             ],
             [
              0.5555555555555556,
              "#d8576b"
             ],
             [
              0.6666666666666666,
              "#ed7953"
             ],
             [
              0.7777777777777778,
              "#fb9f3a"
             ],
             [
              0.8888888888888888,
              "#fdca26"
             ],
             [
              1,
              "#f0f921"
             ]
            ],
            "type": "surface"
           }
          ],
          "table": [
           {
            "cells": {
             "fill": {
              "color": "#EBF0F8"
             },
             "line": {
              "color": "white"
             }
            },
            "header": {
             "fill": {
              "color": "#C8D4E3"
             },
             "line": {
              "color": "white"
             }
            },
            "type": "table"
           }
          ]
         },
         "layout": {
          "annotationdefaults": {
           "arrowcolor": "#2a3f5f",
           "arrowhead": 0,
           "arrowwidth": 1
          },
          "autotypenumbers": "strict",
          "coloraxis": {
           "colorbar": {
            "outlinewidth": 0,
            "ticks": ""
           }
          },
          "colorscale": {
           "diverging": [
            [
             0,
             "#8e0152"
            ],
            [
             0.1,
             "#c51b7d"
            ],
            [
             0.2,
             "#de77ae"
            ],
            [
             0.3,
             "#f1b6da"
            ],
            [
             0.4,
             "#fde0ef"
            ],
            [
             0.5,
             "#f7f7f7"
            ],
            [
             0.6,
             "#e6f5d0"
            ],
            [
             0.7,
             "#b8e186"
            ],
            [
             0.8,
             "#7fbc41"
            ],
            [
             0.9,
             "#4d9221"
            ],
            [
             1,
             "#276419"
            ]
           ],
           "sequential": [
            [
             0,
             "#0d0887"
            ],
            [
             0.1111111111111111,
             "#46039f"
            ],
            [
             0.2222222222222222,
             "#7201a8"
            ],
            [
             0.3333333333333333,
             "#9c179e"
            ],
            [
             0.4444444444444444,
             "#bd3786"
            ],
            [
             0.5555555555555556,
             "#d8576b"
            ],
            [
             0.6666666666666666,
             "#ed7953"
            ],
            [
             0.7777777777777778,
             "#fb9f3a"
            ],
            [
             0.8888888888888888,
             "#fdca26"
            ],
            [
             1,
             "#f0f921"
            ]
           ],
           "sequentialminus": [
            [
             0,
             "#0d0887"
            ],
            [
             0.1111111111111111,
             "#46039f"
            ],
            [
             0.2222222222222222,
             "#7201a8"
            ],
            [
             0.3333333333333333,
             "#9c179e"
            ],
            [
             0.4444444444444444,
             "#bd3786"
            ],
            [
             0.5555555555555556,
             "#d8576b"
            ],
            [
             0.6666666666666666,
             "#ed7953"
            ],
            [
             0.7777777777777778,
             "#fb9f3a"
            ],
            [
             0.8888888888888888,
             "#fdca26"
            ],
            [
             1,
             "#f0f921"
            ]
           ]
          },
          "colorway": [
           "#636efa",
           "#EF553B",
           "#00cc96",
           "#ab63fa",
           "#FFA15A",
           "#19d3f3",
           "#FF6692",
           "#B6E880",
           "#FF97FF",
           "#FECB52"
          ],
          "font": {
           "color": "#2a3f5f"
          },
          "geo": {
           "bgcolor": "white",
           "lakecolor": "white",
           "landcolor": "#E5ECF6",
           "showlakes": true,
           "showland": true,
           "subunitcolor": "white"
          },
          "hoverlabel": {
           "align": "left"
          },
          "hovermode": "closest",
          "mapbox": {
           "style": "light"
          },
          "paper_bgcolor": "white",
          "plot_bgcolor": "#E5ECF6",
          "polar": {
           "angularaxis": {
            "gridcolor": "white",
            "linecolor": "white",
            "ticks": ""
           },
           "bgcolor": "#E5ECF6",
           "radialaxis": {
            "gridcolor": "white",
            "linecolor": "white",
            "ticks": ""
           }
          },
          "scene": {
           "xaxis": {
            "backgroundcolor": "#E5ECF6",
            "gridcolor": "white",
            "gridwidth": 2,
            "linecolor": "white",
            "showbackground": true,
            "ticks": "",
            "zerolinecolor": "white"
           },
           "yaxis": {
            "backgroundcolor": "#E5ECF6",
            "gridcolor": "white",
            "gridwidth": 2,
            "linecolor": "white",
            "showbackground": true,
            "ticks": "",
            "zerolinecolor": "white"
           },
           "zaxis": {
            "backgroundcolor": "#E5ECF6",
            "gridcolor": "white",
            "gridwidth": 2,
            "linecolor": "white",
            "showbackground": true,
            "ticks": "",
            "zerolinecolor": "white"
           }
          },
          "shapedefaults": {
           "line": {
            "color": "#2a3f5f"
           }
          },
          "ternary": {
           "aaxis": {
            "gridcolor": "white",
            "linecolor": "white",
            "ticks": ""
           },
           "baxis": {
            "gridcolor": "white",
            "linecolor": "white",
            "ticks": ""
           },
           "bgcolor": "#E5ECF6",
           "caxis": {
            "gridcolor": "white",
            "linecolor": "white",
            "ticks": ""
           }
          },
          "title": {
           "x": 0.05
          },
          "xaxis": {
           "automargin": true,
           "gridcolor": "white",
           "linecolor": "white",
           "ticks": "",
           "title": {
            "standoff": 15
           },
           "zerolinecolor": "white",
           "zerolinewidth": 2
          },
          "yaxis": {
           "automargin": true,
           "gridcolor": "white",
           "linecolor": "white",
           "ticks": "",
           "title": {
            "standoff": 15
           },
           "zerolinecolor": "white",
           "zerolinewidth": 2
          }
         }
        },
        "title": {
         "text": "World map",
         "x": 0.5
        }
       }
      },
      "text/html": [
       "<div>                        <script type=\"text/javascript\">window.PlotlyConfig = {MathJaxConfig: 'local'};</script>\n",
       "        <script src=\"https://cdn.plot.ly/plotly-2.14.0.min.js\"></script>                <div id=\"fd984542-890f-43c8-86d8-c94b8b450dff\" class=\"plotly-graph-div\" style=\"height:100%; width:100%;\"></div>            <script type=\"text/javascript\">                                    window.PLOTLYENV=window.PLOTLYENV || {};                                    if (document.getElementById(\"fd984542-890f-43c8-86d8-c94b8b450dff\")) {                    Plotly.newPlot(                        \"fd984542-890f-43c8-86d8-c94b8b450dff\",                        [{\"geo\":\"geo\",\"hovertemplate\":\"<b>%{hovertext}</b><br><br>postal_code=03100<br>nom=%{marker.size}<br>lat=%{lat}<br>lon=%{lon}<extra></extra>\",\"hovertext\":[\"03100\"],\"lat\":[46.343920965742576],\"legendgroup\":\"03100\",\"lon\":[2.5941275596039604],\"marker\":{\"color\":\"#636efa\",\"size\":[1],\"sizemode\":\"area\",\"sizeref\":0.005,\"symbol\":\"circle\"},\"mode\":\"markers\",\"name\":\"03100\",\"showlegend\":true,\"type\":\"scattergeo\"},{\"geo\":\"geo\",\"hovertemplate\":\"<b>%{hovertext}</b><br><br>postal_code=06200<br>nom=%{marker.size}<br>lat=%{lat}<br>lon=%{lon}<extra></extra>\",\"hovertext\":[\"06200\"],\"lat\":[43.67991951400966],\"legendgroup\":\"06200\",\"lon\":[7.21034937294686],\"marker\":{\"color\":\"#EF553B\",\"size\":[1],\"sizemode\":\"area\",\"sizeref\":0.005,\"symbol\":\"circle\"},\"mode\":\"markers\",\"name\":\"06200\",\"showlegend\":true,\"type\":\"scattergeo\"},{\"geo\":\"geo\",\"hovertemplate\":\"<b>%{hovertext}</b><br><br>postal_code=12000<br>nom=%{marker.size}<br>lat=%{lat}<br>lon=%{lon}<extra></extra>\",\"hovertext\":[\"12000\"],\"lat\":[44.3533693705088],\"legendgroup\":\"12000\",\"lon\":[2.572108105787316],\"marker\":{\"color\":\"#00cc96\",\"size\":[1],\"sizemode\":\"area\",\"sizeref\":0.005,\"symbol\":\"circle\"},\"mode\":\"markers\",\"name\":\"12000\",\"showlegend\":true,\"type\":\"scattergeo\"},{\"geo\":\"geo\",\"hovertemplate\":\"<b>%{hovertext}</b><br><br>postal_code=17100<br>nom=%{marker.size}<br>lat=%{lat}<br>lon=%{lon}<extra></extra>\",\"hovertext\":[\"17100\"],\"lat\":[45.749085251543214],\"legendgroup\":\"17100\",\"lon\":[-0.625786249691358],\"marker\":{\"color\":\"#ab63fa\",\"size\":[2],\"sizemode\":\"area\",\"sizeref\":0.005,\"symbol\":\"circle\"},\"mode\":\"markers\",\"name\":\"17100\",\"showlegend\":true,\"type\":\"scattergeo\"},{\"geo\":\"geo\",\"hovertemplate\":\"<b>%{hovertext}</b><br><br>postal_code=21000<br>nom=%{marker.size}<br>lat=%{lat}<br>lon=%{lon}<extra></extra>\",\"hovertext\":[\"21000\"],\"lat\":[47.32602162039587],\"legendgroup\":\"21000\",\"lon\":[5.044862341049914],\"marker\":{\"color\":\"#FFA15A\",\"size\":[1],\"sizemode\":\"area\",\"sizeref\":0.005,\"symbol\":\"circle\"},\"mode\":\"markers\",\"name\":\"21000\",\"showlegend\":true,\"type\":\"scattergeo\"},{\"geo\":\"geo\",\"hovertemplate\":\"<b>%{hovertext}</b><br><br>postal_code=23000<br>nom=%{marker.size}<br>lat=%{lat}<br>lon=%{lon}<extra></extra>\",\"hovertext\":[\"23000\"],\"lat\":[46.1694846633987],\"legendgroup\":\"23000\",\"lon\":[1.8738597366013072],\"marker\":{\"color\":\"#19d3f3\",\"size\":[1],\"sizemode\":\"area\",\"sizeref\":0.005,\"symbol\":\"circle\"},\"mode\":\"markers\",\"name\":\"23000\",\"showlegend\":true,\"type\":\"scattergeo\"},{\"geo\":\"geo\",\"hovertemplate\":\"<b>%{hovertext}</b><br><br>postal_code=42300<br>nom=%{marker.size}<br>lat=%{lat}<br>lon=%{lon}<extra></extra>\",\"hovertext\":[\"42300\"],\"lat\":[46.03398703072626],\"legendgroup\":\"42300\",\"lon\":[4.06130756424581],\"marker\":{\"color\":\"#FF6692\",\"size\":[2],\"sizemode\":\"area\",\"sizeref\":0.005,\"symbol\":\"circle\"},\"mode\":\"markers\",\"name\":\"42300\",\"showlegend\":true,\"type\":\"scattergeo\"},{\"geo\":\"geo\",\"hovertemplate\":\"<b>%{hovertext}</b><br><br>postal_code=44120<br>nom=%{marker.size}<br>lat=%{lat}<br>lon=%{lon}<extra></extra>\",\"hovertext\":[\"44120\"],\"lat\":[47.170683992145285],\"legendgroup\":\"44120\",\"lon\":[-1.4814683448638004],\"marker\":{\"color\":\"#B6E880\",\"size\":[1],\"sizemode\":\"area\",\"sizeref\":0.005,\"symbol\":\"circle\"},\"mode\":\"markers\",\"name\":\"44120\",\"showlegend\":true,\"type\":\"scattergeo\"},{\"geo\":\"geo\",\"hovertemplate\":\"<b>%{hovertext}</b><br><br>postal_code=47300<br>nom=%{marker.size}<br>lat=%{lat}<br>lon=%{lon}<extra></extra>\",\"hovertext\":[\"47300\"],\"lat\":[44.40285866962025],\"legendgroup\":\"47300\",\"lon\":[0.6984636405063291],\"marker\":{\"color\":\"#FF97FF\",\"size\":[1],\"sizemode\":\"area\",\"sizeref\":0.005,\"symbol\":\"circle\"},\"mode\":\"markers\",\"name\":\"47300\",\"showlegend\":true,\"type\":\"scattergeo\"},{\"geo\":\"geo\",\"hovertemplate\":\"<b>%{hovertext}</b><br><br>postal_code=59150<br>nom=%{marker.size}<br>lat=%{lat}<br>lon=%{lon}<extra></extra>\",\"hovertext\":[\"59150\"],\"lat\":[50.666671085436896],\"legendgroup\":\"59150\",\"lon\":[3.2044113699029126],\"marker\":{\"color\":\"#FECB52\",\"size\":[1],\"sizemode\":\"area\",\"sizeref\":0.005,\"symbol\":\"circle\"},\"mode\":\"markers\",\"name\":\"59150\",\"showlegend\":true,\"type\":\"scattergeo\"},{\"geo\":\"geo\",\"hovertemplate\":\"<b>%{hovertext}</b><br><br>postal_code=59430<br>nom=%{marker.size}<br>lat=%{lat}<br>lon=%{lon}<extra></extra>\",\"hovertext\":[\"59430\"],\"lat\":[51.030216071255474],\"legendgroup\":\"59430\",\"lon\":[2.3360881808467155],\"marker\":{\"color\":\"#636efa\",\"size\":[2],\"sizemode\":\"area\",\"sizeref\":0.005,\"symbol\":\"circle\"},\"mode\":\"markers\",\"name\":\"59430\",\"showlegend\":true,\"type\":\"scattergeo\"},{\"geo\":\"geo\",\"hovertemplate\":\"<b>%{hovertext}</b><br><br>postal_code=59493<br>nom=%{marker.size}<br>lat=%{lat}<br>lon=%{lon}<extra></extra>\",\"hovertext\":[\"59493\"],\"lat\":[50.617581256407384],\"legendgroup\":\"59493\",\"lon\":[3.160661562003358],\"marker\":{\"color\":\"#EF553B\",\"size\":[1],\"sizemode\":\"area\",\"sizeref\":0.005,\"symbol\":\"circle\"},\"mode\":\"markers\",\"name\":\"59493\",\"showlegend\":true,\"type\":\"scattergeo\"},{\"geo\":\"geo\",\"hovertemplate\":\"<b>%{hovertext}</b><br><br>postal_code=67100<br>nom=%{marker.size}<br>lat=%{lat}<br>lon=%{lon}<extra></extra>\",\"hovertext\":[\"67100\"],\"lat\":[48.564802359375],\"legendgroup\":\"67100\",\"lon\":[7.761151783482143],\"marker\":{\"color\":\"#00cc96\",\"size\":[1],\"sizemode\":\"area\",\"sizeref\":0.005,\"symbol\":\"circle\"},\"mode\":\"markers\",\"name\":\"67100\",\"showlegend\":true,\"type\":\"scattergeo\"},{\"geo\":\"geo\",\"hovertemplate\":\"<b>%{hovertext}</b><br><br>postal_code=68300<br>nom=%{marker.size}<br>lat=%{lat}<br>lon=%{lon}<extra></extra>\",\"hovertext\":[\"68300\"],\"lat\":[47.59992181988906],\"legendgroup\":\"68300\",\"lon\":[7.545658327892235],\"marker\":{\"color\":\"#ab63fa\",\"size\":[1],\"sizemode\":\"area\",\"sizeref\":0.005,\"symbol\":\"circle\"},\"mode\":\"markers\",\"name\":\"68300\",\"showlegend\":true,\"type\":\"scattergeo\"},{\"geo\":\"geo\",\"hovertemplate\":\"<b>%{hovertext}</b><br><br>postal_code=69009<br>nom=%{marker.size}<br>lat=%{lat}<br>lon=%{lon}<extra></extra>\",\"hovertext\":[\"69009\"],\"lat\":[45.7793905476923],\"legendgroup\":\"69009\",\"lon\":[4.808316235384615],\"marker\":{\"color\":\"#FFA15A\",\"size\":[1],\"sizemode\":\"area\",\"sizeref\":0.005,\"symbol\":\"circle\"},\"mode\":\"markers\",\"name\":\"69009\",\"showlegend\":true,\"type\":\"scattergeo\"},{\"geo\":\"geo\",\"hovertemplate\":\"<b>%{hovertext}</b><br><br>postal_code=75014<br>nom=%{marker.size}<br>lat=%{lat}<br>lon=%{lon}<extra></extra>\",\"hovertext\":[\"75014\"],\"lat\":[48.83052208621908],\"legendgroup\":\"75014\",\"lon\":[2.325264245229682],\"marker\":{\"color\":\"#19d3f3\",\"size\":[1],\"sizemode\":\"area\",\"sizeref\":0.005,\"symbol\":\"circle\"},\"mode\":\"markers\",\"name\":\"75014\",\"showlegend\":true,\"type\":\"scattergeo\"},{\"geo\":\"geo\",\"hovertemplate\":\"<b>%{hovertext}</b><br><br>postal_code=76120<br>nom=%{marker.size}<br>lat=%{lat}<br>lon=%{lon}<extra></extra>\",\"hovertext\":[\"76120\"],\"lat\":[49.41068287234042],\"legendgroup\":\"76120\",\"lon\":[1.0543792442553193],\"marker\":{\"color\":\"#FF6692\",\"size\":[1],\"sizemode\":\"area\",\"sizeref\":0.005,\"symbol\":\"circle\"},\"mode\":\"markers\",\"name\":\"76120\",\"showlegend\":true,\"type\":\"scattergeo\"},{\"geo\":\"geo\",\"hovertemplate\":\"<b>%{hovertext}</b><br><br>postal_code=76130<br>nom=%{marker.size}<br>lat=%{lat}<br>lon=%{lon}<extra></extra>\",\"hovertext\":[\"76130\"],\"lat\":[49.46224712647059],\"legendgroup\":\"76130\",\"lon\":[1.0810455288235294],\"marker\":{\"color\":\"#B6E880\",\"size\":[1],\"sizemode\":\"area\",\"sizeref\":0.005,\"symbol\":\"circle\"},\"mode\":\"markers\",\"name\":\"76130\",\"showlegend\":true,\"type\":\"scattergeo\"},{\"geo\":\"geo\",\"hovertemplate\":\"<b>%{hovertext}</b><br><br>postal_code=77000<br>nom=%{marker.size}<br>lat=%{lat}<br>lon=%{lon}<extra></extra>\",\"hovertext\":[\"77000\"],\"lat\":[48.53976241396104],\"legendgroup\":\"77000\",\"lon\":[2.6609884068181815],\"marker\":{\"color\":\"#FF97FF\",\"size\":[1],\"sizemode\":\"area\",\"sizeref\":0.005,\"symbol\":\"circle\"},\"mode\":\"markers\",\"name\":\"77000\",\"showlegend\":true,\"type\":\"scattergeo\"},{\"geo\":\"geo\",\"hovertemplate\":\"<b>%{hovertext}</b><br><br>postal_code=77190<br>nom=%{marker.size}<br>lat=%{lat}<br>lon=%{lon}<extra></extra>\",\"hovertext\":[\"77190\"],\"lat\":[48.51373047936508],\"legendgroup\":\"77190\",\"lon\":[2.6263972015873014],\"marker\":{\"color\":\"#FECB52\",\"size\":[1],\"sizemode\":\"area\",\"sizeref\":0.005,\"symbol\":\"circle\"},\"mode\":\"markers\",\"name\":\"77190\",\"showlegend\":true,\"type\":\"scattergeo\"},{\"geo\":\"geo\",\"hovertemplate\":\"<b>%{hovertext}</b><br><br>postal_code=77270<br>nom=%{marker.size}<br>lat=%{lat}<br>lon=%{lon}<extra></extra>\",\"hovertext\":[\"77270\"],\"lat\":[48.94721752252252],\"legendgroup\":\"77270\",\"lon\":[2.6116859207207206],\"marker\":{\"color\":\"#636efa\",\"size\":[1],\"sizemode\":\"area\",\"sizeref\":0.005,\"symbol\":\"circle\"},\"mode\":\"markers\",\"name\":\"77270\",\"showlegend\":true,\"type\":\"scattergeo\"},{\"geo\":\"geo\",\"hovertemplate\":\"<b>%{hovertext}</b><br><br>postal_code=78370<br>nom=%{marker.size}<br>lat=%{lat}<br>lon=%{lon}<extra></extra>\",\"hovertext\":[\"78370\"],\"lat\":[48.82670767788461],\"legendgroup\":\"78370\",\"lon\":[1.9502827048076925],\"marker\":{\"color\":\"#EF553B\",\"size\":[1],\"sizemode\":\"area\",\"sizeref\":0.005,\"symbol\":\"circle\"},\"mode\":\"markers\",\"name\":\"78370\",\"showlegend\":true,\"type\":\"scattergeo\"},{\"geo\":\"geo\",\"hovertemplate\":\"<b>%{hovertext}</b><br><br>postal_code=83000<br>nom=%{marker.size}<br>lat=%{lat}<br>lon=%{lon}<extra></extra>\",\"hovertext\":[\"83000\"],\"lat\":[43.124507953935186],\"legendgroup\":\"83000\",\"lon\":[5.935553993981482],\"marker\":{\"color\":\"#00cc96\",\"size\":[2],\"sizemode\":\"area\",\"sizeref\":0.005,\"symbol\":\"circle\"},\"mode\":\"markers\",\"name\":\"83000\",\"showlegend\":true,\"type\":\"scattergeo\"},{\"geo\":\"geo\",\"hovertemplate\":\"<b>%{hovertext}</b><br><br>postal_code=83300<br>nom=%{marker.size}<br>lat=%{lat}<br>lon=%{lon}<extra></extra>\",\"hovertext\":[\"83300\"],\"lat\":[43.535091674499085],\"legendgroup\":\"83300\",\"lon\":[6.45949938269581],\"marker\":{\"color\":\"#ab63fa\",\"size\":[1],\"sizemode\":\"area\",\"sizeref\":0.005,\"symbol\":\"circle\"},\"mode\":\"markers\",\"name\":\"83300\",\"showlegend\":true,\"type\":\"scattergeo\"},{\"geo\":\"geo\",\"hovertemplate\":\"<b>%{hovertext}</b><br><br>postal_code=84000<br>nom=%{marker.size}<br>lat=%{lat}<br>lon=%{lon}<extra></extra>\",\"hovertext\":[\"84000\"],\"lat\":[43.942038511734694],\"legendgroup\":\"84000\",\"lon\":[4.816302055782313],\"marker\":{\"color\":\"#FFA15A\",\"size\":[1],\"sizemode\":\"area\",\"sizeref\":0.005,\"symbol\":\"circle\"},\"mode\":\"markers\",\"name\":\"84000\",\"showlegend\":true,\"type\":\"scattergeo\"},{\"geo\":\"geo\",\"hovertemplate\":\"<b>%{hovertext}</b><br><br>postal_code=85000<br>nom=%{marker.size}<br>lat=%{lat}<br>lon=%{lon}<extra></extra>\",\"hovertext\":[\"85000\"],\"lat\":[46.68087882882883],\"legendgroup\":\"85000\",\"lon\":[-1.4248904495495496],\"marker\":{\"color\":\"#19d3f3\",\"size\":[1],\"sizemode\":\"area\",\"sizeref\":0.005,\"symbol\":\"circle\"},\"mode\":\"markers\",\"name\":\"85000\",\"showlegend\":true,\"type\":\"scattergeo\"},{\"geo\":\"geo\",\"hovertemplate\":\"<b>%{hovertext}</b><br><br>postal_code=92290<br>nom=%{marker.size}<br>lat=%{lat}<br>lon=%{lon}<extra></extra>\",\"hovertext\":[\"92290\"],\"lat\":[48.770390244721405],\"legendgroup\":\"92290\",\"lon\":[2.2644156473607038],\"marker\":{\"color\":\"#FF6692\",\"size\":[1],\"sizemode\":\"area\",\"sizeref\":0.005,\"symbol\":\"circle\"},\"mode\":\"markers\",\"name\":\"92290\",\"showlegend\":true,\"type\":\"scattergeo\"},{\"geo\":\"geo\",\"hovertemplate\":\"<b>%{hovertext}</b><br><br>postal_code=92360<br>nom=%{marker.size}<br>lat=%{lat}<br>lon=%{lon}<extra></extra>\",\"hovertext\":[\"92360\"],\"lat\":[48.78758431699165],\"legendgroup\":\"92360\",\"lon\":[2.2268341],\"marker\":{\"color\":\"#B6E880\",\"size\":[2],\"sizemode\":\"area\",\"sizeref\":0.005,\"symbol\":\"circle\"},\"mode\":\"markers\",\"name\":\"92360\",\"showlegend\":true,\"type\":\"scattergeo\"},{\"geo\":\"geo\",\"hovertemplate\":\"<b>%{hovertext}</b><br><br>postal_code=93120<br>nom=%{marker.size}<br>lat=%{lat}<br>lon=%{lon}<extra></extra>\",\"hovertext\":[\"93120\"],\"lat\":[48.928050072727274],\"legendgroup\":\"93120\",\"lon\":[2.3958811772727273],\"marker\":{\"color\":\"#FF97FF\",\"size\":[1],\"sizemode\":\"area\",\"sizeref\":0.005,\"symbol\":\"circle\"},\"mode\":\"markers\",\"name\":\"93120\",\"showlegend\":true,\"type\":\"scattergeo\"},{\"geo\":\"geo\",\"hovertemplate\":\"<b>%{hovertext}</b><br><br>postal_code=93240<br>nom=%{marker.size}<br>lat=%{lat}<br>lon=%{lon}<extra></extra>\",\"hovertext\":[\"93240\"],\"lat\":[48.95787334705882],\"legendgroup\":\"93240\",\"lon\":[2.3779127529411763],\"marker\":{\"color\":\"#FECB52\",\"size\":[1],\"sizemode\":\"area\",\"sizeref\":0.005,\"symbol\":\"circle\"},\"mode\":\"markers\",\"name\":\"93240\",\"showlegend\":true,\"type\":\"scattergeo\"},{\"geo\":\"geo\",\"hovertemplate\":\"<b>%{hovertext}</b><br><br>postal_code=93400<br>nom=%{marker.size}<br>lat=%{lat}<br>lon=%{lon}<extra></extra>\",\"hovertext\":[\"93400\"],\"lat\":[48.90810612112676],\"legendgroup\":\"93400\",\"lon\":[2.336935809859155],\"marker\":{\"color\":\"#636efa\",\"size\":[2],\"sizemode\":\"area\",\"sizeref\":0.005,\"symbol\":\"circle\"},\"mode\":\"markers\",\"name\":\"93400\",\"showlegend\":true,\"type\":\"scattergeo\"},{\"geo\":\"geo\",\"hovertemplate\":\"<b>%{hovertext}</b><br><br>postal_code=94270<br>nom=%{marker.size}<br>lat=%{lat}<br>lon=%{lon}<extra></extra>\",\"hovertext\":[\"94270\"],\"lat\":[48.81232888924731],\"legendgroup\":\"94270\",\"lon\":[2.3605547860215053],\"marker\":{\"color\":\"#EF553B\",\"size\":[2],\"sizemode\":\"area\",\"sizeref\":0.005,\"symbol\":\"circle\"},\"mode\":\"markers\",\"name\":\"94270\",\"showlegend\":true,\"type\":\"scattergeo\"},{\"geo\":\"geo\",\"hovertemplate\":\"<b>%{hovertext}</b><br><br>postal_code=95000<br>nom=%{marker.size}<br>lat=%{lat}<br>lon=%{lon}<extra></extra>\",\"hovertext\":[\"95000\"],\"lat\":[49.039677245177664],\"legendgroup\":\"95000\",\"lon\":[2.075704795431472],\"marker\":{\"color\":\"#00cc96\",\"size\":[1],\"sizemode\":\"area\",\"sizeref\":0.005,\"symbol\":\"circle\"},\"mode\":\"markers\",\"name\":\"95000\",\"showlegend\":true,\"type\":\"scattergeo\"},{\"geo\":\"geo\",\"hovertemplate\":\"<b>%{hovertext}</b><br><br>postal_code=95110<br>nom=%{marker.size}<br>lat=%{lat}<br>lon=%{lon}<extra></extra>\",\"hovertext\":[\"95110\"],\"lat\":[48.972789140816325],\"legendgroup\":\"95110\",\"lon\":[2.2535273408163263],\"marker\":{\"color\":\"#ab63fa\",\"size\":[1],\"sizemode\":\"area\",\"sizeref\":0.005,\"symbol\":\"circle\"},\"mode\":\"markers\",\"name\":\"95110\",\"showlegend\":true,\"type\":\"scattergeo\"},{\"geo\":\"geo\",\"hovertemplate\":\"<b>%{hovertext}</b><br><br>postal_code=95800<br>nom=%{marker.size}<br>lat=%{lat}<br>lon=%{lon}<extra></extra>\",\"hovertext\":[\"95800\"],\"lat\":[49.04604891674877],\"legendgroup\":\"95800\",\"lon\":[2.0279781330049262],\"marker\":{\"color\":\"#FFA15A\",\"size\":[1],\"sizemode\":\"area\",\"sizeref\":0.005,\"symbol\":\"circle\"},\"mode\":\"markers\",\"name\":\"95800\",\"showlegend\":true,\"type\":\"scattergeo\"},{\"geo\":\"geo\",\"hovertemplate\":\"<b>%{hovertext}</b><br><br>postal_code=97450<br>nom=%{marker.size}<br>lat=%{lat}<br>lon=%{lon}<extra></extra>\",\"hovertext\":[\"97450\"],\"lat\":[-21.284639031999998],\"legendgroup\":\"97450\",\"lon\":[55.408026076],\"marker\":{\"color\":\"#19d3f3\",\"size\":[1],\"sizemode\":\"area\",\"sizeref\":0.005,\"symbol\":\"circle\"},\"mode\":\"markers\",\"name\":\"97450\",\"showlegend\":true,\"type\":\"scattergeo\"}],                        {\"template\":{\"data\":{\"histogram2dcontour\":[{\"type\":\"histogram2dcontour\",\"colorbar\":{\"outlinewidth\":0,\"ticks\":\"\"},\"colorscale\":[[0.0,\"#0d0887\"],[0.1111111111111111,\"#46039f\"],[0.2222222222222222,\"#7201a8\"],[0.3333333333333333,\"#9c179e\"],[0.4444444444444444,\"#bd3786\"],[0.5555555555555556,\"#d8576b\"],[0.6666666666666666,\"#ed7953\"],[0.7777777777777778,\"#fb9f3a\"],[0.8888888888888888,\"#fdca26\"],[1.0,\"#f0f921\"]]}],\"choropleth\":[{\"type\":\"choropleth\",\"colorbar\":{\"outlinewidth\":0,\"ticks\":\"\"}}],\"histogram2d\":[{\"type\":\"histogram2d\",\"colorbar\":{\"outlinewidth\":0,\"ticks\":\"\"},\"colorscale\":[[0.0,\"#0d0887\"],[0.1111111111111111,\"#46039f\"],[0.2222222222222222,\"#7201a8\"],[0.3333333333333333,\"#9c179e\"],[0.4444444444444444,\"#bd3786\"],[0.5555555555555556,\"#d8576b\"],[0.6666666666666666,\"#ed7953\"],[0.7777777777777778,\"#fb9f3a\"],[0.8888888888888888,\"#fdca26\"],[1.0,\"#f0f921\"]]}],\"heatmap\":[{\"type\":\"heatmap\",\"colorbar\":{\"outlinewidth\":0,\"ticks\":\"\"},\"colorscale\":[[0.0,\"#0d0887\"],[0.1111111111111111,\"#46039f\"],[0.2222222222222222,\"#7201a8\"],[0.3333333333333333,\"#9c179e\"],[0.4444444444444444,\"#bd3786\"],[0.5555555555555556,\"#d8576b\"],[0.6666666666666666,\"#ed7953\"],[0.7777777777777778,\"#fb9f3a\"],[0.8888888888888888,\"#fdca26\"],[1.0,\"#f0f921\"]]}],\"heatmapgl\":[{\"type\":\"heatmapgl\",\"colorbar\":{\"outlinewidth\":0,\"ticks\":\"\"},\"colorscale\":[[0.0,\"#0d0887\"],[0.1111111111111111,\"#46039f\"],[0.2222222222222222,\"#7201a8\"],[0.3333333333333333,\"#9c179e\"],[0.4444444444444444,\"#bd3786\"],[0.5555555555555556,\"#d8576b\"],[0.6666666666666666,\"#ed7953\"],[0.7777777777777778,\"#fb9f3a\"],[0.8888888888888888,\"#fdca26\"],[1.0,\"#f0f921\"]]}],\"contourcarpet\":[{\"type\":\"contourcarpet\",\"colorbar\":{\"outlinewidth\":0,\"ticks\":\"\"}}],\"contour\":[{\"type\":\"contour\",\"colorbar\":{\"outlinewidth\":0,\"ticks\":\"\"},\"colorscale\":[[0.0,\"#0d0887\"],[0.1111111111111111,\"#46039f\"],[0.2222222222222222,\"#7201a8\"],[0.3333333333333333,\"#9c179e\"],[0.4444444444444444,\"#bd3786\"],[0.5555555555555556,\"#d8576b\"],[0.6666666666666666,\"#ed7953\"],[0.7777777777777778,\"#fb9f3a\"],[0.8888888888888888,\"#fdca26\"],[1.0,\"#f0f921\"]]}],\"surface\":[{\"type\":\"surface\",\"colorbar\":{\"outlinewidth\":0,\"ticks\":\"\"},\"colorscale\":[[0.0,\"#0d0887\"],[0.1111111111111111,\"#46039f\"],[0.2222222222222222,\"#7201a8\"],[0.3333333333333333,\"#9c179e\"],[0.4444444444444444,\"#bd3786\"],[0.5555555555555556,\"#d8576b\"],[0.6666666666666666,\"#ed7953\"],[0.7777777777777778,\"#fb9f3a\"],[0.8888888888888888,\"#fdca26\"],[1.0,\"#f0f921\"]]}],\"mesh3d\":[{\"type\":\"mesh3d\",\"colorbar\":{\"outlinewidth\":0,\"ticks\":\"\"}}],\"scatter\":[{\"fillpattern\":{\"fillmode\":\"overlay\",\"size\":10,\"solidity\":0.2},\"type\":\"scatter\"}],\"parcoords\":[{\"type\":\"parcoords\",\"line\":{\"colorbar\":{\"outlinewidth\":0,\"ticks\":\"\"}}}],\"scatterpolargl\":[{\"type\":\"scatterpolargl\",\"marker\":{\"colorbar\":{\"outlinewidth\":0,\"ticks\":\"\"}}}],\"bar\":[{\"error_x\":{\"color\":\"#2a3f5f\"},\"error_y\":{\"color\":\"#2a3f5f\"},\"marker\":{\"line\":{\"color\":\"#E5ECF6\",\"width\":0.5},\"pattern\":{\"fillmode\":\"overlay\",\"size\":10,\"solidity\":0.2}},\"type\":\"bar\"}],\"scattergeo\":[{\"type\":\"scattergeo\",\"marker\":{\"colorbar\":{\"outlinewidth\":0,\"ticks\":\"\"}}}],\"scatterpolar\":[{\"type\":\"scatterpolar\",\"marker\":{\"colorbar\":{\"outlinewidth\":0,\"ticks\":\"\"}}}],\"histogram\":[{\"marker\":{\"pattern\":{\"fillmode\":\"overlay\",\"size\":10,\"solidity\":0.2}},\"type\":\"histogram\"}],\"scattergl\":[{\"type\":\"scattergl\",\"marker\":{\"colorbar\":{\"outlinewidth\":0,\"ticks\":\"\"}}}],\"scatter3d\":[{\"type\":\"scatter3d\",\"line\":{\"colorbar\":{\"outlinewidth\":0,\"ticks\":\"\"}},\"marker\":{\"colorbar\":{\"outlinewidth\":0,\"ticks\":\"\"}}}],\"scattermapbox\":[{\"type\":\"scattermapbox\",\"marker\":{\"colorbar\":{\"outlinewidth\":0,\"ticks\":\"\"}}}],\"scatterternary\":[{\"type\":\"scatterternary\",\"marker\":{\"colorbar\":{\"outlinewidth\":0,\"ticks\":\"\"}}}],\"scattercarpet\":[{\"type\":\"scattercarpet\",\"marker\":{\"colorbar\":{\"outlinewidth\":0,\"ticks\":\"\"}}}],\"carpet\":[{\"aaxis\":{\"endlinecolor\":\"#2a3f5f\",\"gridcolor\":\"white\",\"linecolor\":\"white\",\"minorgridcolor\":\"white\",\"startlinecolor\":\"#2a3f5f\"},\"baxis\":{\"endlinecolor\":\"#2a3f5f\",\"gridcolor\":\"white\",\"linecolor\":\"white\",\"minorgridcolor\":\"white\",\"startlinecolor\":\"#2a3f5f\"},\"type\":\"carpet\"}],\"table\":[{\"cells\":{\"fill\":{\"color\":\"#EBF0F8\"},\"line\":{\"color\":\"white\"}},\"header\":{\"fill\":{\"color\":\"#C8D4E3\"},\"line\":{\"color\":\"white\"}},\"type\":\"table\"}],\"barpolar\":[{\"marker\":{\"line\":{\"color\":\"#E5ECF6\",\"width\":0.5},\"pattern\":{\"fillmode\":\"overlay\",\"size\":10,\"solidity\":0.2}},\"type\":\"barpolar\"}],\"pie\":[{\"automargin\":true,\"type\":\"pie\"}]},\"layout\":{\"autotypenumbers\":\"strict\",\"colorway\":[\"#636efa\",\"#EF553B\",\"#00cc96\",\"#ab63fa\",\"#FFA15A\",\"#19d3f3\",\"#FF6692\",\"#B6E880\",\"#FF97FF\",\"#FECB52\"],\"font\":{\"color\":\"#2a3f5f\"},\"hovermode\":\"closest\",\"hoverlabel\":{\"align\":\"left\"},\"paper_bgcolor\":\"white\",\"plot_bgcolor\":\"#E5ECF6\",\"polar\":{\"bgcolor\":\"#E5ECF6\",\"angularaxis\":{\"gridcolor\":\"white\",\"linecolor\":\"white\",\"ticks\":\"\"},\"radialaxis\":{\"gridcolor\":\"white\",\"linecolor\":\"white\",\"ticks\":\"\"}},\"ternary\":{\"bgcolor\":\"#E5ECF6\",\"aaxis\":{\"gridcolor\":\"white\",\"linecolor\":\"white\",\"ticks\":\"\"},\"baxis\":{\"gridcolor\":\"white\",\"linecolor\":\"white\",\"ticks\":\"\"},\"caxis\":{\"gridcolor\":\"white\",\"linecolor\":\"white\",\"ticks\":\"\"}},\"coloraxis\":{\"colorbar\":{\"outlinewidth\":0,\"ticks\":\"\"}},\"colorscale\":{\"sequential\":[[0.0,\"#0d0887\"],[0.1111111111111111,\"#46039f\"],[0.2222222222222222,\"#7201a8\"],[0.3333333333333333,\"#9c179e\"],[0.4444444444444444,\"#bd3786\"],[0.5555555555555556,\"#d8576b\"],[0.6666666666666666,\"#ed7953\"],[0.7777777777777778,\"#fb9f3a\"],[0.8888888888888888,\"#fdca26\"],[1.0,\"#f0f921\"]],\"sequentialminus\":[[0.0,\"#0d0887\"],[0.1111111111111111,\"#46039f\"],[0.2222222222222222,\"#7201a8\"],[0.3333333333333333,\"#9c179e\"],[0.4444444444444444,\"#bd3786\"],[0.5555555555555556,\"#d8576b\"],[0.6666666666666666,\"#ed7953\"],[0.7777777777777778,\"#fb9f3a\"],[0.8888888888888888,\"#fdca26\"],[1.0,\"#f0f921\"]],\"diverging\":[[0,\"#8e0152\"],[0.1,\"#c51b7d\"],[0.2,\"#de77ae\"],[0.3,\"#f1b6da\"],[0.4,\"#fde0ef\"],[0.5,\"#f7f7f7\"],[0.6,\"#e6f5d0\"],[0.7,\"#b8e186\"],[0.8,\"#7fbc41\"],[0.9,\"#4d9221\"],[1,\"#276419\"]]},\"xaxis\":{\"gridcolor\":\"white\",\"linecolor\":\"white\",\"ticks\":\"\",\"title\":{\"standoff\":15},\"zerolinecolor\":\"white\",\"automargin\":true,\"zerolinewidth\":2},\"yaxis\":{\"gridcolor\":\"white\",\"linecolor\":\"white\",\"ticks\":\"\",\"title\":{\"standoff\":15},\"zerolinecolor\":\"white\",\"automargin\":true,\"zerolinewidth\":2},\"scene\":{\"xaxis\":{\"backgroundcolor\":\"#E5ECF6\",\"gridcolor\":\"white\",\"linecolor\":\"white\",\"showbackground\":true,\"ticks\":\"\",\"zerolinecolor\":\"white\",\"gridwidth\":2},\"yaxis\":{\"backgroundcolor\":\"#E5ECF6\",\"gridcolor\":\"white\",\"linecolor\":\"white\",\"showbackground\":true,\"ticks\":\"\",\"zerolinecolor\":\"white\",\"gridwidth\":2},\"zaxis\":{\"backgroundcolor\":\"#E5ECF6\",\"gridcolor\":\"white\",\"linecolor\":\"white\",\"showbackground\":true,\"ticks\":\"\",\"zerolinecolor\":\"white\",\"gridwidth\":2}},\"shapedefaults\":{\"line\":{\"color\":\"#2a3f5f\"}},\"annotationdefaults\":{\"arrowcolor\":\"#2a3f5f\",\"arrowhead\":0,\"arrowwidth\":1},\"geo\":{\"bgcolor\":\"white\",\"landcolor\":\"#E5ECF6\",\"subunitcolor\":\"white\",\"showland\":true,\"showlakes\":true,\"lakecolor\":\"white\"},\"title\":{\"x\":0.05},\"mapbox\":{\"style\":\"light\"}}},\"geo\":{\"domain\":{\"x\":[0.0,1.0],\"y\":[0.0,1.0]},\"center\":{}},\"legend\":{\"title\":{\"text\":\"postal_code\"},\"tracegroupgap\":0,\"itemsizing\":\"constant\"},\"margin\":{\"t\":60},\"title\":{\"text\":\"World map\",\"x\":0.5}},                        {\"responsive\": true}                    )                };                            </script>        </div>"
      ],
      "text/plain": [
       "Figure({\n",
       "    'data': [{'geo': 'geo',\n",
       "              'hovertemplate': ('<b>%{hovertext}</b><br><br>pos' ... '}<br>lon=%{lon}<extra></extra>'),\n",
       "              'hovertext': array(['03100'], dtype=object),\n",
       "              'lat': array([46.34392097]),\n",
       "              'legendgroup': '03100',\n",
       "              'lon': array([2.59412756]),\n",
       "              'marker': {'color': '#636efa', 'size': array([1]), 'sizemode': 'area', 'sizeref': 0.005, 'symbol': 'circle'},\n",
       "              'mode': 'markers',\n",
       "              'name': '03100',\n",
       "              'showlegend': True,\n",
       "              'type': 'scattergeo'},\n",
       "             {'geo': 'geo',\n",
       "              'hovertemplate': ('<b>%{hovertext}</b><br><br>pos' ... '}<br>lon=%{lon}<extra></extra>'),\n",
       "              'hovertext': array(['06200'], dtype=object),\n",
       "              'lat': array([43.67991951]),\n",
       "              'legendgroup': '06200',\n",
       "              'lon': array([7.21034937]),\n",
       "              'marker': {'color': '#EF553B', 'size': array([1]), 'sizemode': 'area', 'sizeref': 0.005, 'symbol': 'circle'},\n",
       "              'mode': 'markers',\n",
       "              'name': '06200',\n",
       "              'showlegend': True,\n",
       "              'type': 'scattergeo'},\n",
       "             {'geo': 'geo',\n",
       "              'hovertemplate': ('<b>%{hovertext}</b><br><br>pos' ... '}<br>lon=%{lon}<extra></extra>'),\n",
       "              'hovertext': array(['12000'], dtype=object),\n",
       "              'lat': array([44.35336937]),\n",
       "              'legendgroup': '12000',\n",
       "              'lon': array([2.57210811]),\n",
       "              'marker': {'color': '#00cc96', 'size': array([1]), 'sizemode': 'area', 'sizeref': 0.005, 'symbol': 'circle'},\n",
       "              'mode': 'markers',\n",
       "              'name': '12000',\n",
       "              'showlegend': True,\n",
       "              'type': 'scattergeo'},\n",
       "             {'geo': 'geo',\n",
       "              'hovertemplate': ('<b>%{hovertext}</b><br><br>pos' ... '}<br>lon=%{lon}<extra></extra>'),\n",
       "              'hovertext': array(['17100'], dtype=object),\n",
       "              'lat': array([45.74908525]),\n",
       "              'legendgroup': '17100',\n",
       "              'lon': array([-0.62578625]),\n",
       "              'marker': {'color': '#ab63fa', 'size': array([2]), 'sizemode': 'area', 'sizeref': 0.005, 'symbol': 'circle'},\n",
       "              'mode': 'markers',\n",
       "              'name': '17100',\n",
       "              'showlegend': True,\n",
       "              'type': 'scattergeo'},\n",
       "             {'geo': 'geo',\n",
       "              'hovertemplate': ('<b>%{hovertext}</b><br><br>pos' ... '}<br>lon=%{lon}<extra></extra>'),\n",
       "              'hovertext': array(['21000'], dtype=object),\n",
       "              'lat': array([47.32602162]),\n",
       "              'legendgroup': '21000',\n",
       "              'lon': array([5.04486234]),\n",
       "              'marker': {'color': '#FFA15A', 'size': array([1]), 'sizemode': 'area', 'sizeref': 0.005, 'symbol': 'circle'},\n",
       "              'mode': 'markers',\n",
       "              'name': '21000',\n",
       "              'showlegend': True,\n",
       "              'type': 'scattergeo'},\n",
       "             {'geo': 'geo',\n",
       "              'hovertemplate': ('<b>%{hovertext}</b><br><br>pos' ... '}<br>lon=%{lon}<extra></extra>'),\n",
       "              'hovertext': array(['23000'], dtype=object),\n",
       "              'lat': array([46.16948466]),\n",
       "              'legendgroup': '23000',\n",
       "              'lon': array([1.87385974]),\n",
       "              'marker': {'color': '#19d3f3', 'size': array([1]), 'sizemode': 'area', 'sizeref': 0.005, 'symbol': 'circle'},\n",
       "              'mode': 'markers',\n",
       "              'name': '23000',\n",
       "              'showlegend': True,\n",
       "              'type': 'scattergeo'},\n",
       "             {'geo': 'geo',\n",
       "              'hovertemplate': ('<b>%{hovertext}</b><br><br>pos' ... '}<br>lon=%{lon}<extra></extra>'),\n",
       "              'hovertext': array(['42300'], dtype=object),\n",
       "              'lat': array([46.03398703]),\n",
       "              'legendgroup': '42300',\n",
       "              'lon': array([4.06130756]),\n",
       "              'marker': {'color': '#FF6692', 'size': array([2]), 'sizemode': 'area', 'sizeref': 0.005, 'symbol': 'circle'},\n",
       "              'mode': 'markers',\n",
       "              'name': '42300',\n",
       "              'showlegend': True,\n",
       "              'type': 'scattergeo'},\n",
       "             {'geo': 'geo',\n",
       "              'hovertemplate': ('<b>%{hovertext}</b><br><br>pos' ... '}<br>lon=%{lon}<extra></extra>'),\n",
       "              'hovertext': array(['44120'], dtype=object),\n",
       "              'lat': array([47.17068399]),\n",
       "              'legendgroup': '44120',\n",
       "              'lon': array([-1.48146834]),\n",
       "              'marker': {'color': '#B6E880', 'size': array([1]), 'sizemode': 'area', 'sizeref': 0.005, 'symbol': 'circle'},\n",
       "              'mode': 'markers',\n",
       "              'name': '44120',\n",
       "              'showlegend': True,\n",
       "              'type': 'scattergeo'},\n",
       "             {'geo': 'geo',\n",
       "              'hovertemplate': ('<b>%{hovertext}</b><br><br>pos' ... '}<br>lon=%{lon}<extra></extra>'),\n",
       "              'hovertext': array(['47300'], dtype=object),\n",
       "              'lat': array([44.40285867]),\n",
       "              'legendgroup': '47300',\n",
       "              'lon': array([0.69846364]),\n",
       "              'marker': {'color': '#FF97FF', 'size': array([1]), 'sizemode': 'area', 'sizeref': 0.005, 'symbol': 'circle'},\n",
       "              'mode': 'markers',\n",
       "              'name': '47300',\n",
       "              'showlegend': True,\n",
       "              'type': 'scattergeo'},\n",
       "             {'geo': 'geo',\n",
       "              'hovertemplate': ('<b>%{hovertext}</b><br><br>pos' ... '}<br>lon=%{lon}<extra></extra>'),\n",
       "              'hovertext': array(['59150'], dtype=object),\n",
       "              'lat': array([50.66667109]),\n",
       "              'legendgroup': '59150',\n",
       "              'lon': array([3.20441137]),\n",
       "              'marker': {'color': '#FECB52', 'size': array([1]), 'sizemode': 'area', 'sizeref': 0.005, 'symbol': 'circle'},\n",
       "              'mode': 'markers',\n",
       "              'name': '59150',\n",
       "              'showlegend': True,\n",
       "              'type': 'scattergeo'},\n",
       "             {'geo': 'geo',\n",
       "              'hovertemplate': ('<b>%{hovertext}</b><br><br>pos' ... '}<br>lon=%{lon}<extra></extra>'),\n",
       "              'hovertext': array(['59430'], dtype=object),\n",
       "              'lat': array([51.03021607]),\n",
       "              'legendgroup': '59430',\n",
       "              'lon': array([2.33608818]),\n",
       "              'marker': {'color': '#636efa', 'size': array([2]), 'sizemode': 'area', 'sizeref': 0.005, 'symbol': 'circle'},\n",
       "              'mode': 'markers',\n",
       "              'name': '59430',\n",
       "              'showlegend': True,\n",
       "              'type': 'scattergeo'},\n",
       "             {'geo': 'geo',\n",
       "              'hovertemplate': ('<b>%{hovertext}</b><br><br>pos' ... '}<br>lon=%{lon}<extra></extra>'),\n",
       "              'hovertext': array(['59493'], dtype=object),\n",
       "              'lat': array([50.61758126]),\n",
       "              'legendgroup': '59493',\n",
       "              'lon': array([3.16066156]),\n",
       "              'marker': {'color': '#EF553B', 'size': array([1]), 'sizemode': 'area', 'sizeref': 0.005, 'symbol': 'circle'},\n",
       "              'mode': 'markers',\n",
       "              'name': '59493',\n",
       "              'showlegend': True,\n",
       "              'type': 'scattergeo'},\n",
       "             {'geo': 'geo',\n",
       "              'hovertemplate': ('<b>%{hovertext}</b><br><br>pos' ... '}<br>lon=%{lon}<extra></extra>'),\n",
       "              'hovertext': array(['67100'], dtype=object),\n",
       "              'lat': array([48.56480236]),\n",
       "              'legendgroup': '67100',\n",
       "              'lon': array([7.76115178]),\n",
       "              'marker': {'color': '#00cc96', 'size': array([1]), 'sizemode': 'area', 'sizeref': 0.005, 'symbol': 'circle'},\n",
       "              'mode': 'markers',\n",
       "              'name': '67100',\n",
       "              'showlegend': True,\n",
       "              'type': 'scattergeo'},\n",
       "             {'geo': 'geo',\n",
       "              'hovertemplate': ('<b>%{hovertext}</b><br><br>pos' ... '}<br>lon=%{lon}<extra></extra>'),\n",
       "              'hovertext': array(['68300'], dtype=object),\n",
       "              'lat': array([47.59992182]),\n",
       "              'legendgroup': '68300',\n",
       "              'lon': array([7.54565833]),\n",
       "              'marker': {'color': '#ab63fa', 'size': array([1]), 'sizemode': 'area', 'sizeref': 0.005, 'symbol': 'circle'},\n",
       "              'mode': 'markers',\n",
       "              'name': '68300',\n",
       "              'showlegend': True,\n",
       "              'type': 'scattergeo'},\n",
       "             {'geo': 'geo',\n",
       "              'hovertemplate': ('<b>%{hovertext}</b><br><br>pos' ... '}<br>lon=%{lon}<extra></extra>'),\n",
       "              'hovertext': array(['69009'], dtype=object),\n",
       "              'lat': array([45.77939055]),\n",
       "              'legendgroup': '69009',\n",
       "              'lon': array([4.80831624]),\n",
       "              'marker': {'color': '#FFA15A', 'size': array([1]), 'sizemode': 'area', 'sizeref': 0.005, 'symbol': 'circle'},\n",
       "              'mode': 'markers',\n",
       "              'name': '69009',\n",
       "              'showlegend': True,\n",
       "              'type': 'scattergeo'},\n",
       "             {'geo': 'geo',\n",
       "              'hovertemplate': ('<b>%{hovertext}</b><br><br>pos' ... '}<br>lon=%{lon}<extra></extra>'),\n",
       "              'hovertext': array(['75014'], dtype=object),\n",
       "              'lat': array([48.83052209]),\n",
       "              'legendgroup': '75014',\n",
       "              'lon': array([2.32526425]),\n",
       "              'marker': {'color': '#19d3f3', 'size': array([1]), 'sizemode': 'area', 'sizeref': 0.005, 'symbol': 'circle'},\n",
       "              'mode': 'markers',\n",
       "              'name': '75014',\n",
       "              'showlegend': True,\n",
       "              'type': 'scattergeo'},\n",
       "             {'geo': 'geo',\n",
       "              'hovertemplate': ('<b>%{hovertext}</b><br><br>pos' ... '}<br>lon=%{lon}<extra></extra>'),\n",
       "              'hovertext': array(['76120'], dtype=object),\n",
       "              'lat': array([49.41068287]),\n",
       "              'legendgroup': '76120',\n",
       "              'lon': array([1.05437924]),\n",
       "              'marker': {'color': '#FF6692', 'size': array([1]), 'sizemode': 'area', 'sizeref': 0.005, 'symbol': 'circle'},\n",
       "              'mode': 'markers',\n",
       "              'name': '76120',\n",
       "              'showlegend': True,\n",
       "              'type': 'scattergeo'},\n",
       "             {'geo': 'geo',\n",
       "              'hovertemplate': ('<b>%{hovertext}</b><br><br>pos' ... '}<br>lon=%{lon}<extra></extra>'),\n",
       "              'hovertext': array(['76130'], dtype=object),\n",
       "              'lat': array([49.46224713]),\n",
       "              'legendgroup': '76130',\n",
       "              'lon': array([1.08104553]),\n",
       "              'marker': {'color': '#B6E880', 'size': array([1]), 'sizemode': 'area', 'sizeref': 0.005, 'symbol': 'circle'},\n",
       "              'mode': 'markers',\n",
       "              'name': '76130',\n",
       "              'showlegend': True,\n",
       "              'type': 'scattergeo'},\n",
       "             {'geo': 'geo',\n",
       "              'hovertemplate': ('<b>%{hovertext}</b><br><br>pos' ... '}<br>lon=%{lon}<extra></extra>'),\n",
       "              'hovertext': array(['77000'], dtype=object),\n",
       "              'lat': array([48.53976241]),\n",
       "              'legendgroup': '77000',\n",
       "              'lon': array([2.66098841]),\n",
       "              'marker': {'color': '#FF97FF', 'size': array([1]), 'sizemode': 'area', 'sizeref': 0.005, 'symbol': 'circle'},\n",
       "              'mode': 'markers',\n",
       "              'name': '77000',\n",
       "              'showlegend': True,\n",
       "              'type': 'scattergeo'},\n",
       "             {'geo': 'geo',\n",
       "              'hovertemplate': ('<b>%{hovertext}</b><br><br>pos' ... '}<br>lon=%{lon}<extra></extra>'),\n",
       "              'hovertext': array(['77190'], dtype=object),\n",
       "              'lat': array([48.51373048]),\n",
       "              'legendgroup': '77190',\n",
       "              'lon': array([2.6263972]),\n",
       "              'marker': {'color': '#FECB52', 'size': array([1]), 'sizemode': 'area', 'sizeref': 0.005, 'symbol': 'circle'},\n",
       "              'mode': 'markers',\n",
       "              'name': '77190',\n",
       "              'showlegend': True,\n",
       "              'type': 'scattergeo'},\n",
       "             {'geo': 'geo',\n",
       "              'hovertemplate': ('<b>%{hovertext}</b><br><br>pos' ... '}<br>lon=%{lon}<extra></extra>'),\n",
       "              'hovertext': array(['77270'], dtype=object),\n",
       "              'lat': array([48.94721752]),\n",
       "              'legendgroup': '77270',\n",
       "              'lon': array([2.61168592]),\n",
       "              'marker': {'color': '#636efa', 'size': array([1]), 'sizemode': 'area', 'sizeref': 0.005, 'symbol': 'circle'},\n",
       "              'mode': 'markers',\n",
       "              'name': '77270',\n",
       "              'showlegend': True,\n",
       "              'type': 'scattergeo'},\n",
       "             {'geo': 'geo',\n",
       "              'hovertemplate': ('<b>%{hovertext}</b><br><br>pos' ... '}<br>lon=%{lon}<extra></extra>'),\n",
       "              'hovertext': array(['78370'], dtype=object),\n",
       "              'lat': array([48.82670768]),\n",
       "              'legendgroup': '78370',\n",
       "              'lon': array([1.9502827]),\n",
       "              'marker': {'color': '#EF553B', 'size': array([1]), 'sizemode': 'area', 'sizeref': 0.005, 'symbol': 'circle'},\n",
       "              'mode': 'markers',\n",
       "              'name': '78370',\n",
       "              'showlegend': True,\n",
       "              'type': 'scattergeo'},\n",
       "             {'geo': 'geo',\n",
       "              'hovertemplate': ('<b>%{hovertext}</b><br><br>pos' ... '}<br>lon=%{lon}<extra></extra>'),\n",
       "              'hovertext': array(['83000'], dtype=object),\n",
       "              'lat': array([43.12450795]),\n",
       "              'legendgroup': '83000',\n",
       "              'lon': array([5.93555399]),\n",
       "              'marker': {'color': '#00cc96', 'size': array([2]), 'sizemode': 'area', 'sizeref': 0.005, 'symbol': 'circle'},\n",
       "              'mode': 'markers',\n",
       "              'name': '83000',\n",
       "              'showlegend': True,\n",
       "              'type': 'scattergeo'},\n",
       "             {'geo': 'geo',\n",
       "              'hovertemplate': ('<b>%{hovertext}</b><br><br>pos' ... '}<br>lon=%{lon}<extra></extra>'),\n",
       "              'hovertext': array(['83300'], dtype=object),\n",
       "              'lat': array([43.53509167]),\n",
       "              'legendgroup': '83300',\n",
       "              'lon': array([6.45949938]),\n",
       "              'marker': {'color': '#ab63fa', 'size': array([1]), 'sizemode': 'area', 'sizeref': 0.005, 'symbol': 'circle'},\n",
       "              'mode': 'markers',\n",
       "              'name': '83300',\n",
       "              'showlegend': True,\n",
       "              'type': 'scattergeo'},\n",
       "             {'geo': 'geo',\n",
       "              'hovertemplate': ('<b>%{hovertext}</b><br><br>pos' ... '}<br>lon=%{lon}<extra></extra>'),\n",
       "              'hovertext': array(['84000'], dtype=object),\n",
       "              'lat': array([43.94203851]),\n",
       "              'legendgroup': '84000',\n",
       "              'lon': array([4.81630206]),\n",
       "              'marker': {'color': '#FFA15A', 'size': array([1]), 'sizemode': 'area', 'sizeref': 0.005, 'symbol': 'circle'},\n",
       "              'mode': 'markers',\n",
       "              'name': '84000',\n",
       "              'showlegend': True,\n",
       "              'type': 'scattergeo'},\n",
       "             {'geo': 'geo',\n",
       "              'hovertemplate': ('<b>%{hovertext}</b><br><br>pos' ... '}<br>lon=%{lon}<extra></extra>'),\n",
       "              'hovertext': array(['85000'], dtype=object),\n",
       "              'lat': array([46.68087883]),\n",
       "              'legendgroup': '85000',\n",
       "              'lon': array([-1.42489045]),\n",
       "              'marker': {'color': '#19d3f3', 'size': array([1]), 'sizemode': 'area', 'sizeref': 0.005, 'symbol': 'circle'},\n",
       "              'mode': 'markers',\n",
       "              'name': '85000',\n",
       "              'showlegend': True,\n",
       "              'type': 'scattergeo'},\n",
       "             {'geo': 'geo',\n",
       "              'hovertemplate': ('<b>%{hovertext}</b><br><br>pos' ... '}<br>lon=%{lon}<extra></extra>'),\n",
       "              'hovertext': array(['92290'], dtype=object),\n",
       "              'lat': array([48.77039024]),\n",
       "              'legendgroup': '92290',\n",
       "              'lon': array([2.26441565]),\n",
       "              'marker': {'color': '#FF6692', 'size': array([1]), 'sizemode': 'area', 'sizeref': 0.005, 'symbol': 'circle'},\n",
       "              'mode': 'markers',\n",
       "              'name': '92290',\n",
       "              'showlegend': True,\n",
       "              'type': 'scattergeo'},\n",
       "             {'geo': 'geo',\n",
       "              'hovertemplate': ('<b>%{hovertext}</b><br><br>pos' ... '}<br>lon=%{lon}<extra></extra>'),\n",
       "              'hovertext': array(['92360'], dtype=object),\n",
       "              'lat': array([48.78758432]),\n",
       "              'legendgroup': '92360',\n",
       "              'lon': array([2.2268341]),\n",
       "              'marker': {'color': '#B6E880', 'size': array([2]), 'sizemode': 'area', 'sizeref': 0.005, 'symbol': 'circle'},\n",
       "              'mode': 'markers',\n",
       "              'name': '92360',\n",
       "              'showlegend': True,\n",
       "              'type': 'scattergeo'},\n",
       "             {'geo': 'geo',\n",
       "              'hovertemplate': ('<b>%{hovertext}</b><br><br>pos' ... '}<br>lon=%{lon}<extra></extra>'),\n",
       "              'hovertext': array(['93120'], dtype=object),\n",
       "              'lat': array([48.92805007]),\n",
       "              'legendgroup': '93120',\n",
       "              'lon': array([2.39588118]),\n",
       "              'marker': {'color': '#FF97FF', 'size': array([1]), 'sizemode': 'area', 'sizeref': 0.005, 'symbol': 'circle'},\n",
       "              'mode': 'markers',\n",
       "              'name': '93120',\n",
       "              'showlegend': True,\n",
       "              'type': 'scattergeo'},\n",
       "             {'geo': 'geo',\n",
       "              'hovertemplate': ('<b>%{hovertext}</b><br><br>pos' ... '}<br>lon=%{lon}<extra></extra>'),\n",
       "              'hovertext': array(['93240'], dtype=object),\n",
       "              'lat': array([48.95787335]),\n",
       "              'legendgroup': '93240',\n",
       "              'lon': array([2.37791275]),\n",
       "              'marker': {'color': '#FECB52', 'size': array([1]), 'sizemode': 'area', 'sizeref': 0.005, 'symbol': 'circle'},\n",
       "              'mode': 'markers',\n",
       "              'name': '93240',\n",
       "              'showlegend': True,\n",
       "              'type': 'scattergeo'},\n",
       "             {'geo': 'geo',\n",
       "              'hovertemplate': ('<b>%{hovertext}</b><br><br>pos' ... '}<br>lon=%{lon}<extra></extra>'),\n",
       "              'hovertext': array(['93400'], dtype=object),\n",
       "              'lat': array([48.90810612]),\n",
       "              'legendgroup': '93400',\n",
       "              'lon': array([2.33693581]),\n",
       "              'marker': {'color': '#636efa', 'size': array([2]), 'sizemode': 'area', 'sizeref': 0.005, 'symbol': 'circle'},\n",
       "              'mode': 'markers',\n",
       "              'name': '93400',\n",
       "              'showlegend': True,\n",
       "              'type': 'scattergeo'},\n",
       "             {'geo': 'geo',\n",
       "              'hovertemplate': ('<b>%{hovertext}</b><br><br>pos' ... '}<br>lon=%{lon}<extra></extra>'),\n",
       "              'hovertext': array(['94270'], dtype=object),\n",
       "              'lat': array([48.81232889]),\n",
       "              'legendgroup': '94270',\n",
       "              'lon': array([2.36055479]),\n",
       "              'marker': {'color': '#EF553B', 'size': array([2]), 'sizemode': 'area', 'sizeref': 0.005, 'symbol': 'circle'},\n",
       "              'mode': 'markers',\n",
       "              'name': '94270',\n",
       "              'showlegend': True,\n",
       "              'type': 'scattergeo'},\n",
       "             {'geo': 'geo',\n",
       "              'hovertemplate': ('<b>%{hovertext}</b><br><br>pos' ... '}<br>lon=%{lon}<extra></extra>'),\n",
       "              'hovertext': array(['95000'], dtype=object),\n",
       "              'lat': array([49.03967725]),\n",
       "              'legendgroup': '95000',\n",
       "              'lon': array([2.0757048]),\n",
       "              'marker': {'color': '#00cc96', 'size': array([1]), 'sizemode': 'area', 'sizeref': 0.005, 'symbol': 'circle'},\n",
       "              'mode': 'markers',\n",
       "              'name': '95000',\n",
       "              'showlegend': True,\n",
       "              'type': 'scattergeo'},\n",
       "             {'geo': 'geo',\n",
       "              'hovertemplate': ('<b>%{hovertext}</b><br><br>pos' ... '}<br>lon=%{lon}<extra></extra>'),\n",
       "              'hovertext': array(['95110'], dtype=object),\n",
       "              'lat': array([48.97278914]),\n",
       "              'legendgroup': '95110',\n",
       "              'lon': array([2.25352734]),\n",
       "              'marker': {'color': '#ab63fa', 'size': array([1]), 'sizemode': 'area', 'sizeref': 0.005, 'symbol': 'circle'},\n",
       "              'mode': 'markers',\n",
       "              'name': '95110',\n",
       "              'showlegend': True,\n",
       "              'type': 'scattergeo'},\n",
       "             {'geo': 'geo',\n",
       "              'hovertemplate': ('<b>%{hovertext}</b><br><br>pos' ... '}<br>lon=%{lon}<extra></extra>'),\n",
       "              'hovertext': array(['95800'], dtype=object),\n",
       "              'lat': array([49.04604892]),\n",
       "              'legendgroup': '95800',\n",
       "              'lon': array([2.02797813]),\n",
       "              'marker': {'color': '#FFA15A', 'size': array([1]), 'sizemode': 'area', 'sizeref': 0.005, 'symbol': 'circle'},\n",
       "              'mode': 'markers',\n",
       "              'name': '95800',\n",
       "              'showlegend': True,\n",
       "              'type': 'scattergeo'},\n",
       "             {'geo': 'geo',\n",
       "              'hovertemplate': ('<b>%{hovertext}</b><br><br>pos' ... '}<br>lon=%{lon}<extra></extra>'),\n",
       "              'hovertext': array(['97450'], dtype=object),\n",
       "              'lat': array([-21.28463903]),\n",
       "              'legendgroup': '97450',\n",
       "              'lon': array([55.40802608]),\n",
       "              'marker': {'color': '#19d3f3', 'size': array([1]), 'sizemode': 'area', 'sizeref': 0.005, 'symbol': 'circle'},\n",
       "              'mode': 'markers',\n",
       "              'name': '97450',\n",
       "              'showlegend': True,\n",
       "              'type': 'scattergeo'}],\n",
       "    'layout': {'geo': {'center': {}, 'domain': {'x': [0.0, 1.0], 'y': [0.0, 1.0]}},\n",
       "               'legend': {'itemsizing': 'constant', 'title': {'text': 'postal_code'}, 'tracegroupgap': 0},\n",
       "               'margin': {'t': 60},\n",
       "               'template': '...',\n",
       "               'title': {'text': 'World map', 'x': 0.5}}\n",
       "})"
      ]
     },
     "execution_count": 49,
     "metadata": {},
     "output_type": "execute_result"
    }
   ],
   "source": [
    "lat=np.array([tx[0] for tx in count_per_area['localisation']])\n",
    "lon=np.array([tx[1] for tx in count_per_area['localisation']])\n",
    "\n",
    "fig = px.scatter_geo(count_per_area,lat=lat,lon=lon, hover_name=\"postal_code\",color='postal_code',size='nom')\n",
    "fig.update_layout(title = 'World map', title_x=0.5)\n",
    "#fig.show()"
   ]
  },
  {
   "cell_type": "markdown",
   "metadata": {},
   "source": [
    "## Revenu fiscal de référence"
   ]
  },
  {
   "cell_type": "code",
   "execution_count": 34,
   "metadata": {},
   "outputs": [
    {
     "name": "stdout",
     "output_type": "stream",
     "text": [
      " Valeur Moyenne :53274.41860465116\n",
      " Valeur Max :98389\n",
      " Valeur Min :4362\n"
     ]
    }
   ],
   "source": [
    "print(\" Valeur Moyenne :{}\".format(taxes['revenu_fiscal_de_ref'].mean()))\n",
    "print(\" Valeur Max :{}\".format(taxes['revenu_fiscal_de_ref'].max()))\n",
    "print(\" Valeur Min :{}\".format(taxes['revenu_fiscal_de_ref'].min()))\n"
   ]
  },
  {
   "cell_type": "code",
   "execution_count": 36,
   "metadata": {},
   "outputs": [
    {
     "data": {
      "image/png": "[encoded data removed]",
      "text/plain": [
       "<Figure size 1000x600 with 1 Axes>"
      ]
     },
     "metadata": {},
     "output_type": "display_data"
    }
   ],
   "source": [
    "plt.figure(figsize=(10,6))\n",
    "sns.violinplot(data=taxes,x='nb_parts')\n",
    "plt.title(\"Statistiques sur le revenu fiscal de référence\")\n",
    "plt.show()"
   ]
  },
  {
   "cell_type": "code",
   "execution_count": 38,
   "metadata": {},
   "outputs": [
    {
     "name": "stderr",
     "output_type": "stream",
     "text": [
      "/tmp/ipykernel_25097/2160336726.py:2: FutureWarning:\n",
      "\n",
      "The default value of numeric_only in DataFrameGroupBy.mean is deprecated. In a future version, numeric_only will default to False. Either specify numeric_only or select only columns which should be valid for the function.\n",
      "\n"
     ]
    },
    {
     "data": {
      "image/png": "[encoded data removed]",
      "text/plain": [
       "<Figure size 1000x600 with 1 Axes>"
      ]
     },
     "metadata": {},
     "output_type": "display_data"
    }
   ],
   "source": [
    "# Revenus moyens par département\n",
    "revenus_par_zone = taxes.groupby(['postal_code','revenu_fiscal_de_ref']).agg('mean').reset_index().sort_values(by='revenu_fiscal_de_ref', ascending=False)\n",
    "\n",
    "# Le top 5 des départements avec le plus grand revenu moyen\n",
    "plt.figure(figsize=(10,6))\n",
    "sns.barplot(x=revenus_par_zone['postal_code'].head(5),y=revenus_par_zone['revenu_fiscal_de_ref'].head(5))\n",
    "plt.xticks(rotation=45)\n",
    "plt.title(\"Revenus moyens par département\")\n",
    "plt.show()"
   ]
  },
  {
   "cell_type": "markdown",
   "metadata": {},
   "source": [
    "### Les parts fiscales"
   ]
  },
  {
   "cell_type": "code",
   "execution_count": 50,
   "metadata": {},
   "outputs": [
    {
     "name": "stdout",
     "output_type": "stream",
     "text": [
      "La proportion est : 0.0%\n"
     ]
    }
   ],
   "source": [
    "# La proportion de déclarants avec 1 seule part fiscale\n",
    "one_part = taxes[taxes.nb_parts == 1]\n",
    "prop = len(one_part)/len(taxes) \n",
    "print(\"La proportion est : {}%\".format(prop))"
   ]
  }
 ],
 "metadata": {
  "kernelspec": {
   "display_name": "Python 3.8.0 ('env': venv)",
   "language": "python",
   "name": "python3"
  },
  "language_info": {
   "codemirror_mode": {
    "name": "ipython",
    "version": 3
   },
   "file_extension": ".py",
   "mimetype": "text/x-python",
   "name": "python",
   "nbconvert_exporter": "python",
   "pygments_lexer": "ipython3",
   "version": "3.8.0"
  },
  "orig_nbformat": 4,
  "vscode": {
   "interpreter": {
    "hash": "27ad1d4d32ddca2a7238752257f0853b0384fd2d79c3d75b4581a24ca6d30169"
   }
  }
 },
 "nbformat": 4,
 "nbformat_minor": 2
}
